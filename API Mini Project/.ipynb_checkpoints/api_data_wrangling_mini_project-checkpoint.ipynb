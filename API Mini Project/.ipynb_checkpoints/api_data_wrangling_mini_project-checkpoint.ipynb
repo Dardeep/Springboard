{
 "cells": [
  {
   "cell_type": "markdown",
   "metadata": {},
   "source": [
    "This exercise will require you to pull some data from https://data.nasdaq.com/ (formerly Quandl API)."
   ]
  },
  {
   "cell_type": "markdown",
   "metadata": {},
   "source": [
    "As a first step, you will need to register a free account on the https://data.nasdaq.com/ website."
   ]
  },
  {
   "cell_type": "markdown",
   "metadata": {},
   "source": [
    "After you register, you will be provided with a unique API key, that you should store:\n",
    "\n",
    "*Note*: Use a `.env` file and put your key in there and `python-dotenv` to access it in this notebook. \n",
    "\n",
    "The code below uses a key that was used when generating this project but has since been deleted. Never submit your keys to source control. There is a `.env-example` file in this repository to illusrtate what you need. Copy that to a file called `.env` and use your own api key in that `.env` file. Make sure you also have a `.gitignore` file with a line for `.env` added to it. \n",
    "\n",
    "The standard Python gitignore is [here](https://github.com/github/gitignore/blob/master/Python.gitignore) you can just copy that. "
   ]
  },
  {
   "cell_type": "code",
   "execution_count": 1,
   "metadata": {},
   "outputs": [
    {
     "name": "stdout",
     "output_type": "stream",
     "text": [
      "Writing .env\n"
     ]
    }
   ],
   "source": [
    "%%writefile .env\n",
    "NASDAQ_API_KEY=zHgpF1TR9pjzyCds2nfy"
   ]
  },
  {
   "cell_type": "code",
   "execution_count": 3,
   "metadata": {},
   "outputs": [
    {
     "name": "stdout",
     "output_type": "stream",
     "text": [
      "Writing .gitignore\n"
     ]
    }
   ],
   "source": [
    "%%writefile .gitignore\n",
    ".env"
   ]
  },
  {
   "cell_type": "code",
   "execution_count": 1,
   "metadata": {},
   "outputs": [
    {
     "name": "stdout",
     "output_type": "stream",
     "text": [
      "Load Result: True\n",
      "zHgpF1TR9pjzyCds2nfy\n"
     ]
    }
   ],
   "source": [
    "# get api key from your .env file\n",
    "import os\n",
    "from dotenv import load_dotenv\n",
    "\n",
    "load_result = load_dotenv()\n",
    "print(\"Load Result:\", load_result)\n",
    "\n",
    "#load_dotenv()\n",
    "API_KEY = os.getenv('NASDAQ_API_KEY')\n",
    "\n",
    "print(API_KEY)"
   ]
  },
  {
   "cell_type": "markdown",
   "metadata": {},
   "source": [
    "Nasdaq Data has a large number of data sources, but, unfortunately, most of them require a Premium subscription. Still, there are also a good number of free datasets."
   ]
  },
  {
   "cell_type": "markdown",
   "metadata": {},
   "source": [
    "For this mini project, we will focus on equities data from the Frankfurt Stock Exhange (FSE), which is available for free. We'll try and analyze the stock prices of a company called Carl Zeiss Meditec, which manufactures tools for eye examinations, as well as medical lasers for laser eye surgery: https://www.zeiss.com/meditec/int/home.html. The company is listed under the stock ticker AFX_X."
   ]
  },
  {
   "cell_type": "markdown",
   "metadata": {},
   "source": [
    "You can find the detailed Nasdaq Data API instructions here: https://docs.data.nasdaq.com/docs/in-depth-usage"
   ]
  },
  {
   "cell_type": "markdown",
   "metadata": {},
   "source": [
    "While there is a dedicated Python package for connecting to the Nasdaq API, we would prefer that you use the *requests* package, which can be easily downloaded using *pip* or *conda*. You can find the documentation for the package here: http://docs.python-requests.org/en/master/ "
   ]
  },
  {
   "cell_type": "markdown",
   "metadata": {},
   "source": [
    "Finally, apart from the *requests* package, you are encouraged to not use any third party Python packages, such as *pandas*, and instead focus on what's available in the Python Standard Library (the *collections* module might come in handy: https://pymotw.com/3/collections/).\n",
    "Also, since you won't have access to DataFrames, you are encouraged to us Python's native data structures - preferably dictionaries, though some questions can also be answered using lists.\n",
    "You can read more on these data structures here: https://docs.python.org/3/tutorial/datastructures.html"
   ]
  },
  {
   "cell_type": "markdown",
   "metadata": {},
   "source": [
    "Keep in mind that the JSON responses you will be getting from the API map almost one-to-one to Python's dictionaries. Unfortunately, they can be very nested, so make sure you read up on indexing dictionaries in the documentation provided above."
   ]
  },
  {
   "cell_type": "code",
   "execution_count": 3,
   "metadata": {},
   "outputs": [],
   "source": [
    "import requests"
   ]
  },
  {
   "cell_type": "markdown",
   "metadata": {},
   "source": [
    "Note: API's can change a bit with each version, for this exercise it is reccomended to use the nasdaq api at `https://data.nasdaq.com/api/v3/`. This is the same api as what used to be quandl so `https://www.quandl.com/api/v3/` should work too.\n",
    "\n",
    "Hint: We are looking for the `AFX_X` data on the `datasets/FSE/` dataset."
   ]
  },
  {
   "cell_type": "code",
   "execution_count": 34,
   "metadata": {},
   "outputs": [
    {
     "name": "stdout",
     "output_type": "stream",
     "text": [
      "{'dataset_data': {'limit': None, 'transform': None, 'column_index': None, 'column_names': ['Date', 'Open', 'High', 'Low', 'Close', 'Change', 'Traded Volume', 'Turnover', 'Last Price of the Day', 'Daily Traded Units', 'Daily Turnover'], 'start_date': '2015-03-10', 'end_date': '2015-03-11', 'frequency': 'daily', 'data': [['2015-03-11', 24.05, 24.47, 24.01, 24.31, None, 31718.0, 769854.0, None, None, None], ['2015-03-10', 24.0, 24.15, 23.82, 24.08, None, 72769.0, 1747273.0, None, None, None]], 'collapse': None, 'order': None}}\n"
     ]
    }
   ],
   "source": [
    "# Now, call the Nasdaq API and pull out a small sample of the data (only one day) to get a glimpse\n",
    "# into the JSON structure that will be returned\n",
    "url = 'https://data.nasdaq.com/api/v3/datasets/FSE/AFX_X/data.json?api_key='+API_KEY\n",
    "\n",
    "params = {\n",
    "   'start_date': '2015-03-10',\n",
    "    'end_date': '2015-03-11'\n",
    "}\n",
    "\n",
    "res = requests.get(url, params=params)\n",
    "\n",
    "#convert into JSON\n",
    "json1 = res.json()\n",
    "\n",
    "#print JSON\n",
    "print(json1)"
   ]
  },
  {
   "cell_type": "code",
   "execution_count": 4,
   "metadata": {},
   "outputs": [
    {
     "data": {
      "text/plain": [
       "{'dataset': {'id': 10095370,\n",
       "  'dataset_code': 'AFX_X',\n",
       "  'database_code': 'FSE',\n",
       "  'name': 'Carl Zeiss Meditec (AFX_X)',\n",
       "  'description': 'Stock Prices for Carl Zeiss Meditec (2020-11-02) from the Frankfurt Stock Exchange.<br><br>Trading System: Xetra<br><br>ISIN: DE0005313704',\n",
       "  'refreshed_at': '2020-12-01T14:48:09.907Z',\n",
       "  'newest_available_date': '2020-12-01',\n",
       "  'oldest_available_date': '2000-06-07',\n",
       "  'column_names': ['Date',\n",
       "   'Open',\n",
       "   'High',\n",
       "   'Low',\n",
       "   'Close',\n",
       "   'Change',\n",
       "   'Traded Volume',\n",
       "   'Turnover',\n",
       "   'Last Price of the Day',\n",
       "   'Daily Traded Units',\n",
       "   'Daily Turnover'],\n",
       "  'frequency': 'daily',\n",
       "  'type': 'Time Series',\n",
       "  'premium': False,\n",
       "  'limit': None,\n",
       "  'transform': None,\n",
       "  'column_index': None,\n",
       "  'start_date': '2021-01-03',\n",
       "  'end_date': '2020-12-01',\n",
       "  'data': [],\n",
       "  'collapse': None,\n",
       "  'order': None,\n",
       "  'database_id': 6129}}"
      ]
     },
     "execution_count": 4,
     "metadata": {},
     "output_type": "execute_result"
    }
   ],
   "source": [
    "# Inspect the JSON structure of the object you created, and take note of how nested it is,\n",
    "# as well as the overall structure"
   ]
  },
  {
   "cell_type": "markdown",
   "metadata": {},
   "source": [
    "These are your tasks for this mini project:\n",
    "\n",
    "1. Collect data from the Franfurt Stock Exchange, for the ticker AFX_X, for the whole year 2017 (keep in mind that the date format is YYYY-MM-DD).\n",
    "2. Convert the returned JSON object into a Python dictionary.\n",
    "3. Calculate what the highest and lowest opening prices were for the stock in this period.\n",
    "4. What was the largest change in any one day (based on High and Low price)?\n",
    "5. What was the largest change between any two days (based on Closing Price)?\n",
    "6. What was the average daily trading volume during this year?\n",
    "7. (Optional) What was the median trading volume during this year. (Note: you may need to implement your own function for calculating the median.)"
   ]
  },
  {
   "cell_type": "code",
   "execution_count": 72,
   "metadata": {},
   "outputs": [
    {
     "name": "stdout",
     "output_type": "stream",
     "text": [
      "<class 'dict'>\n",
      "Highest opening price: 53.11\n",
      "Lowest opening price: 34.0\n",
      "Largest change in a single day was: 2.8100000000000023\n",
      "Largest change between any 2 days based on closing price is: 2.559999999999995\n",
      "Average daily trading volume is: 89124.33725490196\n",
      "In 2017, the Median trading volume was: 76286.0\n"
     ]
    }
   ],
   "source": [
    "\n",
    "#1. Collect Data for AFX_X for 2017\n",
    "url = 'https://data.nasdaq.com/api/v3/datasets/FSE/AFX_X/data.json?api_key='+API_KEY\n",
    "\n",
    "params = {\n",
    "    'start_date': '2017-01-01',\n",
    "    'end_date': '2017-12-31'\n",
    "}\n",
    "\n",
    "res = requests.get(url, params=params)\n",
    "\n",
    "#2. Convert JSON to Dictionary\n",
    "data = res.json()\n",
    "print(type(data))\n",
    "\n",
    "#3. Calculate what the highest and lowest opening prices in 2017\n",
    "\n",
    "#-------first get the index of the open column and store dataset data\n",
    "open_index = data['dataset_data']['column_names'].index('Open')\n",
    "stock_data = data['dataset_data']['data']\n",
    "\n",
    "#------Get opening prices\n",
    "opening_prices = [daily[open_index] for daily in stock_data if daily[open_index] is not None]\n",
    "\n",
    "\n",
    "print('Highest opening price:', max(opening_prices))\n",
    "print('Lowest opening price:', min(opening_prices))\n",
    "\n",
    "#4. What is the Largest change in any one day\n",
    "\n",
    "#-----Find index for high and low\n",
    "high_index = data['dataset_data']['column_names'].index('High')\n",
    "low_index = data['dataset_data']['column_names'].index('Low')\n",
    "\n",
    "\n",
    "#-----calculate change\n",
    "change = [daily[high_index] - daily[low_index] for daily in stock_data]\n",
    "print('Largest change in a single day was:', max(change))\n",
    "          \n",
    "\n",
    "#5. Largest change between any 2 days based on closing price\n",
    "\n",
    "#-----Find index for closing day\n",
    "close_index = data['dataset_data']['column_names'].index('Close')\n",
    "\n",
    "#-----Closing price\n",
    "closing_price = [daily[close_index] for daily in stock_data]\n",
    "\n",
    "#-----Change\n",
    "change2 = [abs(closing_price[i] - closing_price[i-1]) for i in range(1, len(closing_price))]\n",
    "\n",
    "print('Largest change between any 2 days based on closing price is:', max(change2))\n",
    "\n",
    "#6 What was the average daily trading volume during this year?\n",
    "\n",
    "#----Find index for Trading volue\n",
    "trade_index = data['dataset_data']['column_names'].index(\"Traded Volume\")\n",
    "\n",
    "#----Volume \n",
    "volume = [daily[trade_index] for daily in stock_data]\n",
    "\n",
    "#----Average\n",
    "average_vol = sum(volume)/len(volume)\n",
    "print('Average daily trading volume is:', average_vol)\n",
    "\n",
    "\n",
    "#7. What was the median trading volume during this year.\n",
    "\n",
    "#---sort volume and get length\n",
    "volume_sorted = sorted(volume)\n",
    "n = len(volume_sorted)\n",
    "\n",
    "#Find median\n",
    "if n % 2 == 0:\n",
    "    median_volume = (volume_sorted[n // 2 - 1] + volume_sorted[n // 2]) / 2\n",
    "else:\n",
    "    median_volume = volume_sorted[n // 2]\n",
    "    \n",
    "#Median Print\n",
    "print(\"In 2017, the Median trading volume was:\", median_volume)\n"
   ]
  },
  {
   "cell_type": "code",
   "execution_count": null,
   "metadata": {},
   "outputs": [],
   "source": []
  }
 ],
 "metadata": {
  "interpreter": {
   "hash": "7635eb1b9d0fe97add78a7368b6b431c09bb8ad5c42e437d64abdd99821c31ae"
  },
  "kernelspec": {
   "display_name": "Python 3 (ipykernel)",
   "language": "python",
   "name": "python3"
  },
  "language_info": {
   "codemirror_mode": {
    "name": "ipython",
    "version": 3
   },
   "file_extension": ".py",
   "mimetype": "text/x-python",
   "name": "python",
   "nbconvert_exporter": "python",
   "pygments_lexer": "ipython3",
   "version": "3.11.5"
  }
 },
 "nbformat": 4,
 "nbformat_minor": 4
}
