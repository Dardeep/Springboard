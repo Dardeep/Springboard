{
 "cells": [
  {
   "cell_type": "markdown",
   "id": "b5dea5e9",
   "metadata": {},
   "source": [
    "# Data Wrangling and EDA - Capstone 3\n",
    "\n",
    "\n",
    "There are 3 separate datasets that we have:\n",
    "\n",
    "1) Cities_sensus_data - Has the population and ownership\n",
    "2) Complete_all_cities_daily_climate_data - This is Solar Irradiation data from NASA Solar\n",
    "3) Eia_energy_data - that has monthly energy usage and cost per state\n",
    "\n",
    "We are going to start by taking a look at each of these datasets individually for Data Wrangling, then merge them before we move on to Exploratory Data Analysis. \n",
    "\n",
    "This notebook will be Data Wrangling for EIA Energy Data\n",
    "\n",
    "\n",
    "Column details\n",
    "Period is the date YYYY-MM\n",
    "State ID is the 2 letter stateid that will be dropped.\n",
    "StateDescription is the full name of the state\n",
    "Sector ID is RES for all because we are only focusing on residential market\n",
    "Price - Unit of measure: cents per kilowatthour\n",
    "sales - Unit of measure: million kilowatthours\n",
    "The price and sales unit details will be dropped\n",
    "\n",
    "\n",
    "##### price (cents per kilowatt hour)\n",
    "##### sales (Milion kilowatt hours)"
   ]
  },
  {
   "cell_type": "markdown",
   "id": "a6c0e9d9",
   "metadata": {},
   "source": [
    "### Data Wrangling - EIA Energy Data"
   ]
  },
  {
   "cell_type": "code",
   "execution_count": 1,
   "id": "767ff714",
   "metadata": {},
   "outputs": [],
   "source": [
    "#Imports\n",
    "import pandas as pd\n",
    "import matplotlib.pyplot as plt\n",
    "import seaborn as sns\n",
    "import os\n"
   ]
  },
  {
   "cell_type": "code",
   "execution_count": 2,
   "id": "d09c3fe1",
   "metadata": {},
   "outputs": [
    {
     "data": {
      "text/html": [
       "<div>\n",
       "<style scoped>\n",
       "    .dataframe tbody tr th:only-of-type {\n",
       "        vertical-align: middle;\n",
       "    }\n",
       "\n",
       "    .dataframe tbody tr th {\n",
       "        vertical-align: top;\n",
       "    }\n",
       "\n",
       "    .dataframe thead th {\n",
       "        text-align: right;\n",
       "    }\n",
       "</style>\n",
       "<table border=\"1\" class=\"dataframe\">\n",
       "  <thead>\n",
       "    <tr style=\"text-align: right;\">\n",
       "      <th></th>\n",
       "      <th>period</th>\n",
       "      <th>stateid</th>\n",
       "      <th>stateDescription</th>\n",
       "      <th>sectorid</th>\n",
       "      <th>sectorName</th>\n",
       "      <th>price</th>\n",
       "      <th>sales</th>\n",
       "      <th>price-units</th>\n",
       "      <th>sales-units</th>\n",
       "    </tr>\n",
       "  </thead>\n",
       "  <tbody>\n",
       "    <tr>\n",
       "      <th>0</th>\n",
       "      <td>2024-05</td>\n",
       "      <td>AL</td>\n",
       "      <td>Alabama</td>\n",
       "      <td>RES</td>\n",
       "      <td>residential</td>\n",
       "      <td>14.73</td>\n",
       "      <td>2532.77329</td>\n",
       "      <td>cents per kilowatthour</td>\n",
       "      <td>million kilowatthours</td>\n",
       "    </tr>\n",
       "    <tr>\n",
       "      <th>1</th>\n",
       "      <td>2024-05</td>\n",
       "      <td>MN</td>\n",
       "      <td>Minnesota</td>\n",
       "      <td>RES</td>\n",
       "      <td>residential</td>\n",
       "      <td>15.69</td>\n",
       "      <td>1571.56840</td>\n",
       "      <td>cents per kilowatthour</td>\n",
       "      <td>million kilowatthours</td>\n",
       "    </tr>\n",
       "    <tr>\n",
       "      <th>2</th>\n",
       "      <td>2024-05</td>\n",
       "      <td>MI</td>\n",
       "      <td>Michigan</td>\n",
       "      <td>RES</td>\n",
       "      <td>residential</td>\n",
       "      <td>19.44</td>\n",
       "      <td>2477.25469</td>\n",
       "      <td>cents per kilowatthour</td>\n",
       "      <td>million kilowatthours</td>\n",
       "    </tr>\n",
       "    <tr>\n",
       "      <th>3</th>\n",
       "      <td>2024-05</td>\n",
       "      <td>MA</td>\n",
       "      <td>Massachusetts</td>\n",
       "      <td>RES</td>\n",
       "      <td>residential</td>\n",
       "      <td>28.70</td>\n",
       "      <td>1446.62243</td>\n",
       "      <td>cents per kilowatthour</td>\n",
       "      <td>million kilowatthours</td>\n",
       "    </tr>\n",
       "    <tr>\n",
       "      <th>4</th>\n",
       "      <td>2024-05</td>\n",
       "      <td>MD</td>\n",
       "      <td>Maryland</td>\n",
       "      <td>RES</td>\n",
       "      <td>residential</td>\n",
       "      <td>17.63</td>\n",
       "      <td>1858.93542</td>\n",
       "      <td>cents per kilowatthour</td>\n",
       "      <td>million kilowatthours</td>\n",
       "    </tr>\n",
       "  </tbody>\n",
       "</table>\n",
       "</div>"
      ],
      "text/plain": [
       "    period stateid stateDescription sectorid   sectorName  price       sales  \\\n",
       "0  2024-05      AL          Alabama      RES  residential  14.73  2532.77329   \n",
       "1  2024-05      MN        Minnesota      RES  residential  15.69  1571.56840   \n",
       "2  2024-05      MI         Michigan      RES  residential  19.44  2477.25469   \n",
       "3  2024-05      MA    Massachusetts      RES  residential  28.70  1446.62243   \n",
       "4  2024-05      MD         Maryland      RES  residential  17.63  1858.93542   \n",
       "\n",
       "              price-units            sales-units  \n",
       "0  cents per kilowatthour  million kilowatthours  \n",
       "1  cents per kilowatthour  million kilowatthours  \n",
       "2  cents per kilowatthour  million kilowatthours  \n",
       "3  cents per kilowatthour  million kilowatthours  \n",
       "4  cents per kilowatthour  million kilowatthours  "
      ]
     },
     "execution_count": 2,
     "metadata": {},
     "output_type": "execute_result"
    }
   ],
   "source": [
    "\n",
    "eia_df = pd.read_csv('../../raw/eia_energy_data.csv')\n",
    "\n",
    "eia_df.head()"
   ]
  },
  {
   "cell_type": "code",
   "execution_count": 3,
   "id": "302f7b15",
   "metadata": {},
   "outputs": [
    {
     "name": "stdout",
     "output_type": "stream",
     "text": [
      "<class 'pandas.core.frame.DataFrame'>\n",
      "RangeIndex: 2542 entries, 0 to 2541\n",
      "Data columns (total 9 columns):\n",
      " #   Column            Non-Null Count  Dtype  \n",
      "---  ------            --------------  -----  \n",
      " 0   period            2542 non-null   object \n",
      " 1   stateid           2542 non-null   object \n",
      " 2   stateDescription  2542 non-null   object \n",
      " 3   sectorid          2542 non-null   object \n",
      " 4   sectorName        2542 non-null   object \n",
      " 5   price             2542 non-null   float64\n",
      " 6   sales             2542 non-null   float64\n",
      " 7   price-units       2542 non-null   object \n",
      " 8   sales-units       2542 non-null   object \n",
      "dtypes: float64(2), object(7)\n",
      "memory usage: 178.9+ KB\n"
     ]
    }
   ],
   "source": [
    "eia_df.info()"
   ]
  },
  {
   "cell_type": "markdown",
   "id": "ac8c4cf7",
   "metadata": {},
   "source": [
    "Let's start by dropping the unnecessary colums"
   ]
  },
  {
   "cell_type": "code",
   "execution_count": 14,
   "id": "19671561",
   "metadata": {},
   "outputs": [
    {
     "data": {
      "text/html": [
       "<div>\n",
       "<style scoped>\n",
       "    .dataframe tbody tr th:only-of-type {\n",
       "        vertical-align: middle;\n",
       "    }\n",
       "\n",
       "    .dataframe tbody tr th {\n",
       "        vertical-align: top;\n",
       "    }\n",
       "\n",
       "    .dataframe thead th {\n",
       "        text-align: right;\n",
       "    }\n",
       "</style>\n",
       "<table border=\"1\" class=\"dataframe\">\n",
       "  <thead>\n",
       "    <tr style=\"text-align: right;\">\n",
       "      <th></th>\n",
       "      <th>period</th>\n",
       "      <th>stateDescription</th>\n",
       "      <th>price</th>\n",
       "      <th>sales</th>\n",
       "    </tr>\n",
       "  </thead>\n",
       "  <tbody>\n",
       "    <tr>\n",
       "      <th>0</th>\n",
       "      <td>2024-05</td>\n",
       "      <td>Alabama</td>\n",
       "      <td>14.73</td>\n",
       "      <td>2532.77329</td>\n",
       "    </tr>\n",
       "    <tr>\n",
       "      <th>1</th>\n",
       "      <td>2024-05</td>\n",
       "      <td>Minnesota</td>\n",
       "      <td>15.69</td>\n",
       "      <td>1571.56840</td>\n",
       "    </tr>\n",
       "    <tr>\n",
       "      <th>2</th>\n",
       "      <td>2024-05</td>\n",
       "      <td>Michigan</td>\n",
       "      <td>19.44</td>\n",
       "      <td>2477.25469</td>\n",
       "    </tr>\n",
       "    <tr>\n",
       "      <th>3</th>\n",
       "      <td>2024-05</td>\n",
       "      <td>Massachusetts</td>\n",
       "      <td>28.70</td>\n",
       "      <td>1446.62243</td>\n",
       "    </tr>\n",
       "    <tr>\n",
       "      <th>4</th>\n",
       "      <td>2024-05</td>\n",
       "      <td>Maryland</td>\n",
       "      <td>17.63</td>\n",
       "      <td>1858.93542</td>\n",
       "    </tr>\n",
       "  </tbody>\n",
       "</table>\n",
       "</div>"
      ],
      "text/plain": [
       "    period stateDescription  price       sales\n",
       "0  2024-05          Alabama  14.73  2532.77329\n",
       "1  2024-05        Minnesota  15.69  1571.56840\n",
       "2  2024-05         Michigan  19.44  2477.25469\n",
       "3  2024-05    Massachusetts  28.70  1446.62243\n",
       "4  2024-05         Maryland  17.63  1858.93542"
      ]
     },
     "execution_count": 14,
     "metadata": {},
     "output_type": "execute_result"
    }
   ],
   "source": [
    "eia_df.drop(columns=['stateid', 'sectorid', 'sectorName', 'price-units', 'sales-units'], inplace=True)\n",
    "\n",
    "eia_df.head()"
   ]
  },
  {
   "cell_type": "code",
   "execution_count": 15,
   "id": "bb709ed9",
   "metadata": {},
   "outputs": [
    {
     "name": "stdout",
     "output_type": "stream",
     "text": [
      "period              0\n",
      "stateDescription    0\n",
      "price               0\n",
      "sales               0\n",
      "dtype: int64\n",
      "             price          sales\n",
      "count  2542.000000    2542.000000\n",
      "mean     16.047290    5905.854840\n",
      "std       6.056787   16079.972529\n",
      "min       8.830000     138.422540\n",
      "25%      12.260000     782.913565\n",
      "50%      13.970000    2144.375185\n",
      "75%      17.337500    4489.892900\n",
      "max      45.590000  164276.577890\n"
     ]
    }
   ],
   "source": [
    "missing_values = eia_df.isnull().sum()\n",
    "summary = eia_df.describe()\n",
    "\n",
    "print(missing_values)\n",
    "print(summary)"
   ]
  },
  {
   "cell_type": "markdown",
   "id": "d72f31d9",
   "metadata": {},
   "source": [
    "\n",
    "The period column is a date, need to update the dtype and rename the column.\n"
   ]
  },
  {
   "cell_type": "code",
   "execution_count": 16,
   "id": "74848a9a",
   "metadata": {},
   "outputs": [],
   "source": [
    "eia_df['period'] = pd.to_datetime(eia_df['period'], format='%Y-%m')"
   ]
  },
  {
   "cell_type": "code",
   "execution_count": 17,
   "id": "b5a02b8e",
   "metadata": {
    "scrolled": true
   },
   "outputs": [
    {
     "name": "stdout",
     "output_type": "stream",
     "text": [
      "<class 'pandas.core.frame.DataFrame'>\n",
      "RangeIndex: 2542 entries, 0 to 2541\n",
      "Data columns (total 4 columns):\n",
      " #   Column            Non-Null Count  Dtype         \n",
      "---  ------            --------------  -----         \n",
      " 0   period            2542 non-null   datetime64[ns]\n",
      " 1   stateDescription  2542 non-null   object        \n",
      " 2   price             2542 non-null   float64       \n",
      " 3   sales             2542 non-null   float64       \n",
      "dtypes: datetime64[ns](1), float64(2), object(1)\n",
      "memory usage: 79.6+ KB\n",
      "None\n"
     ]
    }
   ],
   "source": [
    "print(eia_df.info())"
   ]
  },
  {
   "cell_type": "code",
   "execution_count": 18,
   "id": "f160bca4",
   "metadata": {
    "scrolled": true
   },
   "outputs": [
    {
     "data": {
      "text/html": [
       "<div>\n",
       "<style scoped>\n",
       "    .dataframe tbody tr th:only-of-type {\n",
       "        vertical-align: middle;\n",
       "    }\n",
       "\n",
       "    .dataframe tbody tr th {\n",
       "        vertical-align: top;\n",
       "    }\n",
       "\n",
       "    .dataframe thead th {\n",
       "        text-align: right;\n",
       "    }\n",
       "</style>\n",
       "<table border=\"1\" class=\"dataframe\">\n",
       "  <thead>\n",
       "    <tr style=\"text-align: right;\">\n",
       "      <th></th>\n",
       "      <th>period</th>\n",
       "      <th>stateDescription</th>\n",
       "      <th>price</th>\n",
       "      <th>sales</th>\n",
       "    </tr>\n",
       "  </thead>\n",
       "  <tbody>\n",
       "    <tr>\n",
       "      <th>0</th>\n",
       "      <td>2024-05-01</td>\n",
       "      <td>Alabama</td>\n",
       "      <td>14.73</td>\n",
       "      <td>2532.77329</td>\n",
       "    </tr>\n",
       "    <tr>\n",
       "      <th>1</th>\n",
       "      <td>2024-05-01</td>\n",
       "      <td>Minnesota</td>\n",
       "      <td>15.69</td>\n",
       "      <td>1571.56840</td>\n",
       "    </tr>\n",
       "    <tr>\n",
       "      <th>2</th>\n",
       "      <td>2024-05-01</td>\n",
       "      <td>Michigan</td>\n",
       "      <td>19.44</td>\n",
       "      <td>2477.25469</td>\n",
       "    </tr>\n",
       "    <tr>\n",
       "      <th>3</th>\n",
       "      <td>2024-05-01</td>\n",
       "      <td>Massachusetts</td>\n",
       "      <td>28.70</td>\n",
       "      <td>1446.62243</td>\n",
       "    </tr>\n",
       "    <tr>\n",
       "      <th>4</th>\n",
       "      <td>2024-05-01</td>\n",
       "      <td>Maryland</td>\n",
       "      <td>17.63</td>\n",
       "      <td>1858.93542</td>\n",
       "    </tr>\n",
       "  </tbody>\n",
       "</table>\n",
       "</div>"
      ],
      "text/plain": [
       "      period stateDescription  price       sales\n",
       "0 2024-05-01          Alabama  14.73  2532.77329\n",
       "1 2024-05-01        Minnesota  15.69  1571.56840\n",
       "2 2024-05-01         Michigan  19.44  2477.25469\n",
       "3 2024-05-01    Massachusetts  28.70  1446.62243\n",
       "4 2024-05-01         Maryland  17.63  1858.93542"
      ]
     },
     "execution_count": 18,
     "metadata": {},
     "output_type": "execute_result"
    }
   ],
   "source": [
    "eia_df.head()"
   ]
  },
  {
   "cell_type": "code",
   "execution_count": 23,
   "id": "eda1d859",
   "metadata": {},
   "outputs": [],
   "source": [
    "#Rename the column\n",
    "\n",
    "eia_df.rename(columns={'stateDescription': 'state'}, inplace=True)"
   ]
  },
  {
   "cell_type": "code",
   "execution_count": 25,
   "id": "b43c7c98",
   "metadata": {},
   "outputs": [
    {
     "data": {
      "text/html": [
       "<div>\n",
       "<style scoped>\n",
       "    .dataframe tbody tr th:only-of-type {\n",
       "        vertical-align: middle;\n",
       "    }\n",
       "\n",
       "    .dataframe tbody tr th {\n",
       "        vertical-align: top;\n",
       "    }\n",
       "\n",
       "    .dataframe thead th {\n",
       "        text-align: right;\n",
       "    }\n",
       "</style>\n",
       "<table border=\"1\" class=\"dataframe\">\n",
       "  <thead>\n",
       "    <tr style=\"text-align: right;\">\n",
       "      <th></th>\n",
       "      <th>period</th>\n",
       "      <th>state</th>\n",
       "      <th>price</th>\n",
       "      <th>sales</th>\n",
       "    </tr>\n",
       "  </thead>\n",
       "  <tbody>\n",
       "    <tr>\n",
       "      <th>0</th>\n",
       "      <td>2024-05-01</td>\n",
       "      <td>Alabama</td>\n",
       "      <td>14.73</td>\n",
       "      <td>2532.77</td>\n",
       "    </tr>\n",
       "    <tr>\n",
       "      <th>1</th>\n",
       "      <td>2024-05-01</td>\n",
       "      <td>Minnesota</td>\n",
       "      <td>15.69</td>\n",
       "      <td>1571.57</td>\n",
       "    </tr>\n",
       "    <tr>\n",
       "      <th>2</th>\n",
       "      <td>2024-05-01</td>\n",
       "      <td>Michigan</td>\n",
       "      <td>19.44</td>\n",
       "      <td>2477.25</td>\n",
       "    </tr>\n",
       "    <tr>\n",
       "      <th>3</th>\n",
       "      <td>2024-05-01</td>\n",
       "      <td>Massachusetts</td>\n",
       "      <td>28.70</td>\n",
       "      <td>1446.62</td>\n",
       "    </tr>\n",
       "    <tr>\n",
       "      <th>4</th>\n",
       "      <td>2024-05-01</td>\n",
       "      <td>Maryland</td>\n",
       "      <td>17.63</td>\n",
       "      <td>1858.94</td>\n",
       "    </tr>\n",
       "  </tbody>\n",
       "</table>\n",
       "</div>"
      ],
      "text/plain": [
       "      period          state  price    sales\n",
       "0 2024-05-01        Alabama  14.73  2532.77\n",
       "1 2024-05-01      Minnesota  15.69  1571.57\n",
       "2 2024-05-01       Michigan  19.44  2477.25\n",
       "3 2024-05-01  Massachusetts  28.70  1446.62\n",
       "4 2024-05-01       Maryland  17.63  1858.94"
      ]
     },
     "execution_count": 25,
     "metadata": {},
     "output_type": "execute_result"
    }
   ],
   "source": [
    "eia_df.head()"
   ]
  },
  {
   "cell_type": "code",
   "execution_count": 26,
   "id": "4d67bf06",
   "metadata": {},
   "outputs": [
    {
     "data": {
      "text/html": [
       "<div>\n",
       "<style scoped>\n",
       "    .dataframe tbody tr th:only-of-type {\n",
       "        vertical-align: middle;\n",
       "    }\n",
       "\n",
       "    .dataframe tbody tr th {\n",
       "        vertical-align: top;\n",
       "    }\n",
       "\n",
       "    .dataframe thead th {\n",
       "        text-align: right;\n",
       "    }\n",
       "</style>\n",
       "<table border=\"1\" class=\"dataframe\">\n",
       "  <thead>\n",
       "    <tr style=\"text-align: right;\">\n",
       "      <th></th>\n",
       "      <th>period</th>\n",
       "      <th>state</th>\n",
       "      <th>price</th>\n",
       "      <th>sales</th>\n",
       "    </tr>\n",
       "  </thead>\n",
       "  <tbody>\n",
       "    <tr>\n",
       "      <th>0</th>\n",
       "      <td>2024-05-01</td>\n",
       "      <td>Alabama</td>\n",
       "      <td>14.73</td>\n",
       "      <td>2532.77</td>\n",
       "    </tr>\n",
       "    <tr>\n",
       "      <th>1</th>\n",
       "      <td>2024-05-01</td>\n",
       "      <td>Minnesota</td>\n",
       "      <td>15.69</td>\n",
       "      <td>1571.57</td>\n",
       "    </tr>\n",
       "    <tr>\n",
       "      <th>2</th>\n",
       "      <td>2024-05-01</td>\n",
       "      <td>Michigan</td>\n",
       "      <td>19.44</td>\n",
       "      <td>2477.25</td>\n",
       "    </tr>\n",
       "    <tr>\n",
       "      <th>3</th>\n",
       "      <td>2024-05-01</td>\n",
       "      <td>Massachusetts</td>\n",
       "      <td>28.70</td>\n",
       "      <td>1446.62</td>\n",
       "    </tr>\n",
       "    <tr>\n",
       "      <th>4</th>\n",
       "      <td>2024-05-01</td>\n",
       "      <td>Maryland</td>\n",
       "      <td>17.63</td>\n",
       "      <td>1858.94</td>\n",
       "    </tr>\n",
       "  </tbody>\n",
       "</table>\n",
       "</div>"
      ],
      "text/plain": [
       "      period          state  price    sales\n",
       "0 2024-05-01        Alabama  14.73  2532.77\n",
       "1 2024-05-01      Minnesota  15.69  1571.57\n",
       "2 2024-05-01       Michigan  19.44  2477.25\n",
       "3 2024-05-01  Massachusetts  28.70  1446.62\n",
       "4 2024-05-01       Maryland  17.63  1858.94"
      ]
     },
     "execution_count": 26,
     "metadata": {},
     "output_type": "execute_result"
    }
   ],
   "source": [
    "# Round sales to 2 decimal places\n",
    "eia_df['sales'] = eia_df['sales'].round(2)\n",
    "\n",
    "eia_df.head()"
   ]
  },
  {
   "cell_type": "code",
   "execution_count": 27,
   "id": "a4ea1f22",
   "metadata": {},
   "outputs": [
    {
     "name": "stdout",
     "output_type": "stream",
     "text": [
      "Exported successfully\n"
     ]
    }
   ],
   "source": [
    "# Export and save the data\n",
    "eia_df.to_csv('eia_data_cleaned.csv', index=False)\n",
    "\n",
    "print('Exported successfully')"
   ]
  }
 ],
 "metadata": {
  "kernelspec": {
   "display_name": "Python 3 (ipykernel)",
   "language": "python",
   "name": "python3"
  },
  "language_info": {
   "codemirror_mode": {
    "name": "ipython",
    "version": 3
   },
   "file_extension": ".py",
   "mimetype": "text/x-python",
   "name": "python",
   "nbconvert_exporter": "python",
   "pygments_lexer": "ipython3",
   "version": "3.11.5"
  }
 },
 "nbformat": 4,
 "nbformat_minor": 5
}
