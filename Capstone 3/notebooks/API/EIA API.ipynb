{
 "cells": [
  {
   "cell_type": "markdown",
   "id": "d0cbd792",
   "metadata": {},
   "source": [
    "###### Energy Information Administration (EIA) API\n",
    "\n",
    "This request was to get average retail electricity prices across the US. This shows us monthly average usage and price per state. Date range: Jan 2021 to Jul 2024. \n",
    "\n",
    "Very quick, doesn't take hours to run. \n",
    "\n",
    "Getting this API was easy. Could have retrieved this data going to: https://www.eia.gov/opendata/browser/electricity/retail-sales?frequency=monthly&data=price;sales;&facets=sectorid;&sectorid=RES;&start=2021-01&end=2024-05&sortColumn=period;&sortDirection=desc;"
   ]
  },
  {
   "cell_type": "code",
   "execution_count": 4,
   "id": "dbcacd4c",
   "metadata": {},
   "outputs": [
    {
     "name": "stdout",
     "output_type": "stream",
     "text": [
      "Data successfully saved to 'eia_energy_data.csv'.\n"
     ]
    }
   ],
   "source": [
    "import requests\n",
    "import pandas as pd\n",
    "import json\n",
    "\n",
    "# API KEY\n",
    "api_key = \"Z3PEB7JFkYmEIkrmU4tb3nOLZjBEI77Poq44MIdk\"\n",
    "\n",
    "# API Url\n",
    "url = \"https://api.eia.gov/v2/electricity/retail-sales/data/?frequency=monthly&data[0]=price&data[1]=sales&facets[sectorid][]=RES&start=2021-01&end=2024-05&sort[0][column]=period&sort[0][direction]=desc&offset=0&length=5000\"\n",
    "\n",
    "\n",
    "url_with_key = f\"{url}&api_key={api_key}\"\n",
    "response = requests.get(url_with_key)\n",
    "\n",
    "# Found from EIA API Documentation page\n",
    "if response.status_code == 200:\n",
    "    data = response.json()\n",
    "    \n",
    "    \n",
    "    if 'response' in data and 'data' in data['response']:\n",
    "        records = data['response']['data']\n",
    "        \n",
    "        \n",
    "        if records:\n",
    "            columns = list(records[0].keys())\n",
    "        else:\n",
    "            print(\"No data records found.\")\n",
    "            columns = []\n",
    "        \n",
    "        \n",
    "        df = pd.DataFrame(records, columns=columns)\n",
    "        \n",
    "        \n",
    "        df.to_csv(\"2eia_energy_data.csv\", index=False)\n",
    "        print(\"Data successfully saved to 'eia_energy_data.csv'.\")\n",
    "    else:\n",
    "        print(\"Expected keys ('data', 'columns') not found in the JSON response.\")\n",
    "        print(json.dumps(data, indent=2))  \n",
    "else:\n",
    "    print(f\"Error: {response.status_code} - {response.text}\")\n"
   ]
  },
  {
   "cell_type": "code",
   "execution_count": null,
   "id": "9cbd8045",
   "metadata": {},
   "outputs": [],
   "source": []
  }
 ],
 "metadata": {
  "kernelspec": {
   "display_name": "Python 3 (ipykernel)",
   "language": "python",
   "name": "python3"
  },
  "language_info": {
   "codemirror_mode": {
    "name": "ipython",
    "version": 3
   },
   "file_extension": ".py",
   "mimetype": "text/x-python",
   "name": "python",
   "nbconvert_exporter": "python",
   "pygments_lexer": "ipython3",
   "version": "3.11.5"
  }
 },
 "nbformat": 4,
 "nbformat_minor": 5
}
