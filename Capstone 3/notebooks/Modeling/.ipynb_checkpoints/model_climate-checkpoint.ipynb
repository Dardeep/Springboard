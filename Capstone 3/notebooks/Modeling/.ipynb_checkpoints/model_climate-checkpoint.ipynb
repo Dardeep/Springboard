{
 "cells": [
  {
   "cell_type": "markdown",
   "id": "7fc794a3",
   "metadata": {},
   "source": [
    "# Modeling Climate (Solar Irradiance) Data\n"
   ]
  },
  {
   "cell_type": "markdown",
   "id": "0d2ccc8a",
   "metadata": {},
   "source": [
    "## Time Series Forcasing on Climate/Solar Irradiation Data\n",
    "### Our goal is to forecast future solar irradiance and related climate variables to estimate the solar energy potential in different cities or states"
   ]
  },
  {
   "cell_type": "markdown",
   "id": "479c66f5",
   "metadata": {},
   "source": [
    "Our data has already been cleaned and formated for time series analysis. We will be looking into using one or 2 different time series forecasting models. See which would be the best fit. Then we will split and train our data and compare the models to see which performs the best.\n",
    "\n",
    "With model selection we will use it to forcast the upcoming solar irradiation features"
   ]
  },
  {
   "cell_type": "code",
   "execution_count": 30,
   "id": "371e768f",
   "metadata": {},
   "outputs": [],
   "source": [
    "# imports\n",
    "import pandas as pd\n",
    "import numpy as np\n",
    "from statsmodels.tsa.vector_ar.var_model import VAR\n",
    "import matplotlib.pyplot as plt\n",
    "from sklearn.metrics import mean_absolute_error, mean_squared_error\n",
    "from sklearn.metrics import r2_score\n",
    "import os\n",
    "import tensorflow as tf\n",
    "from sklearn.preprocessing import MinMaxScaler\n",
    "from tensorflow.keras.models import Sequential\n",
    "from tensorflow.keras.layers import LSTM, Dense\n",
    "from keras.wrappers.scikit_learn import KerasRegressor\n",
    "from sklearn.model_selection import GridSearchCV\n",
    "from sklearn.model_selection import TimeSeriesSplit, cross_val_score"
   ]
  },
  {
   "cell_type": "code",
   "execution_count": 4,
   "id": "640dff73",
   "metadata": {},
   "outputs": [
    {
     "data": {
      "text/html": [
       "<div>\n",
       "<style scoped>\n",
       "    .dataframe tbody tr th:only-of-type {\n",
       "        vertical-align: middle;\n",
       "    }\n",
       "\n",
       "    .dataframe tbody tr th {\n",
       "        vertical-align: top;\n",
       "    }\n",
       "\n",
       "    .dataframe thead th {\n",
       "        text-align: right;\n",
       "    }\n",
       "</style>\n",
       "<table border=\"1\" class=\"dataframe\">\n",
       "  <thead>\n",
       "    <tr style=\"text-align: right;\">\n",
       "      <th></th>\n",
       "      <th>Date</th>\n",
       "      <th>T2M</th>\n",
       "      <th>T2MWET</th>\n",
       "      <th>RH2M</th>\n",
       "      <th>WS10M</th>\n",
       "      <th>PRECTOTCORR</th>\n",
       "      <th>ALLSKY_SFC_SW_DWN</th>\n",
       "      <th>CLRSKY_SFC_SW_DWN</th>\n",
       "      <th>ALLSKY_SFC_SW_DIFF</th>\n",
       "      <th>CLRSKY_SFC_SW_DIFF</th>\n",
       "      <th>ALLSKY_KT</th>\n",
       "      <th>ALLSKY_SFC_PAR_TOT</th>\n",
       "      <th>CLRSKY_SFC_PAR_TOT</th>\n",
       "      <th>ALLSKY_SFC_UVA</th>\n",
       "      <th>ALLSKY_SFC_UVB</th>\n",
       "      <th>ALLSKY_SFC_UV_INDEX</th>\n",
       "      <th>City</th>\n",
       "      <th>State</th>\n",
       "    </tr>\n",
       "  </thead>\n",
       "  <tbody>\n",
       "    <tr>\n",
       "      <th>0</th>\n",
       "      <td>2021-01-01</td>\n",
       "      <td>3.72</td>\n",
       "      <td>2.53</td>\n",
       "      <td>85.00</td>\n",
       "      <td>5.15</td>\n",
       "      <td>16.23</td>\n",
       "      <td>0.96</td>\n",
       "      <td>2.51</td>\n",
       "      <td>0.80</td>\n",
       "      <td>0.48</td>\n",
       "      <td>0.26</td>\n",
       "      <td>17.63</td>\n",
       "      <td>45.16</td>\n",
       "      <td>2.46</td>\n",
       "      <td>0.02</td>\n",
       "      <td>0.12</td>\n",
       "      <td>New York</td>\n",
       "      <td>New York</td>\n",
       "    </tr>\n",
       "    <tr>\n",
       "      <th>1</th>\n",
       "      <td>2021-01-02</td>\n",
       "      <td>6.28</td>\n",
       "      <td>5.31</td>\n",
       "      <td>88.00</td>\n",
       "      <td>7.12</td>\n",
       "      <td>3.13</td>\n",
       "      <td>1.83</td>\n",
       "      <td>2.45</td>\n",
       "      <td>0.97</td>\n",
       "      <td>0.63</td>\n",
       "      <td>0.48</td>\n",
       "      <td>32.91</td>\n",
       "      <td>44.13</td>\n",
       "      <td>4.05</td>\n",
       "      <td>0.04</td>\n",
       "      <td>0.20</td>\n",
       "      <td>New York</td>\n",
       "      <td>New York</td>\n",
       "    </tr>\n",
       "    <tr>\n",
       "      <th>2</th>\n",
       "      <td>2021-01-03</td>\n",
       "      <td>4.21</td>\n",
       "      <td>3.62</td>\n",
       "      <td>92.56</td>\n",
       "      <td>7.26</td>\n",
       "      <td>8.93</td>\n",
       "      <td>0.50</td>\n",
       "      <td>2.35</td>\n",
       "      <td>0.39</td>\n",
       "      <td>0.80</td>\n",
       "      <td>0.13</td>\n",
       "      <td>9.64</td>\n",
       "      <td>42.30</td>\n",
       "      <td>1.42</td>\n",
       "      <td>0.02</td>\n",
       "      <td>0.08</td>\n",
       "      <td>New York</td>\n",
       "      <td>New York</td>\n",
       "    </tr>\n",
       "    <tr>\n",
       "      <th>3</th>\n",
       "      <td>2021-01-04</td>\n",
       "      <td>3.82</td>\n",
       "      <td>2.84</td>\n",
       "      <td>87.44</td>\n",
       "      <td>4.89</td>\n",
       "      <td>0.98</td>\n",
       "      <td>1.67</td>\n",
       "      <td>2.47</td>\n",
       "      <td>1.13</td>\n",
       "      <td>0.65</td>\n",
       "      <td>0.44</td>\n",
       "      <td>29.94</td>\n",
       "      <td>43.72</td>\n",
       "      <td>3.80</td>\n",
       "      <td>0.04</td>\n",
       "      <td>0.18</td>\n",
       "      <td>New York</td>\n",
       "      <td>New York</td>\n",
       "    </tr>\n",
       "    <tr>\n",
       "      <th>4</th>\n",
       "      <td>2021-01-05</td>\n",
       "      <td>3.44</td>\n",
       "      <td>2.01</td>\n",
       "      <td>81.69</td>\n",
       "      <td>4.35</td>\n",
       "      <td>0.09</td>\n",
       "      <td>0.95</td>\n",
       "      <td>2.42</td>\n",
       "      <td>0.78</td>\n",
       "      <td>0.75</td>\n",
       "      <td>0.25</td>\n",
       "      <td>17.61</td>\n",
       "      <td>42.23</td>\n",
       "      <td>2.47</td>\n",
       "      <td>0.02</td>\n",
       "      <td>0.11</td>\n",
       "      <td>New York</td>\n",
       "      <td>New York</td>\n",
       "    </tr>\n",
       "    <tr>\n",
       "      <th>5</th>\n",
       "      <td>2021-01-06</td>\n",
       "      <td>2.48</td>\n",
       "      <td>1.02</td>\n",
       "      <td>81.50</td>\n",
       "      <td>7.56</td>\n",
       "      <td>0.00</td>\n",
       "      <td>2.33</td>\n",
       "      <td>2.63</td>\n",
       "      <td>0.80</td>\n",
       "      <td>0.45</td>\n",
       "      <td>0.61</td>\n",
       "      <td>40.84</td>\n",
       "      <td>46.44</td>\n",
       "      <td>4.71</td>\n",
       "      <td>0.04</td>\n",
       "      <td>0.19</td>\n",
       "      <td>New York</td>\n",
       "      <td>New York</td>\n",
       "    </tr>\n",
       "    <tr>\n",
       "      <th>6</th>\n",
       "      <td>2021-01-07</td>\n",
       "      <td>1.69</td>\n",
       "      <td>0.03</td>\n",
       "      <td>79.06</td>\n",
       "      <td>7.11</td>\n",
       "      <td>0.00</td>\n",
       "      <td>2.72</td>\n",
       "      <td>2.71</td>\n",
       "      <td>0.52</td>\n",
       "      <td>0.48</td>\n",
       "      <td>0.70</td>\n",
       "      <td>46.83</td>\n",
       "      <td>47.22</td>\n",
       "      <td>5.19</td>\n",
       "      <td>0.04</td>\n",
       "      <td>0.21</td>\n",
       "      <td>New York</td>\n",
       "      <td>New York</td>\n",
       "    </tr>\n",
       "    <tr>\n",
       "      <th>7</th>\n",
       "      <td>2021-01-08</td>\n",
       "      <td>0.95</td>\n",
       "      <td>-0.58</td>\n",
       "      <td>80.31</td>\n",
       "      <td>5.83</td>\n",
       "      <td>0.00</td>\n",
       "      <td>1.71</td>\n",
       "      <td>2.81</td>\n",
       "      <td>1.22</td>\n",
       "      <td>0.40</td>\n",
       "      <td>0.44</td>\n",
       "      <td>30.03</td>\n",
       "      <td>48.62</td>\n",
       "      <td>3.87</td>\n",
       "      <td>0.04</td>\n",
       "      <td>0.20</td>\n",
       "      <td>New York</td>\n",
       "      <td>New York</td>\n",
       "    </tr>\n",
       "    <tr>\n",
       "      <th>8</th>\n",
       "      <td>2021-01-09</td>\n",
       "      <td>0.18</td>\n",
       "      <td>-1.56</td>\n",
       "      <td>77.69</td>\n",
       "      <td>8.03</td>\n",
       "      <td>0.01</td>\n",
       "      <td>2.35</td>\n",
       "      <td>2.75</td>\n",
       "      <td>0.90</td>\n",
       "      <td>0.42</td>\n",
       "      <td>0.60</td>\n",
       "      <td>41.52</td>\n",
       "      <td>49.02</td>\n",
       "      <td>4.88</td>\n",
       "      <td>0.05</td>\n",
       "      <td>0.25</td>\n",
       "      <td>New York</td>\n",
       "      <td>New York</td>\n",
       "    </tr>\n",
       "    <tr>\n",
       "      <th>9</th>\n",
       "      <td>2021-01-10</td>\n",
       "      <td>1.32</td>\n",
       "      <td>-0.39</td>\n",
       "      <td>78.19</td>\n",
       "      <td>5.70</td>\n",
       "      <td>0.00</td>\n",
       "      <td>2.70</td>\n",
       "      <td>2.81</td>\n",
       "      <td>0.78</td>\n",
       "      <td>0.43</td>\n",
       "      <td>0.68</td>\n",
       "      <td>46.20</td>\n",
       "      <td>48.73</td>\n",
       "      <td>5.21</td>\n",
       "      <td>0.05</td>\n",
       "      <td>0.23</td>\n",
       "      <td>New York</td>\n",
       "      <td>New York</td>\n",
       "    </tr>\n",
       "    <tr>\n",
       "      <th>10</th>\n",
       "      <td>2021-01-11</td>\n",
       "      <td>1.15</td>\n",
       "      <td>-0.40</td>\n",
       "      <td>79.94</td>\n",
       "      <td>2.55</td>\n",
       "      <td>0.01</td>\n",
       "      <td>1.30</td>\n",
       "      <td>2.54</td>\n",
       "      <td>1.11</td>\n",
       "      <td>0.84</td>\n",
       "      <td>0.33</td>\n",
       "      <td>23.52</td>\n",
       "      <td>43.38</td>\n",
       "      <td>3.16</td>\n",
       "      <td>0.03</td>\n",
       "      <td>0.14</td>\n",
       "      <td>New York</td>\n",
       "      <td>New York</td>\n",
       "    </tr>\n",
       "    <tr>\n",
       "      <th>11</th>\n",
       "      <td>2021-01-12</td>\n",
       "      <td>2.74</td>\n",
       "      <td>0.90</td>\n",
       "      <td>78.00</td>\n",
       "      <td>3.14</td>\n",
       "      <td>0.15</td>\n",
       "      <td>2.68</td>\n",
       "      <td>2.73</td>\n",
       "      <td>0.72</td>\n",
       "      <td>0.55</td>\n",
       "      <td>0.66</td>\n",
       "      <td>45.42</td>\n",
       "      <td>46.83</td>\n",
       "      <td>5.08</td>\n",
       "      <td>0.05</td>\n",
       "      <td>0.23</td>\n",
       "      <td>New York</td>\n",
       "      <td>New York</td>\n",
       "    </tr>\n",
       "    <tr>\n",
       "      <th>12</th>\n",
       "      <td>2021-01-13</td>\n",
       "      <td>3.36</td>\n",
       "      <td>1.40</td>\n",
       "      <td>75.62</td>\n",
       "      <td>3.62</td>\n",
       "      <td>0.01</td>\n",
       "      <td>1.81</td>\n",
       "      <td>2.50</td>\n",
       "      <td>0.95</td>\n",
       "      <td>0.74</td>\n",
       "      <td>0.45</td>\n",
       "      <td>31.41</td>\n",
       "      <td>42.93</td>\n",
       "      <td>3.78</td>\n",
       "      <td>0.03</td>\n",
       "      <td>0.16</td>\n",
       "      <td>New York</td>\n",
       "      <td>New York</td>\n",
       "    </tr>\n",
       "    <tr>\n",
       "      <th>13</th>\n",
       "      <td>2021-01-14</td>\n",
       "      <td>4.57</td>\n",
       "      <td>3.87</td>\n",
       "      <td>91.00</td>\n",
       "      <td>2.05</td>\n",
       "      <td>0.08</td>\n",
       "      <td>1.70</td>\n",
       "      <td>2.46</td>\n",
       "      <td>1.31</td>\n",
       "      <td>0.97</td>\n",
       "      <td>0.41</td>\n",
       "      <td>30.08</td>\n",
       "      <td>42.70</td>\n",
       "      <td>3.80</td>\n",
       "      <td>0.03</td>\n",
       "      <td>0.15</td>\n",
       "      <td>New York</td>\n",
       "      <td>New York</td>\n",
       "    </tr>\n",
       "    <tr>\n",
       "      <th>14</th>\n",
       "      <td>2021-01-15</td>\n",
       "      <td>5.68</td>\n",
       "      <td>5.26</td>\n",
       "      <td>94.56</td>\n",
       "      <td>7.61</td>\n",
       "      <td>7.99</td>\n",
       "      <td>1.03</td>\n",
       "      <td>2.58</td>\n",
       "      <td>0.81</td>\n",
       "      <td>0.91</td>\n",
       "      <td>0.25</td>\n",
       "      <td>18.89</td>\n",
       "      <td>44.62</td>\n",
       "      <td>2.55</td>\n",
       "      <td>0.02</td>\n",
       "      <td>0.11</td>\n",
       "      <td>New York</td>\n",
       "      <td>New York</td>\n",
       "    </tr>\n",
       "    <tr>\n",
       "      <th>15</th>\n",
       "      <td>2021-01-16</td>\n",
       "      <td>6.05</td>\n",
       "      <td>5.30</td>\n",
       "      <td>90.31</td>\n",
       "      <td>5.83</td>\n",
       "      <td>23.19</td>\n",
       "      <td>1.44</td>\n",
       "      <td>2.71</td>\n",
       "      <td>1.05</td>\n",
       "      <td>0.82</td>\n",
       "      <td>0.34</td>\n",
       "      <td>25.82</td>\n",
       "      <td>47.08</td>\n",
       "      <td>3.43</td>\n",
       "      <td>0.03</td>\n",
       "      <td>0.15</td>\n",
       "      <td>New York</td>\n",
       "      <td>New York</td>\n",
       "    </tr>\n",
       "    <tr>\n",
       "      <th>16</th>\n",
       "      <td>2021-01-17</td>\n",
       "      <td>3.77</td>\n",
       "      <td>2.30</td>\n",
       "      <td>81.25</td>\n",
       "      <td>8.82</td>\n",
       "      <td>0.02</td>\n",
       "      <td>2.14</td>\n",
       "      <td>2.84</td>\n",
       "      <td>1.07</td>\n",
       "      <td>0.59</td>\n",
       "      <td>0.51</td>\n",
       "      <td>36.84</td>\n",
       "      <td>49.01</td>\n",
       "      <td>4.45</td>\n",
       "      <td>0.03</td>\n",
       "      <td>0.16</td>\n",
       "      <td>New York</td>\n",
       "      <td>New York</td>\n",
       "    </tr>\n",
       "    <tr>\n",
       "      <th>17</th>\n",
       "      <td>2021-01-18</td>\n",
       "      <td>4.00</td>\n",
       "      <td>2.55</td>\n",
       "      <td>81.81</td>\n",
       "      <td>7.15</td>\n",
       "      <td>0.08</td>\n",
       "      <td>2.23</td>\n",
       "      <td>2.84</td>\n",
       "      <td>0.97</td>\n",
       "      <td>0.70</td>\n",
       "      <td>0.52</td>\n",
       "      <td>38.33</td>\n",
       "      <td>49.39</td>\n",
       "      <td>4.56</td>\n",
       "      <td>0.04</td>\n",
       "      <td>0.20</td>\n",
       "      <td>New York</td>\n",
       "      <td>New York</td>\n",
       "    </tr>\n",
       "    <tr>\n",
       "      <th>18</th>\n",
       "      <td>2021-01-19</td>\n",
       "      <td>2.74</td>\n",
       "      <td>1.17</td>\n",
       "      <td>80.19</td>\n",
       "      <td>6.98</td>\n",
       "      <td>0.03</td>\n",
       "      <td>2.17</td>\n",
       "      <td>2.95</td>\n",
       "      <td>1.05</td>\n",
       "      <td>0.54</td>\n",
       "      <td>0.51</td>\n",
       "      <td>37.77</td>\n",
       "      <td>51.38</td>\n",
       "      <td>4.54</td>\n",
       "      <td>0.04</td>\n",
       "      <td>0.19</td>\n",
       "      <td>New York</td>\n",
       "      <td>New York</td>\n",
       "    </tr>\n",
       "    <tr>\n",
       "      <th>19</th>\n",
       "      <td>2021-01-20</td>\n",
       "      <td>1.72</td>\n",
       "      <td>-0.22</td>\n",
       "      <td>75.62</td>\n",
       "      <td>6.39</td>\n",
       "      <td>0.85</td>\n",
       "      <td>2.11</td>\n",
       "      <td>2.94</td>\n",
       "      <td>0.98</td>\n",
       "      <td>0.64</td>\n",
       "      <td>0.49</td>\n",
       "      <td>36.31</td>\n",
       "      <td>50.90</td>\n",
       "      <td>4.40</td>\n",
       "      <td>0.04</td>\n",
       "      <td>0.20</td>\n",
       "      <td>New York</td>\n",
       "      <td>New York</td>\n",
       "    </tr>\n",
       "  </tbody>\n",
       "</table>\n",
       "</div>"
      ],
      "text/plain": [
       "          Date   T2M  T2MWET   RH2M  WS10M  PRECTOTCORR  ALLSKY_SFC_SW_DWN  \\\n",
       "0   2021-01-01  3.72    2.53  85.00   5.15        16.23               0.96   \n",
       "1   2021-01-02  6.28    5.31  88.00   7.12         3.13               1.83   \n",
       "2   2021-01-03  4.21    3.62  92.56   7.26         8.93               0.50   \n",
       "3   2021-01-04  3.82    2.84  87.44   4.89         0.98               1.67   \n",
       "4   2021-01-05  3.44    2.01  81.69   4.35         0.09               0.95   \n",
       "5   2021-01-06  2.48    1.02  81.50   7.56         0.00               2.33   \n",
       "6   2021-01-07  1.69    0.03  79.06   7.11         0.00               2.72   \n",
       "7   2021-01-08  0.95   -0.58  80.31   5.83         0.00               1.71   \n",
       "8   2021-01-09  0.18   -1.56  77.69   8.03         0.01               2.35   \n",
       "9   2021-01-10  1.32   -0.39  78.19   5.70         0.00               2.70   \n",
       "10  2021-01-11  1.15   -0.40  79.94   2.55         0.01               1.30   \n",
       "11  2021-01-12  2.74    0.90  78.00   3.14         0.15               2.68   \n",
       "12  2021-01-13  3.36    1.40  75.62   3.62         0.01               1.81   \n",
       "13  2021-01-14  4.57    3.87  91.00   2.05         0.08               1.70   \n",
       "14  2021-01-15  5.68    5.26  94.56   7.61         7.99               1.03   \n",
       "15  2021-01-16  6.05    5.30  90.31   5.83        23.19               1.44   \n",
       "16  2021-01-17  3.77    2.30  81.25   8.82         0.02               2.14   \n",
       "17  2021-01-18  4.00    2.55  81.81   7.15         0.08               2.23   \n",
       "18  2021-01-19  2.74    1.17  80.19   6.98         0.03               2.17   \n",
       "19  2021-01-20  1.72   -0.22  75.62   6.39         0.85               2.11   \n",
       "\n",
       "    CLRSKY_SFC_SW_DWN  ALLSKY_SFC_SW_DIFF  CLRSKY_SFC_SW_DIFF  ALLSKY_KT  \\\n",
       "0                2.51                0.80                0.48       0.26   \n",
       "1                2.45                0.97                0.63       0.48   \n",
       "2                2.35                0.39                0.80       0.13   \n",
       "3                2.47                1.13                0.65       0.44   \n",
       "4                2.42                0.78                0.75       0.25   \n",
       "5                2.63                0.80                0.45       0.61   \n",
       "6                2.71                0.52                0.48       0.70   \n",
       "7                2.81                1.22                0.40       0.44   \n",
       "8                2.75                0.90                0.42       0.60   \n",
       "9                2.81                0.78                0.43       0.68   \n",
       "10               2.54                1.11                0.84       0.33   \n",
       "11               2.73                0.72                0.55       0.66   \n",
       "12               2.50                0.95                0.74       0.45   \n",
       "13               2.46                1.31                0.97       0.41   \n",
       "14               2.58                0.81                0.91       0.25   \n",
       "15               2.71                1.05                0.82       0.34   \n",
       "16               2.84                1.07                0.59       0.51   \n",
       "17               2.84                0.97                0.70       0.52   \n",
       "18               2.95                1.05                0.54       0.51   \n",
       "19               2.94                0.98                0.64       0.49   \n",
       "\n",
       "    ALLSKY_SFC_PAR_TOT  CLRSKY_SFC_PAR_TOT  ALLSKY_SFC_UVA  ALLSKY_SFC_UVB  \\\n",
       "0                17.63               45.16            2.46            0.02   \n",
       "1                32.91               44.13            4.05            0.04   \n",
       "2                 9.64               42.30            1.42            0.02   \n",
       "3                29.94               43.72            3.80            0.04   \n",
       "4                17.61               42.23            2.47            0.02   \n",
       "5                40.84               46.44            4.71            0.04   \n",
       "6                46.83               47.22            5.19            0.04   \n",
       "7                30.03               48.62            3.87            0.04   \n",
       "8                41.52               49.02            4.88            0.05   \n",
       "9                46.20               48.73            5.21            0.05   \n",
       "10               23.52               43.38            3.16            0.03   \n",
       "11               45.42               46.83            5.08            0.05   \n",
       "12               31.41               42.93            3.78            0.03   \n",
       "13               30.08               42.70            3.80            0.03   \n",
       "14               18.89               44.62            2.55            0.02   \n",
       "15               25.82               47.08            3.43            0.03   \n",
       "16               36.84               49.01            4.45            0.03   \n",
       "17               38.33               49.39            4.56            0.04   \n",
       "18               37.77               51.38            4.54            0.04   \n",
       "19               36.31               50.90            4.40            0.04   \n",
       "\n",
       "    ALLSKY_SFC_UV_INDEX      City     State  \n",
       "0                  0.12  New York  New York  \n",
       "1                  0.20  New York  New York  \n",
       "2                  0.08  New York  New York  \n",
       "3                  0.18  New York  New York  \n",
       "4                  0.11  New York  New York  \n",
       "5                  0.19  New York  New York  \n",
       "6                  0.21  New York  New York  \n",
       "7                  0.20  New York  New York  \n",
       "8                  0.25  New York  New York  \n",
       "9                  0.23  New York  New York  \n",
       "10                 0.14  New York  New York  \n",
       "11                 0.23  New York  New York  \n",
       "12                 0.16  New York  New York  \n",
       "13                 0.15  New York  New York  \n",
       "14                 0.11  New York  New York  \n",
       "15                 0.15  New York  New York  \n",
       "16                 0.16  New York  New York  \n",
       "17                 0.20  New York  New York  \n",
       "18                 0.19  New York  New York  \n",
       "19                 0.20  New York  New York  "
      ]
     },
     "execution_count": 4,
     "metadata": {},
     "output_type": "execute_result"
    }
   ],
   "source": [
    "solar_df = pd.read_csv('../../data/cleaned_solar_data.csv')\n",
    "solar_df.head(20)"
   ]
  },
  {
   "cell_type": "code",
   "execution_count": 5,
   "id": "094aa265",
   "metadata": {},
   "outputs": [
    {
     "data": {
      "text/html": [
       "<div>\n",
       "<style scoped>\n",
       "    .dataframe tbody tr th:only-of-type {\n",
       "        vertical-align: middle;\n",
       "    }\n",
       "\n",
       "    .dataframe tbody tr th {\n",
       "        vertical-align: top;\n",
       "    }\n",
       "\n",
       "    .dataframe thead th {\n",
       "        text-align: right;\n",
       "    }\n",
       "</style>\n",
       "<table border=\"1\" class=\"dataframe\">\n",
       "  <thead>\n",
       "    <tr style=\"text-align: right;\">\n",
       "      <th></th>\n",
       "      <th>Date</th>\n",
       "      <th>City</th>\n",
       "      <th>State</th>\n",
       "      <th>T2M</th>\n",
       "      <th>T2MWET</th>\n",
       "      <th>RH2M</th>\n",
       "      <th>WS10M</th>\n",
       "      <th>PRECTOTCORR</th>\n",
       "      <th>ALLSKY_SFC_SW_DWN</th>\n",
       "      <th>CLRSKY_SFC_SW_DWN</th>\n",
       "      <th>ALLSKY_SFC_SW_DIFF</th>\n",
       "      <th>CLRSKY_SFC_SW_DIFF</th>\n",
       "      <th>ALLSKY_KT</th>\n",
       "      <th>ALLSKY_SFC_PAR_TOT</th>\n",
       "      <th>CLRSKY_SFC_PAR_TOT</th>\n",
       "      <th>ALLSKY_SFC_UVA</th>\n",
       "      <th>ALLSKY_SFC_UVB</th>\n",
       "      <th>ALLSKY_SFC_UV_INDEX</th>\n",
       "    </tr>\n",
       "  </thead>\n",
       "  <tbody>\n",
       "    <tr>\n",
       "      <th>0</th>\n",
       "      <td>2021-01-01</td>\n",
       "      <td>New York</td>\n",
       "      <td>New York</td>\n",
       "      <td>3.72</td>\n",
       "      <td>2.53</td>\n",
       "      <td>85.00</td>\n",
       "      <td>5.15</td>\n",
       "      <td>16.23</td>\n",
       "      <td>0.96</td>\n",
       "      <td>2.51</td>\n",
       "      <td>0.80</td>\n",
       "      <td>0.48</td>\n",
       "      <td>0.26</td>\n",
       "      <td>17.63</td>\n",
       "      <td>45.16</td>\n",
       "      <td>2.46</td>\n",
       "      <td>0.02</td>\n",
       "      <td>0.12</td>\n",
       "    </tr>\n",
       "    <tr>\n",
       "      <th>1</th>\n",
       "      <td>2021-01-02</td>\n",
       "      <td>New York</td>\n",
       "      <td>New York</td>\n",
       "      <td>6.28</td>\n",
       "      <td>5.31</td>\n",
       "      <td>88.00</td>\n",
       "      <td>7.12</td>\n",
       "      <td>3.13</td>\n",
       "      <td>1.83</td>\n",
       "      <td>2.45</td>\n",
       "      <td>0.97</td>\n",
       "      <td>0.63</td>\n",
       "      <td>0.48</td>\n",
       "      <td>32.91</td>\n",
       "      <td>44.13</td>\n",
       "      <td>4.05</td>\n",
       "      <td>0.04</td>\n",
       "      <td>0.20</td>\n",
       "    </tr>\n",
       "    <tr>\n",
       "      <th>2</th>\n",
       "      <td>2021-01-03</td>\n",
       "      <td>New York</td>\n",
       "      <td>New York</td>\n",
       "      <td>4.21</td>\n",
       "      <td>3.62</td>\n",
       "      <td>92.56</td>\n",
       "      <td>7.26</td>\n",
       "      <td>8.93</td>\n",
       "      <td>0.50</td>\n",
       "      <td>2.35</td>\n",
       "      <td>0.39</td>\n",
       "      <td>0.80</td>\n",
       "      <td>0.13</td>\n",
       "      <td>9.64</td>\n",
       "      <td>42.30</td>\n",
       "      <td>1.42</td>\n",
       "      <td>0.02</td>\n",
       "      <td>0.08</td>\n",
       "    </tr>\n",
       "    <tr>\n",
       "      <th>3</th>\n",
       "      <td>2021-01-04</td>\n",
       "      <td>New York</td>\n",
       "      <td>New York</td>\n",
       "      <td>3.82</td>\n",
       "      <td>2.84</td>\n",
       "      <td>87.44</td>\n",
       "      <td>4.89</td>\n",
       "      <td>0.98</td>\n",
       "      <td>1.67</td>\n",
       "      <td>2.47</td>\n",
       "      <td>1.13</td>\n",
       "      <td>0.65</td>\n",
       "      <td>0.44</td>\n",
       "      <td>29.94</td>\n",
       "      <td>43.72</td>\n",
       "      <td>3.80</td>\n",
       "      <td>0.04</td>\n",
       "      <td>0.18</td>\n",
       "    </tr>\n",
       "    <tr>\n",
       "      <th>4</th>\n",
       "      <td>2021-01-05</td>\n",
       "      <td>New York</td>\n",
       "      <td>New York</td>\n",
       "      <td>3.44</td>\n",
       "      <td>2.01</td>\n",
       "      <td>81.69</td>\n",
       "      <td>4.35</td>\n",
       "      <td>0.09</td>\n",
       "      <td>0.95</td>\n",
       "      <td>2.42</td>\n",
       "      <td>0.78</td>\n",
       "      <td>0.75</td>\n",
       "      <td>0.25</td>\n",
       "      <td>17.61</td>\n",
       "      <td>42.23</td>\n",
       "      <td>2.47</td>\n",
       "      <td>0.02</td>\n",
       "      <td>0.11</td>\n",
       "    </tr>\n",
       "  </tbody>\n",
       "</table>\n",
       "</div>"
      ],
      "text/plain": [
       "         Date      City     State   T2M  T2MWET   RH2M  WS10M  PRECTOTCORR  \\\n",
       "0  2021-01-01  New York  New York  3.72    2.53  85.00   5.15        16.23   \n",
       "1  2021-01-02  New York  New York  6.28    5.31  88.00   7.12         3.13   \n",
       "2  2021-01-03  New York  New York  4.21    3.62  92.56   7.26         8.93   \n",
       "3  2021-01-04  New York  New York  3.82    2.84  87.44   4.89         0.98   \n",
       "4  2021-01-05  New York  New York  3.44    2.01  81.69   4.35         0.09   \n",
       "\n",
       "   ALLSKY_SFC_SW_DWN  CLRSKY_SFC_SW_DWN  ALLSKY_SFC_SW_DIFF  \\\n",
       "0               0.96               2.51                0.80   \n",
       "1               1.83               2.45                0.97   \n",
       "2               0.50               2.35                0.39   \n",
       "3               1.67               2.47                1.13   \n",
       "4               0.95               2.42                0.78   \n",
       "\n",
       "   CLRSKY_SFC_SW_DIFF  ALLSKY_KT  ALLSKY_SFC_PAR_TOT  CLRSKY_SFC_PAR_TOT  \\\n",
       "0                0.48       0.26               17.63               45.16   \n",
       "1                0.63       0.48               32.91               44.13   \n",
       "2                0.80       0.13                9.64               42.30   \n",
       "3                0.65       0.44               29.94               43.72   \n",
       "4                0.75       0.25               17.61               42.23   \n",
       "\n",
       "   ALLSKY_SFC_UVA  ALLSKY_SFC_UVB  ALLSKY_SFC_UV_INDEX  \n",
       "0            2.46            0.02                 0.12  \n",
       "1            4.05            0.04                 0.20  \n",
       "2            1.42            0.02                 0.08  \n",
       "3            3.80            0.04                 0.18  \n",
       "4            2.47            0.02                 0.11  "
      ]
     },
     "execution_count": 5,
     "metadata": {},
     "output_type": "execute_result"
    }
   ],
   "source": [
    "columns = ['Date', 'City', 'State', 'T2M', 'T2MWET', 'RH2M', 'WS10M', 'PRECTOTCORR',\n",
    "           'ALLSKY_SFC_SW_DWN', 'CLRSKY_SFC_SW_DWN', 'ALLSKY_SFC_SW_DIFF', \n",
    "           'CLRSKY_SFC_SW_DIFF', 'ALLSKY_KT', 'ALLSKY_SFC_PAR_TOT',\n",
    "           'CLRSKY_SFC_PAR_TOT', 'ALLSKY_SFC_UVA', 'ALLSKY_SFC_UVB', 'ALLSKY_SFC_UV_INDEX']\n",
    "\n",
    "solar_df = solar_df[columns]\n",
    "solar_df.head()"
   ]
  },
  {
   "cell_type": "markdown",
   "id": "3d2e3d80",
   "metadata": {},
   "source": [
    "##### Quick preprocessing below: \n",
    "\n",
    "We will make sure the index is set correctly. \n",
    "Select the features of interest that we will be forcasting.\n",
    "Creating a unique identifier for each city/state combination"
   ]
  },
  {
   "cell_type": "code",
   "execution_count": 6,
   "id": "7d305bb8",
   "metadata": {},
   "outputs": [],
   "source": [
    "solar_df.reset_index(inplace=True)"
   ]
  },
  {
   "cell_type": "code",
   "execution_count": 7,
   "id": "aad1b3da",
   "metadata": {},
   "outputs": [],
   "source": [
    "solar_df['Date'] = pd.to_datetime(solar_df['Date'])\n",
    "solar_df.set_index('Date', inplace=True)\n",
    "\n",
    "features = [ 'T2M', 'T2MWET', 'RH2M', 'WS10M', 'PRECTOTCORR',\n",
    "           'ALLSKY_SFC_SW_DWN', 'CLRSKY_SFC_SW_DWN', 'ALLSKY_SFC_SW_DIFF', \n",
    "           'CLRSKY_SFC_SW_DIFF', 'ALLSKY_KT', 'ALLSKY_SFC_PAR_TOT',\n",
    "           'CLRSKY_SFC_PAR_TOT', 'ALLSKY_SFC_UVA', 'ALLSKY_SFC_UVB', 'ALLSKY_SFC_UV_INDEX']\n",
    "\n",
    "solar_df['City_State'] = solar_df['City'] + ', ' + solar_df['State']"
   ]
  },
  {
   "cell_type": "markdown",
   "id": "2775b0f6",
   "metadata": {},
   "source": [
    "## Split Test / Train Data\n",
    "\n",
    "Few things to take into consideration for the training and test sets. We need to split data for each city/state combination. We will also Split data before and after Aug 1, 2023 (Which works out to be approx 20% for test). We didn't use the exact 20% of the data so we can make it easy 1st of the month. "
   ]
  },
  {
   "cell_type": "code",
   "execution_count": 8,
   "id": "b91ca906",
   "metadata": {},
   "outputs": [
    {
     "name": "stdout",
     "output_type": "stream",
     "text": [
      "Processing city/state: New York, New York\n",
      "Processing city/state: Los Angeles, California\n",
      "Processing city/state: Chicago, Illinois\n",
      "Processing city/state: Houston, Texas\n",
      "Processing city/state: Phoenix, Arizona\n",
      "Processing city/state: Philadelphia, Pennsylvania\n",
      "Processing city/state: San Antonio, Texas\n",
      "Processing city/state: San Diego, California\n",
      "Processing city/state: Dallas, Texas\n",
      "Processing city/state: Jacksonville, Florida\n",
      "Processing city/state: Fort Worth, Texas\n",
      "Processing city/state: Austin, Texas\n",
      "Processing city/state: San Jose, California\n",
      "Processing city/state: Charlotte, North Carolina\n",
      "Processing city/state: Columbus, Ohio\n",
      "Processing city/state: Indianapolis, Indiana\n",
      "Processing city/state: San Francisco, California\n",
      "Processing city/state: Seattle, Washington\n",
      "Processing city/state: Denver, Colorado\n",
      "Processing city/state: Oklahoma City, Oklahoma\n",
      "Processing city/state: Nashville, Tennessee\n",
      "Processing city/state: Washington, District of Columbia\n",
      "Processing city/state: El Paso, Texas\n",
      "Processing city/state: Las Vegas, Nevada\n",
      "Processing city/state: Boston, Massachusetts\n",
      "Processing city/state: Detroit, Michigan\n",
      "Processing city/state: Portland, Oregon\n",
      "Processing city/state: Louisville, Kentucky\n",
      "Processing city/state: Memphis, Tennessee\n",
      "Processing city/state: Baltimore, Maryland\n",
      "Processing city/state: Albuquerque, New Mexico\n",
      "Processing city/state: Milwaukee, Wisconsin\n",
      "Processing city/state: Tucson, Arizona\n",
      "Processing city/state: Fresno, California\n",
      "Processing city/state: Sacramento, California\n",
      "Processing city/state: Atlanta, Georgia\n",
      "Processing city/state: Mesa, Arizona\n",
      "Processing city/state: Kansas City, Missouri\n",
      "Processing city/state: Colorado Springs, Colorado\n",
      "Processing city/state: Raleigh, North Carolina\n",
      "Processing city/state: Omaha, Nebraska\n",
      "Processing city/state: Miami, Florida\n",
      "Processing city/state: Virginia Beach, Virginia\n",
      "Processing city/state: Long Beach, California\n",
      "Processing city/state: Oakland, California\n",
      "Processing city/state: Minneapolis, Minnesota\n",
      "Processing city/state: Bakersfield, California\n",
      "Processing city/state: Tulsa, Oklahoma\n",
      "Processing city/state: Tampa, Florida\n",
      "Processing city/state: Arlington, Texas\n",
      "Processing city/state: Aurora, Colorado\n",
      "Processing city/state: Wichita, Kansas\n",
      "Processing city/state: Cleveland, Ohio\n",
      "Processing city/state: New Orleans, Louisiana\n",
      "Processing city/state: Henderson, Nevada\n",
      "Processing city/state: Honolulu, Hawaii\n",
      "Processing city/state: Anaheim, California\n",
      "Processing city/state: Orlando, Florida\n",
      "Processing city/state: Riverside, California\n",
      "Processing city/state: Lexington, Kentucky\n",
      "Processing city/state: Stockton, California\n",
      "Processing city/state: Irvine, California\n",
      "Processing city/state: Corpus Christi, Texas\n",
      "Processing city/state: Cincinnati, Ohio\n",
      "Processing city/state: Santa Ana, California\n",
      "Processing city/state: Greensboro, North Carolina\n",
      "Processing city/state: Pittsburgh, Pennsylvania\n",
      "Processing city/state: Newark, New Jersey\n",
      "Processing city/state: St. Paul, Minnesota\n",
      "Processing city/state: Durham, North Carolina\n",
      "Processing city/state: Lincoln, Nebraska\n",
      "Processing city/state: North Las Vegas, Nevada\n",
      "Processing city/state: Jersey City, New Jersey\n",
      "Processing city/state: Plano, Texas\n",
      "Processing city/state: Anchorage, Alaska\n",
      "Processing city/state: Madison, Wisconsin\n",
      "Processing city/state: Chandler, Arizona\n",
      "Processing city/state: Reno, Nevada\n",
      "Processing city/state: Gilbert, Arizona\n",
      "Processing city/state: St. Louis, Missouri\n",
      "Processing city/state: Chula Vista, California\n",
      "Processing city/state: Buffalo, New York\n",
      "Processing city/state: Fort Wayne, Indiana\n",
      "Processing city/state: Lubbock, Texas\n",
      "Processing city/state: St. Petersburg, Florida\n",
      "Processing city/state: Toledo, Ohio\n",
      "Processing city/state: Laredo, Texas\n",
      "Processing city/state: Port St. Lucie, Florida\n",
      "Processing city/state: Glendale, Arizona\n",
      "Processing city/state: Chesapeake, Virginia\n",
      "Processing city/state: Winston, North Carolina\n",
      "Processing city/state: Irving, Texas\n",
      "Processing city/state: Scottsdale, Arizona\n",
      "Processing city/state: Garland, Texas\n",
      "Processing city/state: Enterprise, Nevada\n",
      "Processing city/state: Arlington, Virginia\n",
      "Processing city/state: Boise, Idaho\n",
      "Processing city/state: Cape Coral, Florida\n",
      "Processing city/state: Frisco, Texas\n",
      "Processing city/state: Richmond, Virginia\n",
      "Processing city/state: Spokane, Washington\n",
      "Processing city/state: Norfolk, Virginia\n",
      "Processing city/state: Huntsville, Alabama\n",
      "Processing city/state: Fremont, California\n",
      "Processing city/state: San Bernardino, California\n",
      "Processing city/state: Tacoma, Washington\n",
      "Processing city/state: Spring Valley, Nevada\n",
      "Processing city/state: Santa Clarita, California\n",
      "Processing city/state: Hialeah, Florida\n",
      "Processing city/state: Modesto, California\n",
      "Processing city/state: McKinney, Texas\n",
      "Processing city/state: Fontana, California\n",
      "Processing city/state: Baton Rouge, Louisiana\n",
      "Processing city/state: Moreno Valley, California\n",
      "Processing city/state: Salt Lake City, Utah\n",
      "Processing city/state: Sioux Falls, South Dakota\n",
      "Processing city/state: Fayetteville, North Carolina\n",
      "Processing city/state: Des Moines, Iowa\n",
      "Processing city/state: Worcester, Massachusetts\n",
      "Processing city/state: Yonkers, New York\n",
      "Processing city/state: Rochester, New York\n",
      "Processing city/state: Little Rock, Arkansas\n",
      "Processing city/state: Grand Prairie, Texas\n",
      "Processing city/state: Tallahassee, Florida\n",
      "Processing city/state: Amarillo, Texas\n",
      "Processing city/state: Peoria, Arizona\n",
      "Processing city/state: Augusta, Georgia\n",
      "Processing city/state: Knoxville, Tennessee\n",
      "Processing city/state: Columbus, Georgia\n",
      "Processing city/state: Sunrise Manor, Nevada\n",
      "Processing city/state: Vancouver, Washington\n",
      "Processing city/state: Oxnard, California\n",
      "Processing city/state: Overland Park, Kansas\n",
      "Processing city/state: Grand Rapids, Michigan\n",
      "Processing city/state: Birmingham, Alabama\n",
      "Processing city/state: Montgomery, Alabama\n",
      "Processing city/state: Tempe, Arizona\n",
      "Processing city/state: Brownsville, Texas\n",
      "Processing city/state: Providence, Rhode Island\n",
      "Processing city/state: Huntington Beach, California\n",
      "Processing city/state: Paradise, Nevada\n",
      "Processing city/state: Chattanooga, Tennessee\n",
      "Processing city/state: Akron, Ohio\n",
      "Processing city/state: Clarksville, Tennessee\n",
      "Processing city/state: Fort Lauderdale, Florida\n",
      "Processing city/state: Ontario, California\n",
      "Processing city/state: Glendale, California\n",
      "Processing city/state: Newport News, Virginia\n",
      "Processing city/state: Cary, North Carolina\n",
      "Processing city/state: Mobile, Alabama\n",
      "Processing city/state: Elk Grove, California\n",
      "Processing city/state: Eugene, Oregon\n",
      "Processing city/state: Salem, Oregon\n",
      "Processing city/state: Aurora, Illinois\n",
      "Processing city/state: Santa Rosa, California\n",
      "Processing city/state: Shreveport, Louisiana\n",
      "Processing city/state: Rancho Cucamonga, California\n",
      "Processing city/state: Pembroke Pines, Florida\n",
      "Processing city/state: Springfield, Missouri\n",
      "Processing city/state: Fort Collins, Colorado\n",
      "Processing city/state: Murfreesboro, Tennessee\n",
      "Processing city/state: Oceanside, California\n",
      "Processing city/state: Garden Grove, California\n",
      "Processing city/state: Denton, Texas\n",
      "Processing city/state: Lancaster, California\n",
      "Processing city/state: Surprise, Arizona\n",
      "Processing city/state: Roseville, California\n",
      "Processing city/state: Killeen, Texas\n",
      "Processing city/state: Corona, California\n",
      "Processing city/state: Palmdale, California\n",
      "Processing city/state: Salinas, California\n",
      "Processing city/state: Charleston, South Carolina\n",
      "Processing city/state: Macon, Georgia\n",
      "Processing city/state: Lakewood, Colorado\n",
      "Processing city/state: Paterson, New Jersey\n",
      "Processing city/state: Hollywood, Florida\n",
      "Processing city/state: Alexandria, Virginia\n",
      "Processing city/state: Hayward, California\n",
      "Processing city/state: Springfield, Massachusetts\n",
      "Processing city/state: Kansas City, Kansas\n",
      "Processing city/state: Bellevue, Washington\n",
      "Processing city/state: Sunnyvale, California\n",
      "Processing city/state: Joliet, Illinois\n",
      "Processing city/state: Naperville, Illinois\n",
      "Processing city/state: Olathe, Kansas\n",
      "Processing city/state: Bridgeport, Connecticut\n",
      "Processing city/state: McAllen, Texas\n",
      "Processing city/state: Savannah, Georgia\n",
      "Processing city/state: Escondido, California\n",
      "Processing city/state: Gainesville, Florida\n",
      "Processing city/state: Mesquite, Texas\n",
      "Processing city/state: Waco, Texas\n",
      "Processing city/state: Visalia, California\n",
      "Processing city/state: Thornton, Colorado\n",
      "Processing city/state: Rockford, Illinois\n",
      "Processing city/state: Syracuse, New York\n",
      "Processing city/state: Pasadena, Texas\n",
      "Processing city/state: Columbia, South Carolina\n",
      "Processing city/state: Pomona, California\n",
      "Processing city/state: Palm Bay, Florida\n"
     ]
    }
   ],
   "source": [
    "split_date = pd.Timestamp('2023-08-01')\n",
    "\n",
    "for city_state in solar_df['City_State'].unique():\n",
    "    print(f\"Processing city/state: {city_state}\")\n",
    "\n",
    "    city_data = solar_df[solar_df['City_State'] == city_state][features + ['City_State']]\n",
    "    \n",
    "    train_data = city_data[city_data.index < split_date]\n",
    "    test_data = city_data[city_data.index >= split_date]"
   ]
  },
  {
   "cell_type": "code",
   "execution_count": 9,
   "id": "88a55c55",
   "metadata": {},
   "outputs": [
    {
     "data": {
      "text/html": [
       "<div>\n",
       "<style scoped>\n",
       "    .dataframe tbody tr th:only-of-type {\n",
       "        vertical-align: middle;\n",
       "    }\n",
       "\n",
       "    .dataframe tbody tr th {\n",
       "        vertical-align: top;\n",
       "    }\n",
       "\n",
       "    .dataframe thead th {\n",
       "        text-align: right;\n",
       "    }\n",
       "</style>\n",
       "<table border=\"1\" class=\"dataframe\">\n",
       "  <thead>\n",
       "    <tr style=\"text-align: right;\">\n",
       "      <th></th>\n",
       "      <th>T2M</th>\n",
       "      <th>T2MWET</th>\n",
       "      <th>RH2M</th>\n",
       "      <th>WS10M</th>\n",
       "      <th>PRECTOTCORR</th>\n",
       "      <th>ALLSKY_SFC_SW_DWN</th>\n",
       "      <th>CLRSKY_SFC_SW_DWN</th>\n",
       "      <th>ALLSKY_SFC_SW_DIFF</th>\n",
       "      <th>CLRSKY_SFC_SW_DIFF</th>\n",
       "      <th>ALLSKY_KT</th>\n",
       "      <th>ALLSKY_SFC_PAR_TOT</th>\n",
       "      <th>CLRSKY_SFC_PAR_TOT</th>\n",
       "      <th>ALLSKY_SFC_UVA</th>\n",
       "      <th>ALLSKY_SFC_UVB</th>\n",
       "      <th>ALLSKY_SFC_UV_INDEX</th>\n",
       "      <th>City_State</th>\n",
       "    </tr>\n",
       "    <tr>\n",
       "      <th>Date</th>\n",
       "      <th></th>\n",
       "      <th></th>\n",
       "      <th></th>\n",
       "      <th></th>\n",
       "      <th></th>\n",
       "      <th></th>\n",
       "      <th></th>\n",
       "      <th></th>\n",
       "      <th></th>\n",
       "      <th></th>\n",
       "      <th></th>\n",
       "      <th></th>\n",
       "      <th></th>\n",
       "      <th></th>\n",
       "      <th></th>\n",
       "      <th></th>\n",
       "    </tr>\n",
       "  </thead>\n",
       "  <tbody>\n",
       "    <tr>\n",
       "      <th>2023-08-01</th>\n",
       "      <td>28.35</td>\n",
       "      <td>26.29</td>\n",
       "      <td>79.44</td>\n",
       "      <td>1.43</td>\n",
       "      <td>11.44</td>\n",
       "      <td>6.69</td>\n",
       "      <td>7.28</td>\n",
       "      <td>1.91</td>\n",
       "      <td>2.09</td>\n",
       "      <td>0.62</td>\n",
       "      <td>132.28</td>\n",
       "      <td>141.88</td>\n",
       "      <td>17.13</td>\n",
       "      <td>0.55</td>\n",
       "      <td>3.01</td>\n",
       "      <td>Palm Bay, Florida</td>\n",
       "    </tr>\n",
       "    <tr>\n",
       "      <th>2023-08-02</th>\n",
       "      <td>28.32</td>\n",
       "      <td>26.58</td>\n",
       "      <td>82.12</td>\n",
       "      <td>2.93</td>\n",
       "      <td>7.14</td>\n",
       "      <td>5.85</td>\n",
       "      <td>7.44</td>\n",
       "      <td>2.48</td>\n",
       "      <td>1.86</td>\n",
       "      <td>0.54</td>\n",
       "      <td>117.30</td>\n",
       "      <td>145.59</td>\n",
       "      <td>15.68</td>\n",
       "      <td>0.50</td>\n",
       "      <td>2.64</td>\n",
       "      <td>Palm Bay, Florida</td>\n",
       "    </tr>\n",
       "    <tr>\n",
       "      <th>2023-08-03</th>\n",
       "      <td>28.65</td>\n",
       "      <td>26.47</td>\n",
       "      <td>77.81</td>\n",
       "      <td>3.84</td>\n",
       "      <td>3.51</td>\n",
       "      <td>6.54</td>\n",
       "      <td>7.28</td>\n",
       "      <td>2.23</td>\n",
       "      <td>1.96</td>\n",
       "      <td>0.60</td>\n",
       "      <td>128.77</td>\n",
       "      <td>141.27</td>\n",
       "      <td>16.73</td>\n",
       "      <td>0.52</td>\n",
       "      <td>2.78</td>\n",
       "      <td>Palm Bay, Florida</td>\n",
       "    </tr>\n",
       "    <tr>\n",
       "      <th>2023-08-04</th>\n",
       "      <td>28.71</td>\n",
       "      <td>26.63</td>\n",
       "      <td>79.00</td>\n",
       "      <td>2.80</td>\n",
       "      <td>0.87</td>\n",
       "      <td>6.51</td>\n",
       "      <td>7.18</td>\n",
       "      <td>2.21</td>\n",
       "      <td>2.09</td>\n",
       "      <td>0.60</td>\n",
       "      <td>127.66</td>\n",
       "      <td>138.79</td>\n",
       "      <td>16.46</td>\n",
       "      <td>0.52</td>\n",
       "      <td>2.80</td>\n",
       "      <td>Palm Bay, Florida</td>\n",
       "    </tr>\n",
       "    <tr>\n",
       "      <th>2023-08-05</th>\n",
       "      <td>29.29</td>\n",
       "      <td>27.38</td>\n",
       "      <td>80.88</td>\n",
       "      <td>2.23</td>\n",
       "      <td>2.32</td>\n",
       "      <td>6.49</td>\n",
       "      <td>7.19</td>\n",
       "      <td>1.82</td>\n",
       "      <td>2.00</td>\n",
       "      <td>0.60</td>\n",
       "      <td>128.70</td>\n",
       "      <td>140.62</td>\n",
       "      <td>16.71</td>\n",
       "      <td>0.54</td>\n",
       "      <td>2.98</td>\n",
       "      <td>Palm Bay, Florida</td>\n",
       "    </tr>\n",
       "    <tr>\n",
       "      <th>2023-08-06</th>\n",
       "      <td>30.23</td>\n",
       "      <td>27.92</td>\n",
       "      <td>77.50</td>\n",
       "      <td>2.23</td>\n",
       "      <td>2.16</td>\n",
       "      <td>6.22</td>\n",
       "      <td>7.29</td>\n",
       "      <td>2.35</td>\n",
       "      <td>1.76</td>\n",
       "      <td>0.58</td>\n",
       "      <td>124.66</td>\n",
       "      <td>143.42</td>\n",
       "      <td>16.53</td>\n",
       "      <td>0.54</td>\n",
       "      <td>2.91</td>\n",
       "      <td>Palm Bay, Florida</td>\n",
       "    </tr>\n",
       "    <tr>\n",
       "      <th>2023-08-07</th>\n",
       "      <td>30.77</td>\n",
       "      <td>28.37</td>\n",
       "      <td>76.75</td>\n",
       "      <td>1.87</td>\n",
       "      <td>0.92</td>\n",
       "      <td>6.87</td>\n",
       "      <td>7.40</td>\n",
       "      <td>1.64</td>\n",
       "      <td>1.54</td>\n",
       "      <td>0.64</td>\n",
       "      <td>136.62</td>\n",
       "      <td>145.24</td>\n",
       "      <td>17.80</td>\n",
       "      <td>0.58</td>\n",
       "      <td>3.13</td>\n",
       "      <td>Palm Bay, Florida</td>\n",
       "    </tr>\n",
       "    <tr>\n",
       "      <th>2023-08-08</th>\n",
       "      <td>30.88</td>\n",
       "      <td>28.58</td>\n",
       "      <td>77.38</td>\n",
       "      <td>2.38</td>\n",
       "      <td>2.20</td>\n",
       "      <td>6.42</td>\n",
       "      <td>7.38</td>\n",
       "      <td>2.01</td>\n",
       "      <td>1.60</td>\n",
       "      <td>0.59</td>\n",
       "      <td>129.08</td>\n",
       "      <td>145.94</td>\n",
       "      <td>17.12</td>\n",
       "      <td>0.57</td>\n",
       "      <td>3.11</td>\n",
       "      <td>Palm Bay, Florida</td>\n",
       "    </tr>\n",
       "    <tr>\n",
       "      <th>2023-08-09</th>\n",
       "      <td>30.68</td>\n",
       "      <td>28.03</td>\n",
       "      <td>74.44</td>\n",
       "      <td>2.43</td>\n",
       "      <td>2.13</td>\n",
       "      <td>6.66</td>\n",
       "      <td>7.10</td>\n",
       "      <td>2.03</td>\n",
       "      <td>2.22</td>\n",
       "      <td>0.62</td>\n",
       "      <td>131.72</td>\n",
       "      <td>138.79</td>\n",
       "      <td>16.99</td>\n",
       "      <td>0.55</td>\n",
       "      <td>3.03</td>\n",
       "      <td>Palm Bay, Florida</td>\n",
       "    </tr>\n",
       "    <tr>\n",
       "      <th>2023-08-10</th>\n",
       "      <td>30.41</td>\n",
       "      <td>27.74</td>\n",
       "      <td>74.44</td>\n",
       "      <td>2.48</td>\n",
       "      <td>2.71</td>\n",
       "      <td>5.82</td>\n",
       "      <td>7.19</td>\n",
       "      <td>2.75</td>\n",
       "      <td>2.03</td>\n",
       "      <td>0.55</td>\n",
       "      <td>116.40</td>\n",
       "      <td>141.09</td>\n",
       "      <td>15.42</td>\n",
       "      <td>0.52</td>\n",
       "      <td>2.77</td>\n",
       "      <td>Palm Bay, Florida</td>\n",
       "    </tr>\n",
       "    <tr>\n",
       "      <th>2023-08-11</th>\n",
       "      <td>30.14</td>\n",
       "      <td>27.76</td>\n",
       "      <td>77.31</td>\n",
       "      <td>2.45</td>\n",
       "      <td>1.74</td>\n",
       "      <td>6.87</td>\n",
       "      <td>7.11</td>\n",
       "      <td>1.92</td>\n",
       "      <td>2.08</td>\n",
       "      <td>0.64</td>\n",
       "      <td>135.38</td>\n",
       "      <td>138.63</td>\n",
       "      <td>17.40</td>\n",
       "      <td>0.56</td>\n",
       "      <td>3.07</td>\n",
       "      <td>Palm Bay, Florida</td>\n",
       "    </tr>\n",
       "    <tr>\n",
       "      <th>2023-08-12</th>\n",
       "      <td>29.92</td>\n",
       "      <td>28.01</td>\n",
       "      <td>80.94</td>\n",
       "      <td>2.74</td>\n",
       "      <td>2.74</td>\n",
       "      <td>6.06</td>\n",
       "      <td>7.26</td>\n",
       "      <td>2.50</td>\n",
       "      <td>1.68</td>\n",
       "      <td>0.57</td>\n",
       "      <td>121.41</td>\n",
       "      <td>143.18</td>\n",
       "      <td>16.14</td>\n",
       "      <td>0.52</td>\n",
       "      <td>2.73</td>\n",
       "      <td>Palm Bay, Florida</td>\n",
       "    </tr>\n",
       "    <tr>\n",
       "      <th>2023-08-13</th>\n",
       "      <td>29.42</td>\n",
       "      <td>27.65</td>\n",
       "      <td>82.25</td>\n",
       "      <td>3.00</td>\n",
       "      <td>14.01</td>\n",
       "      <td>6.69</td>\n",
       "      <td>7.19</td>\n",
       "      <td>2.15</td>\n",
       "      <td>1.74</td>\n",
       "      <td>0.63</td>\n",
       "      <td>132.29</td>\n",
       "      <td>140.66</td>\n",
       "      <td>17.19</td>\n",
       "      <td>0.54</td>\n",
       "      <td>2.91</td>\n",
       "      <td>Palm Bay, Florida</td>\n",
       "    </tr>\n",
       "    <tr>\n",
       "      <th>2023-08-14</th>\n",
       "      <td>28.91</td>\n",
       "      <td>27.48</td>\n",
       "      <td>85.00</td>\n",
       "      <td>3.06</td>\n",
       "      <td>9.51</td>\n",
       "      <td>5.43</td>\n",
       "      <td>6.94</td>\n",
       "      <td>2.58</td>\n",
       "      <td>2.07</td>\n",
       "      <td>0.52</td>\n",
       "      <td>109.69</td>\n",
       "      <td>137.25</td>\n",
       "      <td>14.68</td>\n",
       "      <td>0.48</td>\n",
       "      <td>2.52</td>\n",
       "      <td>Palm Bay, Florida</td>\n",
       "    </tr>\n",
       "    <tr>\n",
       "      <th>2023-08-15</th>\n",
       "      <td>29.39</td>\n",
       "      <td>27.47</td>\n",
       "      <td>80.81</td>\n",
       "      <td>2.97</td>\n",
       "      <td>3.76</td>\n",
       "      <td>6.37</td>\n",
       "      <td>7.15</td>\n",
       "      <td>2.51</td>\n",
       "      <td>1.89</td>\n",
       "      <td>0.60</td>\n",
       "      <td>127.27</td>\n",
       "      <td>140.99</td>\n",
       "      <td>16.65</td>\n",
       "      <td>0.53</td>\n",
       "      <td>2.84</td>\n",
       "      <td>Palm Bay, Florida</td>\n",
       "    </tr>\n",
       "    <tr>\n",
       "      <th>2023-08-16</th>\n",
       "      <td>28.59</td>\n",
       "      <td>27.15</td>\n",
       "      <td>85.06</td>\n",
       "      <td>3.03</td>\n",
       "      <td>12.46</td>\n",
       "      <td>5.46</td>\n",
       "      <td>7.23</td>\n",
       "      <td>2.17</td>\n",
       "      <td>1.61</td>\n",
       "      <td>0.52</td>\n",
       "      <td>109.89</td>\n",
       "      <td>142.43</td>\n",
       "      <td>14.84</td>\n",
       "      <td>0.50</td>\n",
       "      <td>2.73</td>\n",
       "      <td>Palm Bay, Florida</td>\n",
       "    </tr>\n",
       "    <tr>\n",
       "      <th>2023-08-17</th>\n",
       "      <td>27.65</td>\n",
       "      <td>26.22</td>\n",
       "      <td>84.75</td>\n",
       "      <td>3.57</td>\n",
       "      <td>18.35</td>\n",
       "      <td>4.59</td>\n",
       "      <td>7.06</td>\n",
       "      <td>2.60</td>\n",
       "      <td>1.96</td>\n",
       "      <td>0.44</td>\n",
       "      <td>93.57</td>\n",
       "      <td>139.61</td>\n",
       "      <td>12.85</td>\n",
       "      <td>0.45</td>\n",
       "      <td>2.35</td>\n",
       "      <td>Palm Bay, Florida</td>\n",
       "    </tr>\n",
       "    <tr>\n",
       "      <th>2023-08-18</th>\n",
       "      <td>27.94</td>\n",
       "      <td>25.97</td>\n",
       "      <td>80.19</td>\n",
       "      <td>2.62</td>\n",
       "      <td>2.99</td>\n",
       "      <td>5.72</td>\n",
       "      <td>7.09</td>\n",
       "      <td>1.85</td>\n",
       "      <td>1.88</td>\n",
       "      <td>0.55</td>\n",
       "      <td>114.26</td>\n",
       "      <td>139.31</td>\n",
       "      <td>15.14</td>\n",
       "      <td>0.50</td>\n",
       "      <td>2.73</td>\n",
       "      <td>Palm Bay, Florida</td>\n",
       "    </tr>\n",
       "    <tr>\n",
       "      <th>2023-08-19</th>\n",
       "      <td>28.36</td>\n",
       "      <td>26.31</td>\n",
       "      <td>79.12</td>\n",
       "      <td>3.28</td>\n",
       "      <td>1.53</td>\n",
       "      <td>6.53</td>\n",
       "      <td>7.07</td>\n",
       "      <td>2.08</td>\n",
       "      <td>1.95</td>\n",
       "      <td>0.62</td>\n",
       "      <td>129.84</td>\n",
       "      <td>139.14</td>\n",
       "      <td>16.87</td>\n",
       "      <td>0.53</td>\n",
       "      <td>2.91</td>\n",
       "      <td>Palm Bay, Florida</td>\n",
       "    </tr>\n",
       "    <tr>\n",
       "      <th>2023-08-20</th>\n",
       "      <td>28.55</td>\n",
       "      <td>27.07</td>\n",
       "      <td>84.12</td>\n",
       "      <td>4.37</td>\n",
       "      <td>3.43</td>\n",
       "      <td>4.78</td>\n",
       "      <td>6.74</td>\n",
       "      <td>3.20</td>\n",
       "      <td>2.71</td>\n",
       "      <td>0.46</td>\n",
       "      <td>97.09</td>\n",
       "      <td>133.23</td>\n",
       "      <td>12.98</td>\n",
       "      <td>0.42</td>\n",
       "      <td>2.24</td>\n",
       "      <td>Palm Bay, Florida</td>\n",
       "    </tr>\n",
       "  </tbody>\n",
       "</table>\n",
       "</div>"
      ],
      "text/plain": [
       "              T2M  T2MWET   RH2M  WS10M  PRECTOTCORR  ALLSKY_SFC_SW_DWN  \\\n",
       "Date                                                                      \n",
       "2023-08-01  28.35   26.29  79.44   1.43        11.44               6.69   \n",
       "2023-08-02  28.32   26.58  82.12   2.93         7.14               5.85   \n",
       "2023-08-03  28.65   26.47  77.81   3.84         3.51               6.54   \n",
       "2023-08-04  28.71   26.63  79.00   2.80         0.87               6.51   \n",
       "2023-08-05  29.29   27.38  80.88   2.23         2.32               6.49   \n",
       "2023-08-06  30.23   27.92  77.50   2.23         2.16               6.22   \n",
       "2023-08-07  30.77   28.37  76.75   1.87         0.92               6.87   \n",
       "2023-08-08  30.88   28.58  77.38   2.38         2.20               6.42   \n",
       "2023-08-09  30.68   28.03  74.44   2.43         2.13               6.66   \n",
       "2023-08-10  30.41   27.74  74.44   2.48         2.71               5.82   \n",
       "2023-08-11  30.14   27.76  77.31   2.45         1.74               6.87   \n",
       "2023-08-12  29.92   28.01  80.94   2.74         2.74               6.06   \n",
       "2023-08-13  29.42   27.65  82.25   3.00        14.01               6.69   \n",
       "2023-08-14  28.91   27.48  85.00   3.06         9.51               5.43   \n",
       "2023-08-15  29.39   27.47  80.81   2.97         3.76               6.37   \n",
       "2023-08-16  28.59   27.15  85.06   3.03        12.46               5.46   \n",
       "2023-08-17  27.65   26.22  84.75   3.57        18.35               4.59   \n",
       "2023-08-18  27.94   25.97  80.19   2.62         2.99               5.72   \n",
       "2023-08-19  28.36   26.31  79.12   3.28         1.53               6.53   \n",
       "2023-08-20  28.55   27.07  84.12   4.37         3.43               4.78   \n",
       "\n",
       "            CLRSKY_SFC_SW_DWN  ALLSKY_SFC_SW_DIFF  CLRSKY_SFC_SW_DIFF  \\\n",
       "Date                                                                    \n",
       "2023-08-01               7.28                1.91                2.09   \n",
       "2023-08-02               7.44                2.48                1.86   \n",
       "2023-08-03               7.28                2.23                1.96   \n",
       "2023-08-04               7.18                2.21                2.09   \n",
       "2023-08-05               7.19                1.82                2.00   \n",
       "2023-08-06               7.29                2.35                1.76   \n",
       "2023-08-07               7.40                1.64                1.54   \n",
       "2023-08-08               7.38                2.01                1.60   \n",
       "2023-08-09               7.10                2.03                2.22   \n",
       "2023-08-10               7.19                2.75                2.03   \n",
       "2023-08-11               7.11                1.92                2.08   \n",
       "2023-08-12               7.26                2.50                1.68   \n",
       "2023-08-13               7.19                2.15                1.74   \n",
       "2023-08-14               6.94                2.58                2.07   \n",
       "2023-08-15               7.15                2.51                1.89   \n",
       "2023-08-16               7.23                2.17                1.61   \n",
       "2023-08-17               7.06                2.60                1.96   \n",
       "2023-08-18               7.09                1.85                1.88   \n",
       "2023-08-19               7.07                2.08                1.95   \n",
       "2023-08-20               6.74                3.20                2.71   \n",
       "\n",
       "            ALLSKY_KT  ALLSKY_SFC_PAR_TOT  CLRSKY_SFC_PAR_TOT  ALLSKY_SFC_UVA  \\\n",
       "Date                                                                            \n",
       "2023-08-01       0.62              132.28              141.88           17.13   \n",
       "2023-08-02       0.54              117.30              145.59           15.68   \n",
       "2023-08-03       0.60              128.77              141.27           16.73   \n",
       "2023-08-04       0.60              127.66              138.79           16.46   \n",
       "2023-08-05       0.60              128.70              140.62           16.71   \n",
       "2023-08-06       0.58              124.66              143.42           16.53   \n",
       "2023-08-07       0.64              136.62              145.24           17.80   \n",
       "2023-08-08       0.59              129.08              145.94           17.12   \n",
       "2023-08-09       0.62              131.72              138.79           16.99   \n",
       "2023-08-10       0.55              116.40              141.09           15.42   \n",
       "2023-08-11       0.64              135.38              138.63           17.40   \n",
       "2023-08-12       0.57              121.41              143.18           16.14   \n",
       "2023-08-13       0.63              132.29              140.66           17.19   \n",
       "2023-08-14       0.52              109.69              137.25           14.68   \n",
       "2023-08-15       0.60              127.27              140.99           16.65   \n",
       "2023-08-16       0.52              109.89              142.43           14.84   \n",
       "2023-08-17       0.44               93.57              139.61           12.85   \n",
       "2023-08-18       0.55              114.26              139.31           15.14   \n",
       "2023-08-19       0.62              129.84              139.14           16.87   \n",
       "2023-08-20       0.46               97.09              133.23           12.98   \n",
       "\n",
       "            ALLSKY_SFC_UVB  ALLSKY_SFC_UV_INDEX         City_State  \n",
       "Date                                                                \n",
       "2023-08-01            0.55                 3.01  Palm Bay, Florida  \n",
       "2023-08-02            0.50                 2.64  Palm Bay, Florida  \n",
       "2023-08-03            0.52                 2.78  Palm Bay, Florida  \n",
       "2023-08-04            0.52                 2.80  Palm Bay, Florida  \n",
       "2023-08-05            0.54                 2.98  Palm Bay, Florida  \n",
       "2023-08-06            0.54                 2.91  Palm Bay, Florida  \n",
       "2023-08-07            0.58                 3.13  Palm Bay, Florida  \n",
       "2023-08-08            0.57                 3.11  Palm Bay, Florida  \n",
       "2023-08-09            0.55                 3.03  Palm Bay, Florida  \n",
       "2023-08-10            0.52                 2.77  Palm Bay, Florida  \n",
       "2023-08-11            0.56                 3.07  Palm Bay, Florida  \n",
       "2023-08-12            0.52                 2.73  Palm Bay, Florida  \n",
       "2023-08-13            0.54                 2.91  Palm Bay, Florida  \n",
       "2023-08-14            0.48                 2.52  Palm Bay, Florida  \n",
       "2023-08-15            0.53                 2.84  Palm Bay, Florida  \n",
       "2023-08-16            0.50                 2.73  Palm Bay, Florida  \n",
       "2023-08-17            0.45                 2.35  Palm Bay, Florida  \n",
       "2023-08-18            0.50                 2.73  Palm Bay, Florida  \n",
       "2023-08-19            0.53                 2.91  Palm Bay, Florida  \n",
       "2023-08-20            0.42                 2.24  Palm Bay, Florida  "
      ]
     },
     "execution_count": 9,
     "metadata": {},
     "output_type": "execute_result"
    }
   ],
   "source": [
    "test_data.head(20)"
   ]
  },
  {
   "cell_type": "markdown",
   "id": "ecccd1d1",
   "metadata": {},
   "source": [
    "## ARIMA vs VAR\n"
   ]
  },
  {
   "cell_type": "markdown",
   "id": "3b08a14d",
   "metadata": {},
   "source": [
    "        ARIMA  we need to forcast each time series variable independently. This would mean we would have to apply ARIMA or SARIMA to each of the variables, then we would also need to filter the data for each city/state combination and then apply the model. \n",
    "        We can look into forecast multiple variables while considering interactions between them. There are a few Multivariate time Series models. Vector Autoregression is an extension of ARIMA that will allow us to handle multiple time series simultaneously and model the relationships between them.\n",
    "        \n",
    "        The downside of VAR is that we still need to complete this for each city one by one. Since there maybe multiple cities with the same name but in different states we need to combine the city and state so we don't get inaccurate data. "
   ]
  },
  {
   "cell_type": "markdown",
   "id": "3b36467b",
   "metadata": {},
   "source": [
    "##### VAR"
   ]
  },
  {
   "cell_type": "code",
   "execution_count": 10,
   "id": "6510726b",
   "metadata": {},
   "outputs": [
    {
     "name": "stdout",
     "output_type": "stream",
     "text": [
      "Fitting and forecasting for city/state: New York, New York\n"
     ]
    },
    {
     "name": "stderr",
     "output_type": "stream",
     "text": [
      "C:\\Users\\darde\\anaconda3\\Lib\\site-packages\\statsmodels\\tsa\\base\\tsa_model.py:473: ValueWarning: No frequency information was provided, so inferred frequency D will be used.\n",
      "  self._init_dates(dates, freq)\n"
     ]
    },
    {
     "name": "stdout",
     "output_type": "stream",
     "text": [
      "Fitting and forecasting for city/state: Los Angeles, California\n"
     ]
    },
    {
     "name": "stderr",
     "output_type": "stream",
     "text": [
      "C:\\Users\\darde\\anaconda3\\Lib\\site-packages\\statsmodels\\tsa\\base\\tsa_model.py:473: ValueWarning: No frequency information was provided, so inferred frequency D will be used.\n",
      "  self._init_dates(dates, freq)\n"
     ]
    },
    {
     "name": "stdout",
     "output_type": "stream",
     "text": [
      "Fitting and forecasting for city/state: Chicago, Illinois\n"
     ]
    },
    {
     "name": "stderr",
     "output_type": "stream",
     "text": [
      "C:\\Users\\darde\\anaconda3\\Lib\\site-packages\\statsmodels\\tsa\\base\\tsa_model.py:473: ValueWarning: No frequency information was provided, so inferred frequency D will be used.\n",
      "  self._init_dates(dates, freq)\n"
     ]
    },
    {
     "name": "stdout",
     "output_type": "stream",
     "text": [
      "Fitting and forecasting for city/state: Houston, Texas\n"
     ]
    },
    {
     "name": "stderr",
     "output_type": "stream",
     "text": [
      "C:\\Users\\darde\\anaconda3\\Lib\\site-packages\\statsmodels\\tsa\\base\\tsa_model.py:473: ValueWarning: No frequency information was provided, so inferred frequency D will be used.\n",
      "  self._init_dates(dates, freq)\n"
     ]
    },
    {
     "name": "stdout",
     "output_type": "stream",
     "text": [
      "Fitting and forecasting for city/state: Phoenix, Arizona\n"
     ]
    },
    {
     "name": "stderr",
     "output_type": "stream",
     "text": [
      "C:\\Users\\darde\\anaconda3\\Lib\\site-packages\\statsmodels\\tsa\\base\\tsa_model.py:473: ValueWarning: No frequency information was provided, so inferred frequency D will be used.\n",
      "  self._init_dates(dates, freq)\n"
     ]
    },
    {
     "name": "stdout",
     "output_type": "stream",
     "text": [
      "Fitting and forecasting for city/state: Philadelphia, Pennsylvania\n"
     ]
    },
    {
     "name": "stderr",
     "output_type": "stream",
     "text": [
      "C:\\Users\\darde\\anaconda3\\Lib\\site-packages\\statsmodels\\tsa\\base\\tsa_model.py:473: ValueWarning: No frequency information was provided, so inferred frequency D will be used.\n",
      "  self._init_dates(dates, freq)\n"
     ]
    },
    {
     "name": "stdout",
     "output_type": "stream",
     "text": [
      "Fitting and forecasting for city/state: San Antonio, Texas\n"
     ]
    },
    {
     "name": "stderr",
     "output_type": "stream",
     "text": [
      "C:\\Users\\darde\\anaconda3\\Lib\\site-packages\\statsmodels\\tsa\\base\\tsa_model.py:473: ValueWarning: No frequency information was provided, so inferred frequency D will be used.\n",
      "  self._init_dates(dates, freq)\n"
     ]
    },
    {
     "name": "stdout",
     "output_type": "stream",
     "text": [
      "Fitting and forecasting for city/state: San Diego, California\n"
     ]
    },
    {
     "name": "stderr",
     "output_type": "stream",
     "text": [
      "C:\\Users\\darde\\anaconda3\\Lib\\site-packages\\statsmodels\\tsa\\base\\tsa_model.py:473: ValueWarning: No frequency information was provided, so inferred frequency D will be used.\n",
      "  self._init_dates(dates, freq)\n"
     ]
    },
    {
     "name": "stdout",
     "output_type": "stream",
     "text": [
      "Fitting and forecasting for city/state: Dallas, Texas\n"
     ]
    },
    {
     "name": "stderr",
     "output_type": "stream",
     "text": [
      "C:\\Users\\darde\\anaconda3\\Lib\\site-packages\\statsmodels\\tsa\\base\\tsa_model.py:473: ValueWarning: No frequency information was provided, so inferred frequency D will be used.\n",
      "  self._init_dates(dates, freq)\n"
     ]
    },
    {
     "name": "stdout",
     "output_type": "stream",
     "text": [
      "Fitting and forecasting for city/state: Jacksonville, Florida\n"
     ]
    },
    {
     "name": "stderr",
     "output_type": "stream",
     "text": [
      "C:\\Users\\darde\\anaconda3\\Lib\\site-packages\\statsmodels\\tsa\\base\\tsa_model.py:473: ValueWarning: No frequency information was provided, so inferred frequency D will be used.\n",
      "  self._init_dates(dates, freq)\n"
     ]
    },
    {
     "name": "stdout",
     "output_type": "stream",
     "text": [
      "Fitting and forecasting for city/state: Fort Worth, Texas\n"
     ]
    },
    {
     "name": "stderr",
     "output_type": "stream",
     "text": [
      "C:\\Users\\darde\\anaconda3\\Lib\\site-packages\\statsmodels\\tsa\\base\\tsa_model.py:473: ValueWarning: No frequency information was provided, so inferred frequency D will be used.\n",
      "  self._init_dates(dates, freq)\n"
     ]
    },
    {
     "name": "stdout",
     "output_type": "stream",
     "text": [
      "Fitting and forecasting for city/state: Austin, Texas\n"
     ]
    },
    {
     "name": "stderr",
     "output_type": "stream",
     "text": [
      "C:\\Users\\darde\\anaconda3\\Lib\\site-packages\\statsmodels\\tsa\\base\\tsa_model.py:473: ValueWarning: No frequency information was provided, so inferred frequency D will be used.\n",
      "  self._init_dates(dates, freq)\n"
     ]
    },
    {
     "name": "stdout",
     "output_type": "stream",
     "text": [
      "Fitting and forecasting for city/state: San Jose, California\n"
     ]
    },
    {
     "name": "stderr",
     "output_type": "stream",
     "text": [
      "C:\\Users\\darde\\anaconda3\\Lib\\site-packages\\statsmodels\\tsa\\base\\tsa_model.py:473: ValueWarning: No frequency information was provided, so inferred frequency D will be used.\n",
      "  self._init_dates(dates, freq)\n"
     ]
    },
    {
     "name": "stdout",
     "output_type": "stream",
     "text": [
      "Fitting and forecasting for city/state: Charlotte, North Carolina\n"
     ]
    },
    {
     "name": "stderr",
     "output_type": "stream",
     "text": [
      "C:\\Users\\darde\\anaconda3\\Lib\\site-packages\\statsmodels\\tsa\\base\\tsa_model.py:473: ValueWarning: No frequency information was provided, so inferred frequency D will be used.\n",
      "  self._init_dates(dates, freq)\n"
     ]
    },
    {
     "name": "stdout",
     "output_type": "stream",
     "text": [
      "Fitting and forecasting for city/state: Columbus, Ohio\n"
     ]
    },
    {
     "name": "stderr",
     "output_type": "stream",
     "text": [
      "C:\\Users\\darde\\anaconda3\\Lib\\site-packages\\statsmodels\\tsa\\base\\tsa_model.py:473: ValueWarning: No frequency information was provided, so inferred frequency D will be used.\n",
      "  self._init_dates(dates, freq)\n"
     ]
    },
    {
     "name": "stdout",
     "output_type": "stream",
     "text": [
      "Fitting and forecasting for city/state: Indianapolis, Indiana\n"
     ]
    },
    {
     "name": "stderr",
     "output_type": "stream",
     "text": [
      "C:\\Users\\darde\\anaconda3\\Lib\\site-packages\\statsmodels\\tsa\\base\\tsa_model.py:473: ValueWarning: No frequency information was provided, so inferred frequency D will be used.\n",
      "  self._init_dates(dates, freq)\n"
     ]
    },
    {
     "name": "stdout",
     "output_type": "stream",
     "text": [
      "Fitting and forecasting for city/state: San Francisco, California\n"
     ]
    },
    {
     "name": "stderr",
     "output_type": "stream",
     "text": [
      "C:\\Users\\darde\\anaconda3\\Lib\\site-packages\\statsmodels\\tsa\\base\\tsa_model.py:473: ValueWarning: No frequency information was provided, so inferred frequency D will be used.\n",
      "  self._init_dates(dates, freq)\n"
     ]
    },
    {
     "name": "stdout",
     "output_type": "stream",
     "text": [
      "Fitting and forecasting for city/state: Seattle, Washington\n"
     ]
    },
    {
     "name": "stderr",
     "output_type": "stream",
     "text": [
      "C:\\Users\\darde\\anaconda3\\Lib\\site-packages\\statsmodels\\tsa\\base\\tsa_model.py:473: ValueWarning: No frequency information was provided, so inferred frequency D will be used.\n",
      "  self._init_dates(dates, freq)\n"
     ]
    },
    {
     "name": "stdout",
     "output_type": "stream",
     "text": [
      "Fitting and forecasting for city/state: Denver, Colorado\n"
     ]
    },
    {
     "name": "stderr",
     "output_type": "stream",
     "text": [
      "C:\\Users\\darde\\anaconda3\\Lib\\site-packages\\statsmodels\\tsa\\base\\tsa_model.py:473: ValueWarning: No frequency information was provided, so inferred frequency D will be used.\n",
      "  self._init_dates(dates, freq)\n"
     ]
    },
    {
     "name": "stdout",
     "output_type": "stream",
     "text": [
      "Fitting and forecasting for city/state: Oklahoma City, Oklahoma\n"
     ]
    },
    {
     "name": "stderr",
     "output_type": "stream",
     "text": [
      "C:\\Users\\darde\\anaconda3\\Lib\\site-packages\\statsmodels\\tsa\\base\\tsa_model.py:473: ValueWarning: No frequency information was provided, so inferred frequency D will be used.\n",
      "  self._init_dates(dates, freq)\n"
     ]
    },
    {
     "name": "stdout",
     "output_type": "stream",
     "text": [
      "Fitting and forecasting for city/state: Nashville, Tennessee\n"
     ]
    },
    {
     "name": "stderr",
     "output_type": "stream",
     "text": [
      "C:\\Users\\darde\\anaconda3\\Lib\\site-packages\\statsmodels\\tsa\\base\\tsa_model.py:473: ValueWarning: No frequency information was provided, so inferred frequency D will be used.\n",
      "  self._init_dates(dates, freq)\n"
     ]
    },
    {
     "name": "stdout",
     "output_type": "stream",
     "text": [
      "Fitting and forecasting for city/state: Washington, District of Columbia\n"
     ]
    },
    {
     "name": "stderr",
     "output_type": "stream",
     "text": [
      "C:\\Users\\darde\\anaconda3\\Lib\\site-packages\\statsmodels\\tsa\\base\\tsa_model.py:473: ValueWarning: No frequency information was provided, so inferred frequency D will be used.\n",
      "  self._init_dates(dates, freq)\n"
     ]
    },
    {
     "name": "stdout",
     "output_type": "stream",
     "text": [
      "Fitting and forecasting for city/state: El Paso, Texas\n"
     ]
    },
    {
     "name": "stderr",
     "output_type": "stream",
     "text": [
      "C:\\Users\\darde\\anaconda3\\Lib\\site-packages\\statsmodels\\tsa\\base\\tsa_model.py:473: ValueWarning: No frequency information was provided, so inferred frequency D will be used.\n",
      "  self._init_dates(dates, freq)\n"
     ]
    },
    {
     "name": "stdout",
     "output_type": "stream",
     "text": [
      "Fitting and forecasting for city/state: Las Vegas, Nevada\n"
     ]
    },
    {
     "name": "stderr",
     "output_type": "stream",
     "text": [
      "C:\\Users\\darde\\anaconda3\\Lib\\site-packages\\statsmodels\\tsa\\base\\tsa_model.py:473: ValueWarning: No frequency information was provided, so inferred frequency D will be used.\n",
      "  self._init_dates(dates, freq)\n"
     ]
    },
    {
     "name": "stdout",
     "output_type": "stream",
     "text": [
      "Fitting and forecasting for city/state: Boston, Massachusetts\n"
     ]
    },
    {
     "name": "stderr",
     "output_type": "stream",
     "text": [
      "C:\\Users\\darde\\anaconda3\\Lib\\site-packages\\statsmodels\\tsa\\base\\tsa_model.py:473: ValueWarning: No frequency information was provided, so inferred frequency D will be used.\n",
      "  self._init_dates(dates, freq)\n"
     ]
    },
    {
     "name": "stdout",
     "output_type": "stream",
     "text": [
      "Fitting and forecasting for city/state: Detroit, Michigan\n"
     ]
    },
    {
     "name": "stderr",
     "output_type": "stream",
     "text": [
      "C:\\Users\\darde\\anaconda3\\Lib\\site-packages\\statsmodels\\tsa\\base\\tsa_model.py:473: ValueWarning: No frequency information was provided, so inferred frequency D will be used.\n",
      "  self._init_dates(dates, freq)\n"
     ]
    },
    {
     "name": "stdout",
     "output_type": "stream",
     "text": [
      "Fitting and forecasting for city/state: Portland, Oregon\n"
     ]
    },
    {
     "name": "stderr",
     "output_type": "stream",
     "text": [
      "C:\\Users\\darde\\anaconda3\\Lib\\site-packages\\statsmodels\\tsa\\base\\tsa_model.py:473: ValueWarning: No frequency information was provided, so inferred frequency D will be used.\n",
      "  self._init_dates(dates, freq)\n"
     ]
    },
    {
     "name": "stdout",
     "output_type": "stream",
     "text": [
      "Fitting and forecasting for city/state: Louisville, Kentucky\n"
     ]
    },
    {
     "name": "stderr",
     "output_type": "stream",
     "text": [
      "C:\\Users\\darde\\anaconda3\\Lib\\site-packages\\statsmodels\\tsa\\base\\tsa_model.py:473: ValueWarning: No frequency information was provided, so inferred frequency D will be used.\n",
      "  self._init_dates(dates, freq)\n"
     ]
    },
    {
     "name": "stdout",
     "output_type": "stream",
     "text": [
      "Fitting and forecasting for city/state: Memphis, Tennessee\n"
     ]
    },
    {
     "name": "stderr",
     "output_type": "stream",
     "text": [
      "C:\\Users\\darde\\anaconda3\\Lib\\site-packages\\statsmodels\\tsa\\base\\tsa_model.py:473: ValueWarning: No frequency information was provided, so inferred frequency D will be used.\n",
      "  self._init_dates(dates, freq)\n"
     ]
    },
    {
     "name": "stdout",
     "output_type": "stream",
     "text": [
      "Fitting and forecasting for city/state: Baltimore, Maryland\n"
     ]
    },
    {
     "name": "stderr",
     "output_type": "stream",
     "text": [
      "C:\\Users\\darde\\anaconda3\\Lib\\site-packages\\statsmodels\\tsa\\base\\tsa_model.py:473: ValueWarning: No frequency information was provided, so inferred frequency D will be used.\n",
      "  self._init_dates(dates, freq)\n"
     ]
    },
    {
     "name": "stdout",
     "output_type": "stream",
     "text": [
      "Fitting and forecasting for city/state: Albuquerque, New Mexico\n"
     ]
    },
    {
     "name": "stderr",
     "output_type": "stream",
     "text": [
      "C:\\Users\\darde\\anaconda3\\Lib\\site-packages\\statsmodels\\tsa\\base\\tsa_model.py:473: ValueWarning: No frequency information was provided, so inferred frequency D will be used.\n",
      "  self._init_dates(dates, freq)\n"
     ]
    },
    {
     "name": "stdout",
     "output_type": "stream",
     "text": [
      "Fitting and forecasting for city/state: Milwaukee, Wisconsin\n"
     ]
    },
    {
     "name": "stderr",
     "output_type": "stream",
     "text": [
      "C:\\Users\\darde\\anaconda3\\Lib\\site-packages\\statsmodels\\tsa\\base\\tsa_model.py:473: ValueWarning: No frequency information was provided, so inferred frequency D will be used.\n",
      "  self._init_dates(dates, freq)\n"
     ]
    },
    {
     "name": "stdout",
     "output_type": "stream",
     "text": [
      "Fitting and forecasting for city/state: Tucson, Arizona\n"
     ]
    },
    {
     "name": "stderr",
     "output_type": "stream",
     "text": [
      "C:\\Users\\darde\\anaconda3\\Lib\\site-packages\\statsmodels\\tsa\\base\\tsa_model.py:473: ValueWarning: No frequency information was provided, so inferred frequency D will be used.\n",
      "  self._init_dates(dates, freq)\n"
     ]
    },
    {
     "name": "stdout",
     "output_type": "stream",
     "text": [
      "Fitting and forecasting for city/state: Fresno, California\n"
     ]
    },
    {
     "name": "stderr",
     "output_type": "stream",
     "text": [
      "C:\\Users\\darde\\anaconda3\\Lib\\site-packages\\statsmodels\\tsa\\base\\tsa_model.py:473: ValueWarning: No frequency information was provided, so inferred frequency D will be used.\n",
      "  self._init_dates(dates, freq)\n"
     ]
    },
    {
     "name": "stdout",
     "output_type": "stream",
     "text": [
      "Fitting and forecasting for city/state: Sacramento, California\n"
     ]
    },
    {
     "name": "stderr",
     "output_type": "stream",
     "text": [
      "C:\\Users\\darde\\anaconda3\\Lib\\site-packages\\statsmodels\\tsa\\base\\tsa_model.py:473: ValueWarning: No frequency information was provided, so inferred frequency D will be used.\n",
      "  self._init_dates(dates, freq)\n"
     ]
    },
    {
     "name": "stdout",
     "output_type": "stream",
     "text": [
      "Fitting and forecasting for city/state: Atlanta, Georgia\n"
     ]
    },
    {
     "name": "stderr",
     "output_type": "stream",
     "text": [
      "C:\\Users\\darde\\anaconda3\\Lib\\site-packages\\statsmodels\\tsa\\base\\tsa_model.py:473: ValueWarning: No frequency information was provided, so inferred frequency D will be used.\n",
      "  self._init_dates(dates, freq)\n"
     ]
    },
    {
     "name": "stdout",
     "output_type": "stream",
     "text": [
      "Fitting and forecasting for city/state: Mesa, Arizona\n"
     ]
    },
    {
     "name": "stderr",
     "output_type": "stream",
     "text": [
      "C:\\Users\\darde\\anaconda3\\Lib\\site-packages\\statsmodels\\tsa\\base\\tsa_model.py:473: ValueWarning: No frequency information was provided, so inferred frequency D will be used.\n",
      "  self._init_dates(dates, freq)\n"
     ]
    },
    {
     "name": "stdout",
     "output_type": "stream",
     "text": [
      "Fitting and forecasting for city/state: Kansas City, Missouri\n"
     ]
    },
    {
     "name": "stderr",
     "output_type": "stream",
     "text": [
      "C:\\Users\\darde\\anaconda3\\Lib\\site-packages\\statsmodels\\tsa\\base\\tsa_model.py:473: ValueWarning: No frequency information was provided, so inferred frequency D will be used.\n",
      "  self._init_dates(dates, freq)\n"
     ]
    },
    {
     "name": "stdout",
     "output_type": "stream",
     "text": [
      "Fitting and forecasting for city/state: Colorado Springs, Colorado\n"
     ]
    },
    {
     "name": "stderr",
     "output_type": "stream",
     "text": [
      "C:\\Users\\darde\\anaconda3\\Lib\\site-packages\\statsmodels\\tsa\\base\\tsa_model.py:473: ValueWarning: No frequency information was provided, so inferred frequency D will be used.\n",
      "  self._init_dates(dates, freq)\n"
     ]
    },
    {
     "name": "stdout",
     "output_type": "stream",
     "text": [
      "Fitting and forecasting for city/state: Raleigh, North Carolina\n"
     ]
    },
    {
     "name": "stderr",
     "output_type": "stream",
     "text": [
      "C:\\Users\\darde\\anaconda3\\Lib\\site-packages\\statsmodels\\tsa\\base\\tsa_model.py:473: ValueWarning: No frequency information was provided, so inferred frequency D will be used.\n",
      "  self._init_dates(dates, freq)\n"
     ]
    },
    {
     "name": "stdout",
     "output_type": "stream",
     "text": [
      "Fitting and forecasting for city/state: Omaha, Nebraska\n"
     ]
    },
    {
     "name": "stderr",
     "output_type": "stream",
     "text": [
      "C:\\Users\\darde\\anaconda3\\Lib\\site-packages\\statsmodels\\tsa\\base\\tsa_model.py:473: ValueWarning: No frequency information was provided, so inferred frequency D will be used.\n",
      "  self._init_dates(dates, freq)\n"
     ]
    },
    {
     "name": "stdout",
     "output_type": "stream",
     "text": [
      "Fitting and forecasting for city/state: Miami, Florida\n"
     ]
    },
    {
     "name": "stderr",
     "output_type": "stream",
     "text": [
      "C:\\Users\\darde\\anaconda3\\Lib\\site-packages\\statsmodels\\tsa\\base\\tsa_model.py:473: ValueWarning: No frequency information was provided, so inferred frequency D will be used.\n",
      "  self._init_dates(dates, freq)\n"
     ]
    },
    {
     "name": "stdout",
     "output_type": "stream",
     "text": [
      "Fitting and forecasting for city/state: Virginia Beach, Virginia\n"
     ]
    },
    {
     "name": "stderr",
     "output_type": "stream",
     "text": [
      "C:\\Users\\darde\\anaconda3\\Lib\\site-packages\\statsmodels\\tsa\\base\\tsa_model.py:473: ValueWarning: No frequency information was provided, so inferred frequency D will be used.\n",
      "  self._init_dates(dates, freq)\n"
     ]
    },
    {
     "name": "stdout",
     "output_type": "stream",
     "text": [
      "Fitting and forecasting for city/state: Long Beach, California\n"
     ]
    },
    {
     "name": "stderr",
     "output_type": "stream",
     "text": [
      "C:\\Users\\darde\\anaconda3\\Lib\\site-packages\\statsmodels\\tsa\\base\\tsa_model.py:473: ValueWarning: No frequency information was provided, so inferred frequency D will be used.\n",
      "  self._init_dates(dates, freq)\n"
     ]
    },
    {
     "name": "stdout",
     "output_type": "stream",
     "text": [
      "Fitting and forecasting for city/state: Oakland, California\n"
     ]
    },
    {
     "name": "stderr",
     "output_type": "stream",
     "text": [
      "C:\\Users\\darde\\anaconda3\\Lib\\site-packages\\statsmodels\\tsa\\base\\tsa_model.py:473: ValueWarning: No frequency information was provided, so inferred frequency D will be used.\n",
      "  self._init_dates(dates, freq)\n"
     ]
    },
    {
     "name": "stdout",
     "output_type": "stream",
     "text": [
      "Fitting and forecasting for city/state: Minneapolis, Minnesota\n"
     ]
    },
    {
     "name": "stderr",
     "output_type": "stream",
     "text": [
      "C:\\Users\\darde\\anaconda3\\Lib\\site-packages\\statsmodels\\tsa\\base\\tsa_model.py:473: ValueWarning: No frequency information was provided, so inferred frequency D will be used.\n",
      "  self._init_dates(dates, freq)\n"
     ]
    },
    {
     "name": "stdout",
     "output_type": "stream",
     "text": [
      "Fitting and forecasting for city/state: Bakersfield, California\n"
     ]
    },
    {
     "name": "stderr",
     "output_type": "stream",
     "text": [
      "C:\\Users\\darde\\anaconda3\\Lib\\site-packages\\statsmodels\\tsa\\base\\tsa_model.py:473: ValueWarning: No frequency information was provided, so inferred frequency D will be used.\n",
      "  self._init_dates(dates, freq)\n"
     ]
    },
    {
     "name": "stdout",
     "output_type": "stream",
     "text": [
      "Fitting and forecasting for city/state: Tulsa, Oklahoma\n"
     ]
    },
    {
     "name": "stderr",
     "output_type": "stream",
     "text": [
      "C:\\Users\\darde\\anaconda3\\Lib\\site-packages\\statsmodels\\tsa\\base\\tsa_model.py:473: ValueWarning: No frequency information was provided, so inferred frequency D will be used.\n",
      "  self._init_dates(dates, freq)\n"
     ]
    },
    {
     "name": "stdout",
     "output_type": "stream",
     "text": [
      "Fitting and forecasting for city/state: Tampa, Florida\n"
     ]
    },
    {
     "name": "stderr",
     "output_type": "stream",
     "text": [
      "C:\\Users\\darde\\anaconda3\\Lib\\site-packages\\statsmodels\\tsa\\base\\tsa_model.py:473: ValueWarning: No frequency information was provided, so inferred frequency D will be used.\n",
      "  self._init_dates(dates, freq)\n"
     ]
    },
    {
     "name": "stdout",
     "output_type": "stream",
     "text": [
      "Fitting and forecasting for city/state: Arlington, Texas\n"
     ]
    },
    {
     "name": "stderr",
     "output_type": "stream",
     "text": [
      "C:\\Users\\darde\\anaconda3\\Lib\\site-packages\\statsmodels\\tsa\\base\\tsa_model.py:473: ValueWarning: No frequency information was provided, so inferred frequency D will be used.\n",
      "  self._init_dates(dates, freq)\n"
     ]
    },
    {
     "name": "stdout",
     "output_type": "stream",
     "text": [
      "Fitting and forecasting for city/state: Aurora, Colorado\n"
     ]
    },
    {
     "name": "stderr",
     "output_type": "stream",
     "text": [
      "C:\\Users\\darde\\anaconda3\\Lib\\site-packages\\statsmodels\\tsa\\base\\tsa_model.py:473: ValueWarning: No frequency information was provided, so inferred frequency D will be used.\n",
      "  self._init_dates(dates, freq)\n"
     ]
    },
    {
     "name": "stdout",
     "output_type": "stream",
     "text": [
      "Fitting and forecasting for city/state: Wichita, Kansas\n"
     ]
    },
    {
     "name": "stderr",
     "output_type": "stream",
     "text": [
      "C:\\Users\\darde\\anaconda3\\Lib\\site-packages\\statsmodels\\tsa\\base\\tsa_model.py:473: ValueWarning: No frequency information was provided, so inferred frequency D will be used.\n",
      "  self._init_dates(dates, freq)\n"
     ]
    },
    {
     "name": "stdout",
     "output_type": "stream",
     "text": [
      "Fitting and forecasting for city/state: Cleveland, Ohio\n"
     ]
    },
    {
     "name": "stderr",
     "output_type": "stream",
     "text": [
      "C:\\Users\\darde\\anaconda3\\Lib\\site-packages\\statsmodels\\tsa\\base\\tsa_model.py:473: ValueWarning: No frequency information was provided, so inferred frequency D will be used.\n",
      "  self._init_dates(dates, freq)\n"
     ]
    },
    {
     "name": "stdout",
     "output_type": "stream",
     "text": [
      "Fitting and forecasting for city/state: New Orleans, Louisiana\n"
     ]
    },
    {
     "name": "stderr",
     "output_type": "stream",
     "text": [
      "C:\\Users\\darde\\anaconda3\\Lib\\site-packages\\statsmodels\\tsa\\base\\tsa_model.py:473: ValueWarning: No frequency information was provided, so inferred frequency D will be used.\n",
      "  self._init_dates(dates, freq)\n"
     ]
    },
    {
     "name": "stdout",
     "output_type": "stream",
     "text": [
      "Fitting and forecasting for city/state: Henderson, Nevada\n"
     ]
    },
    {
     "name": "stderr",
     "output_type": "stream",
     "text": [
      "C:\\Users\\darde\\anaconda3\\Lib\\site-packages\\statsmodels\\tsa\\base\\tsa_model.py:473: ValueWarning: No frequency information was provided, so inferred frequency D will be used.\n",
      "  self._init_dates(dates, freq)\n"
     ]
    },
    {
     "name": "stdout",
     "output_type": "stream",
     "text": [
      "Fitting and forecasting for city/state: Honolulu, Hawaii\n"
     ]
    },
    {
     "name": "stderr",
     "output_type": "stream",
     "text": [
      "C:\\Users\\darde\\anaconda3\\Lib\\site-packages\\statsmodels\\tsa\\base\\tsa_model.py:473: ValueWarning: No frequency information was provided, so inferred frequency D will be used.\n",
      "  self._init_dates(dates, freq)\n"
     ]
    },
    {
     "name": "stdout",
     "output_type": "stream",
     "text": [
      "Fitting and forecasting for city/state: Anaheim, California\n"
     ]
    },
    {
     "name": "stderr",
     "output_type": "stream",
     "text": [
      "C:\\Users\\darde\\anaconda3\\Lib\\site-packages\\statsmodels\\tsa\\base\\tsa_model.py:473: ValueWarning: No frequency information was provided, so inferred frequency D will be used.\n",
      "  self._init_dates(dates, freq)\n"
     ]
    },
    {
     "name": "stdout",
     "output_type": "stream",
     "text": [
      "Fitting and forecasting for city/state: Orlando, Florida\n"
     ]
    },
    {
     "name": "stderr",
     "output_type": "stream",
     "text": [
      "C:\\Users\\darde\\anaconda3\\Lib\\site-packages\\statsmodels\\tsa\\base\\tsa_model.py:473: ValueWarning: No frequency information was provided, so inferred frequency D will be used.\n",
      "  self._init_dates(dates, freq)\n"
     ]
    },
    {
     "name": "stdout",
     "output_type": "stream",
     "text": [
      "Fitting and forecasting for city/state: Riverside, California\n"
     ]
    },
    {
     "name": "stderr",
     "output_type": "stream",
     "text": [
      "C:\\Users\\darde\\anaconda3\\Lib\\site-packages\\statsmodels\\tsa\\base\\tsa_model.py:473: ValueWarning: No frequency information was provided, so inferred frequency D will be used.\n",
      "  self._init_dates(dates, freq)\n"
     ]
    },
    {
     "name": "stdout",
     "output_type": "stream",
     "text": [
      "Fitting and forecasting for city/state: Lexington, Kentucky\n"
     ]
    },
    {
     "name": "stderr",
     "output_type": "stream",
     "text": [
      "C:\\Users\\darde\\anaconda3\\Lib\\site-packages\\statsmodels\\tsa\\base\\tsa_model.py:473: ValueWarning: No frequency information was provided, so inferred frequency D will be used.\n",
      "  self._init_dates(dates, freq)\n"
     ]
    },
    {
     "name": "stdout",
     "output_type": "stream",
     "text": [
      "Fitting and forecasting for city/state: Stockton, California\n"
     ]
    },
    {
     "name": "stderr",
     "output_type": "stream",
     "text": [
      "C:\\Users\\darde\\anaconda3\\Lib\\site-packages\\statsmodels\\tsa\\base\\tsa_model.py:473: ValueWarning: No frequency information was provided, so inferred frequency D will be used.\n",
      "  self._init_dates(dates, freq)\n"
     ]
    },
    {
     "name": "stdout",
     "output_type": "stream",
     "text": [
      "Fitting and forecasting for city/state: Irvine, California\n"
     ]
    },
    {
     "name": "stderr",
     "output_type": "stream",
     "text": [
      "C:\\Users\\darde\\anaconda3\\Lib\\site-packages\\statsmodels\\tsa\\base\\tsa_model.py:473: ValueWarning: No frequency information was provided, so inferred frequency D will be used.\n",
      "  self._init_dates(dates, freq)\n"
     ]
    },
    {
     "name": "stdout",
     "output_type": "stream",
     "text": [
      "Fitting and forecasting for city/state: Corpus Christi, Texas\n"
     ]
    },
    {
     "name": "stderr",
     "output_type": "stream",
     "text": [
      "C:\\Users\\darde\\anaconda3\\Lib\\site-packages\\statsmodels\\tsa\\base\\tsa_model.py:473: ValueWarning: No frequency information was provided, so inferred frequency D will be used.\n",
      "  self._init_dates(dates, freq)\n"
     ]
    },
    {
     "name": "stdout",
     "output_type": "stream",
     "text": [
      "Fitting and forecasting for city/state: Cincinnati, Ohio\n"
     ]
    },
    {
     "name": "stderr",
     "output_type": "stream",
     "text": [
      "C:\\Users\\darde\\anaconda3\\Lib\\site-packages\\statsmodels\\tsa\\base\\tsa_model.py:473: ValueWarning: No frequency information was provided, so inferred frequency D will be used.\n",
      "  self._init_dates(dates, freq)\n"
     ]
    },
    {
     "name": "stdout",
     "output_type": "stream",
     "text": [
      "Fitting and forecasting for city/state: Santa Ana, California\n"
     ]
    },
    {
     "name": "stderr",
     "output_type": "stream",
     "text": [
      "C:\\Users\\darde\\anaconda3\\Lib\\site-packages\\statsmodels\\tsa\\base\\tsa_model.py:473: ValueWarning: No frequency information was provided, so inferred frequency D will be used.\n",
      "  self._init_dates(dates, freq)\n"
     ]
    },
    {
     "name": "stdout",
     "output_type": "stream",
     "text": [
      "Fitting and forecasting for city/state: Greensboro, North Carolina\n"
     ]
    },
    {
     "name": "stderr",
     "output_type": "stream",
     "text": [
      "C:\\Users\\darde\\anaconda3\\Lib\\site-packages\\statsmodels\\tsa\\base\\tsa_model.py:473: ValueWarning: No frequency information was provided, so inferred frequency D will be used.\n",
      "  self._init_dates(dates, freq)\n"
     ]
    },
    {
     "name": "stdout",
     "output_type": "stream",
     "text": [
      "Fitting and forecasting for city/state: Pittsburgh, Pennsylvania\n"
     ]
    },
    {
     "name": "stderr",
     "output_type": "stream",
     "text": [
      "C:\\Users\\darde\\anaconda3\\Lib\\site-packages\\statsmodels\\tsa\\base\\tsa_model.py:473: ValueWarning: No frequency information was provided, so inferred frequency D will be used.\n",
      "  self._init_dates(dates, freq)\n"
     ]
    },
    {
     "name": "stdout",
     "output_type": "stream",
     "text": [
      "Fitting and forecasting for city/state: Newark, New Jersey\n"
     ]
    },
    {
     "name": "stderr",
     "output_type": "stream",
     "text": [
      "C:\\Users\\darde\\anaconda3\\Lib\\site-packages\\statsmodels\\tsa\\base\\tsa_model.py:473: ValueWarning: No frequency information was provided, so inferred frequency D will be used.\n",
      "  self._init_dates(dates, freq)\n"
     ]
    },
    {
     "name": "stdout",
     "output_type": "stream",
     "text": [
      "Fitting and forecasting for city/state: St. Paul, Minnesota\n"
     ]
    },
    {
     "name": "stderr",
     "output_type": "stream",
     "text": [
      "C:\\Users\\darde\\anaconda3\\Lib\\site-packages\\statsmodels\\tsa\\base\\tsa_model.py:473: ValueWarning: No frequency information was provided, so inferred frequency D will be used.\n",
      "  self._init_dates(dates, freq)\n"
     ]
    },
    {
     "name": "stdout",
     "output_type": "stream",
     "text": [
      "Fitting and forecasting for city/state: Durham, North Carolina\n"
     ]
    },
    {
     "name": "stderr",
     "output_type": "stream",
     "text": [
      "C:\\Users\\darde\\anaconda3\\Lib\\site-packages\\statsmodels\\tsa\\base\\tsa_model.py:473: ValueWarning: No frequency information was provided, so inferred frequency D will be used.\n",
      "  self._init_dates(dates, freq)\n"
     ]
    },
    {
     "name": "stdout",
     "output_type": "stream",
     "text": [
      "Fitting and forecasting for city/state: Lincoln, Nebraska\n"
     ]
    },
    {
     "name": "stderr",
     "output_type": "stream",
     "text": [
      "C:\\Users\\darde\\anaconda3\\Lib\\site-packages\\statsmodels\\tsa\\base\\tsa_model.py:473: ValueWarning: No frequency information was provided, so inferred frequency D will be used.\n",
      "  self._init_dates(dates, freq)\n"
     ]
    },
    {
     "name": "stdout",
     "output_type": "stream",
     "text": [
      "Fitting and forecasting for city/state: North Las Vegas, Nevada\n"
     ]
    },
    {
     "name": "stderr",
     "output_type": "stream",
     "text": [
      "C:\\Users\\darde\\anaconda3\\Lib\\site-packages\\statsmodels\\tsa\\base\\tsa_model.py:473: ValueWarning: No frequency information was provided, so inferred frequency D will be used.\n",
      "  self._init_dates(dates, freq)\n"
     ]
    },
    {
     "name": "stdout",
     "output_type": "stream",
     "text": [
      "Fitting and forecasting for city/state: Jersey City, New Jersey\n"
     ]
    },
    {
     "name": "stderr",
     "output_type": "stream",
     "text": [
      "C:\\Users\\darde\\anaconda3\\Lib\\site-packages\\statsmodels\\tsa\\base\\tsa_model.py:473: ValueWarning: No frequency information was provided, so inferred frequency D will be used.\n",
      "  self._init_dates(dates, freq)\n"
     ]
    },
    {
     "name": "stdout",
     "output_type": "stream",
     "text": [
      "Fitting and forecasting for city/state: Plano, Texas\n"
     ]
    },
    {
     "name": "stderr",
     "output_type": "stream",
     "text": [
      "C:\\Users\\darde\\anaconda3\\Lib\\site-packages\\statsmodels\\tsa\\base\\tsa_model.py:473: ValueWarning: No frequency information was provided, so inferred frequency D will be used.\n",
      "  self._init_dates(dates, freq)\n"
     ]
    },
    {
     "name": "stdout",
     "output_type": "stream",
     "text": [
      "Fitting and forecasting for city/state: Anchorage, Alaska\n"
     ]
    },
    {
     "name": "stderr",
     "output_type": "stream",
     "text": [
      "C:\\Users\\darde\\anaconda3\\Lib\\site-packages\\statsmodels\\tsa\\base\\tsa_model.py:473: ValueWarning: No frequency information was provided, so inferred frequency D will be used.\n",
      "  self._init_dates(dates, freq)\n"
     ]
    },
    {
     "name": "stdout",
     "output_type": "stream",
     "text": [
      "Fitting and forecasting for city/state: Madison, Wisconsin\n"
     ]
    },
    {
     "name": "stderr",
     "output_type": "stream",
     "text": [
      "C:\\Users\\darde\\anaconda3\\Lib\\site-packages\\statsmodels\\tsa\\base\\tsa_model.py:473: ValueWarning: No frequency information was provided, so inferred frequency D will be used.\n",
      "  self._init_dates(dates, freq)\n"
     ]
    },
    {
     "name": "stdout",
     "output_type": "stream",
     "text": [
      "Fitting and forecasting for city/state: Chandler, Arizona\n"
     ]
    },
    {
     "name": "stderr",
     "output_type": "stream",
     "text": [
      "C:\\Users\\darde\\anaconda3\\Lib\\site-packages\\statsmodels\\tsa\\base\\tsa_model.py:473: ValueWarning: No frequency information was provided, so inferred frequency D will be used.\n",
      "  self._init_dates(dates, freq)\n"
     ]
    },
    {
     "name": "stdout",
     "output_type": "stream",
     "text": [
      "Fitting and forecasting for city/state: Reno, Nevada\n"
     ]
    },
    {
     "name": "stderr",
     "output_type": "stream",
     "text": [
      "C:\\Users\\darde\\anaconda3\\Lib\\site-packages\\statsmodels\\tsa\\base\\tsa_model.py:473: ValueWarning: No frequency information was provided, so inferred frequency D will be used.\n",
      "  self._init_dates(dates, freq)\n"
     ]
    },
    {
     "name": "stdout",
     "output_type": "stream",
     "text": [
      "Fitting and forecasting for city/state: Gilbert, Arizona\n"
     ]
    },
    {
     "name": "stderr",
     "output_type": "stream",
     "text": [
      "C:\\Users\\darde\\anaconda3\\Lib\\site-packages\\statsmodels\\tsa\\base\\tsa_model.py:473: ValueWarning: No frequency information was provided, so inferred frequency D will be used.\n",
      "  self._init_dates(dates, freq)\n"
     ]
    },
    {
     "name": "stdout",
     "output_type": "stream",
     "text": [
      "Fitting and forecasting for city/state: St. Louis, Missouri\n"
     ]
    },
    {
     "name": "stderr",
     "output_type": "stream",
     "text": [
      "C:\\Users\\darde\\anaconda3\\Lib\\site-packages\\statsmodels\\tsa\\base\\tsa_model.py:473: ValueWarning: No frequency information was provided, so inferred frequency D will be used.\n",
      "  self._init_dates(dates, freq)\n"
     ]
    },
    {
     "name": "stdout",
     "output_type": "stream",
     "text": [
      "Fitting and forecasting for city/state: Chula Vista, California\n"
     ]
    },
    {
     "name": "stderr",
     "output_type": "stream",
     "text": [
      "C:\\Users\\darde\\anaconda3\\Lib\\site-packages\\statsmodels\\tsa\\base\\tsa_model.py:473: ValueWarning: No frequency information was provided, so inferred frequency D will be used.\n",
      "  self._init_dates(dates, freq)\n"
     ]
    },
    {
     "name": "stdout",
     "output_type": "stream",
     "text": [
      "Fitting and forecasting for city/state: Buffalo, New York\n"
     ]
    },
    {
     "name": "stderr",
     "output_type": "stream",
     "text": [
      "C:\\Users\\darde\\anaconda3\\Lib\\site-packages\\statsmodels\\tsa\\base\\tsa_model.py:473: ValueWarning: No frequency information was provided, so inferred frequency D will be used.\n",
      "  self._init_dates(dates, freq)\n"
     ]
    },
    {
     "name": "stdout",
     "output_type": "stream",
     "text": [
      "Fitting and forecasting for city/state: Fort Wayne, Indiana\n"
     ]
    },
    {
     "name": "stderr",
     "output_type": "stream",
     "text": [
      "C:\\Users\\darde\\anaconda3\\Lib\\site-packages\\statsmodels\\tsa\\base\\tsa_model.py:473: ValueWarning: No frequency information was provided, so inferred frequency D will be used.\n",
      "  self._init_dates(dates, freq)\n"
     ]
    },
    {
     "name": "stdout",
     "output_type": "stream",
     "text": [
      "Fitting and forecasting for city/state: Lubbock, Texas\n"
     ]
    },
    {
     "name": "stderr",
     "output_type": "stream",
     "text": [
      "C:\\Users\\darde\\anaconda3\\Lib\\site-packages\\statsmodels\\tsa\\base\\tsa_model.py:473: ValueWarning: No frequency information was provided, so inferred frequency D will be used.\n",
      "  self._init_dates(dates, freq)\n"
     ]
    },
    {
     "name": "stdout",
     "output_type": "stream",
     "text": [
      "Fitting and forecasting for city/state: St. Petersburg, Florida\n"
     ]
    },
    {
     "name": "stderr",
     "output_type": "stream",
     "text": [
      "C:\\Users\\darde\\anaconda3\\Lib\\site-packages\\statsmodels\\tsa\\base\\tsa_model.py:473: ValueWarning: No frequency information was provided, so inferred frequency D will be used.\n",
      "  self._init_dates(dates, freq)\n"
     ]
    },
    {
     "name": "stdout",
     "output_type": "stream",
     "text": [
      "Fitting and forecasting for city/state: Toledo, Ohio\n"
     ]
    },
    {
     "name": "stderr",
     "output_type": "stream",
     "text": [
      "C:\\Users\\darde\\anaconda3\\Lib\\site-packages\\statsmodels\\tsa\\base\\tsa_model.py:473: ValueWarning: No frequency information was provided, so inferred frequency D will be used.\n",
      "  self._init_dates(dates, freq)\n"
     ]
    },
    {
     "name": "stdout",
     "output_type": "stream",
     "text": [
      "Fitting and forecasting for city/state: Laredo, Texas\n"
     ]
    },
    {
     "name": "stderr",
     "output_type": "stream",
     "text": [
      "C:\\Users\\darde\\anaconda3\\Lib\\site-packages\\statsmodels\\tsa\\base\\tsa_model.py:473: ValueWarning: No frequency information was provided, so inferred frequency D will be used.\n",
      "  self._init_dates(dates, freq)\n"
     ]
    },
    {
     "name": "stdout",
     "output_type": "stream",
     "text": [
      "Fitting and forecasting for city/state: Port St. Lucie, Florida\n"
     ]
    },
    {
     "name": "stderr",
     "output_type": "stream",
     "text": [
      "C:\\Users\\darde\\anaconda3\\Lib\\site-packages\\statsmodels\\tsa\\base\\tsa_model.py:473: ValueWarning: No frequency information was provided, so inferred frequency D will be used.\n",
      "  self._init_dates(dates, freq)\n"
     ]
    },
    {
     "name": "stdout",
     "output_type": "stream",
     "text": [
      "Fitting and forecasting for city/state: Glendale, Arizona\n"
     ]
    },
    {
     "name": "stderr",
     "output_type": "stream",
     "text": [
      "C:\\Users\\darde\\anaconda3\\Lib\\site-packages\\statsmodels\\tsa\\base\\tsa_model.py:473: ValueWarning: No frequency information was provided, so inferred frequency D will be used.\n",
      "  self._init_dates(dates, freq)\n"
     ]
    },
    {
     "name": "stdout",
     "output_type": "stream",
     "text": [
      "Fitting and forecasting for city/state: Chesapeake, Virginia\n"
     ]
    },
    {
     "name": "stderr",
     "output_type": "stream",
     "text": [
      "C:\\Users\\darde\\anaconda3\\Lib\\site-packages\\statsmodels\\tsa\\base\\tsa_model.py:473: ValueWarning: No frequency information was provided, so inferred frequency D will be used.\n",
      "  self._init_dates(dates, freq)\n"
     ]
    },
    {
     "name": "stdout",
     "output_type": "stream",
     "text": [
      "Fitting and forecasting for city/state: Winston, North Carolina\n"
     ]
    },
    {
     "name": "stderr",
     "output_type": "stream",
     "text": [
      "C:\\Users\\darde\\anaconda3\\Lib\\site-packages\\statsmodels\\tsa\\base\\tsa_model.py:473: ValueWarning: No frequency information was provided, so inferred frequency D will be used.\n",
      "  self._init_dates(dates, freq)\n"
     ]
    },
    {
     "name": "stdout",
     "output_type": "stream",
     "text": [
      "Fitting and forecasting for city/state: Irving, Texas\n"
     ]
    },
    {
     "name": "stderr",
     "output_type": "stream",
     "text": [
      "C:\\Users\\darde\\anaconda3\\Lib\\site-packages\\statsmodels\\tsa\\base\\tsa_model.py:473: ValueWarning: No frequency information was provided, so inferred frequency D will be used.\n",
      "  self._init_dates(dates, freq)\n"
     ]
    },
    {
     "name": "stdout",
     "output_type": "stream",
     "text": [
      "Fitting and forecasting for city/state: Scottsdale, Arizona\n"
     ]
    },
    {
     "name": "stderr",
     "output_type": "stream",
     "text": [
      "C:\\Users\\darde\\anaconda3\\Lib\\site-packages\\statsmodels\\tsa\\base\\tsa_model.py:473: ValueWarning: No frequency information was provided, so inferred frequency D will be used.\n",
      "  self._init_dates(dates, freq)\n"
     ]
    },
    {
     "name": "stdout",
     "output_type": "stream",
     "text": [
      "Fitting and forecasting for city/state: Garland, Texas\n"
     ]
    },
    {
     "name": "stderr",
     "output_type": "stream",
     "text": [
      "C:\\Users\\darde\\anaconda3\\Lib\\site-packages\\statsmodels\\tsa\\base\\tsa_model.py:473: ValueWarning: No frequency information was provided, so inferred frequency D will be used.\n",
      "  self._init_dates(dates, freq)\n"
     ]
    },
    {
     "name": "stdout",
     "output_type": "stream",
     "text": [
      "Fitting and forecasting for city/state: Enterprise, Nevada\n"
     ]
    },
    {
     "name": "stderr",
     "output_type": "stream",
     "text": [
      "C:\\Users\\darde\\anaconda3\\Lib\\site-packages\\statsmodels\\tsa\\base\\tsa_model.py:473: ValueWarning: No frequency information was provided, so inferred frequency D will be used.\n",
      "  self._init_dates(dates, freq)\n"
     ]
    },
    {
     "name": "stdout",
     "output_type": "stream",
     "text": [
      "Fitting and forecasting for city/state: Arlington, Virginia\n"
     ]
    },
    {
     "name": "stderr",
     "output_type": "stream",
     "text": [
      "C:\\Users\\darde\\anaconda3\\Lib\\site-packages\\statsmodels\\tsa\\base\\tsa_model.py:473: ValueWarning: No frequency information was provided, so inferred frequency D will be used.\n",
      "  self._init_dates(dates, freq)\n"
     ]
    },
    {
     "name": "stdout",
     "output_type": "stream",
     "text": [
      "Fitting and forecasting for city/state: Boise, Idaho\n"
     ]
    },
    {
     "name": "stderr",
     "output_type": "stream",
     "text": [
      "C:\\Users\\darde\\anaconda3\\Lib\\site-packages\\statsmodels\\tsa\\base\\tsa_model.py:473: ValueWarning: No frequency information was provided, so inferred frequency D will be used.\n",
      "  self._init_dates(dates, freq)\n"
     ]
    },
    {
     "name": "stdout",
     "output_type": "stream",
     "text": [
      "Fitting and forecasting for city/state: Cape Coral, Florida\n"
     ]
    },
    {
     "name": "stderr",
     "output_type": "stream",
     "text": [
      "C:\\Users\\darde\\anaconda3\\Lib\\site-packages\\statsmodels\\tsa\\base\\tsa_model.py:473: ValueWarning: No frequency information was provided, so inferred frequency D will be used.\n",
      "  self._init_dates(dates, freq)\n"
     ]
    },
    {
     "name": "stdout",
     "output_type": "stream",
     "text": [
      "Fitting and forecasting for city/state: Frisco, Texas\n"
     ]
    },
    {
     "name": "stderr",
     "output_type": "stream",
     "text": [
      "C:\\Users\\darde\\anaconda3\\Lib\\site-packages\\statsmodels\\tsa\\base\\tsa_model.py:473: ValueWarning: No frequency information was provided, so inferred frequency D will be used.\n",
      "  self._init_dates(dates, freq)\n"
     ]
    },
    {
     "name": "stdout",
     "output_type": "stream",
     "text": [
      "Fitting and forecasting for city/state: Richmond, Virginia\n"
     ]
    },
    {
     "name": "stderr",
     "output_type": "stream",
     "text": [
      "C:\\Users\\darde\\anaconda3\\Lib\\site-packages\\statsmodels\\tsa\\base\\tsa_model.py:473: ValueWarning: No frequency information was provided, so inferred frequency D will be used.\n",
      "  self._init_dates(dates, freq)\n"
     ]
    },
    {
     "name": "stdout",
     "output_type": "stream",
     "text": [
      "Fitting and forecasting for city/state: Spokane, Washington\n"
     ]
    },
    {
     "name": "stderr",
     "output_type": "stream",
     "text": [
      "C:\\Users\\darde\\anaconda3\\Lib\\site-packages\\statsmodels\\tsa\\base\\tsa_model.py:473: ValueWarning: No frequency information was provided, so inferred frequency D will be used.\n",
      "  self._init_dates(dates, freq)\n"
     ]
    },
    {
     "name": "stdout",
     "output_type": "stream",
     "text": [
      "Fitting and forecasting for city/state: Norfolk, Virginia\n"
     ]
    },
    {
     "name": "stderr",
     "output_type": "stream",
     "text": [
      "C:\\Users\\darde\\anaconda3\\Lib\\site-packages\\statsmodels\\tsa\\base\\tsa_model.py:473: ValueWarning: No frequency information was provided, so inferred frequency D will be used.\n",
      "  self._init_dates(dates, freq)\n"
     ]
    },
    {
     "name": "stdout",
     "output_type": "stream",
     "text": [
      "Fitting and forecasting for city/state: Huntsville, Alabama\n"
     ]
    },
    {
     "name": "stderr",
     "output_type": "stream",
     "text": [
      "C:\\Users\\darde\\anaconda3\\Lib\\site-packages\\statsmodels\\tsa\\base\\tsa_model.py:473: ValueWarning: No frequency information was provided, so inferred frequency D will be used.\n",
      "  self._init_dates(dates, freq)\n"
     ]
    },
    {
     "name": "stdout",
     "output_type": "stream",
     "text": [
      "Fitting and forecasting for city/state: Fremont, California\n"
     ]
    },
    {
     "name": "stderr",
     "output_type": "stream",
     "text": [
      "C:\\Users\\darde\\anaconda3\\Lib\\site-packages\\statsmodels\\tsa\\base\\tsa_model.py:473: ValueWarning: No frequency information was provided, so inferred frequency D will be used.\n",
      "  self._init_dates(dates, freq)\n"
     ]
    },
    {
     "name": "stdout",
     "output_type": "stream",
     "text": [
      "Fitting and forecasting for city/state: San Bernardino, California\n"
     ]
    },
    {
     "name": "stderr",
     "output_type": "stream",
     "text": [
      "C:\\Users\\darde\\anaconda3\\Lib\\site-packages\\statsmodels\\tsa\\base\\tsa_model.py:473: ValueWarning: No frequency information was provided, so inferred frequency D will be used.\n",
      "  self._init_dates(dates, freq)\n"
     ]
    },
    {
     "name": "stdout",
     "output_type": "stream",
     "text": [
      "Fitting and forecasting for city/state: Tacoma, Washington\n"
     ]
    },
    {
     "name": "stderr",
     "output_type": "stream",
     "text": [
      "C:\\Users\\darde\\anaconda3\\Lib\\site-packages\\statsmodels\\tsa\\base\\tsa_model.py:473: ValueWarning: No frequency information was provided, so inferred frequency D will be used.\n",
      "  self._init_dates(dates, freq)\n"
     ]
    },
    {
     "name": "stdout",
     "output_type": "stream",
     "text": [
      "Fitting and forecasting for city/state: Spring Valley, Nevada\n"
     ]
    },
    {
     "name": "stderr",
     "output_type": "stream",
     "text": [
      "C:\\Users\\darde\\anaconda3\\Lib\\site-packages\\statsmodels\\tsa\\base\\tsa_model.py:473: ValueWarning: No frequency information was provided, so inferred frequency D will be used.\n",
      "  self._init_dates(dates, freq)\n"
     ]
    },
    {
     "name": "stdout",
     "output_type": "stream",
     "text": [
      "Fitting and forecasting for city/state: Santa Clarita, California\n"
     ]
    },
    {
     "name": "stderr",
     "output_type": "stream",
     "text": [
      "C:\\Users\\darde\\anaconda3\\Lib\\site-packages\\statsmodels\\tsa\\base\\tsa_model.py:473: ValueWarning: No frequency information was provided, so inferred frequency D will be used.\n",
      "  self._init_dates(dates, freq)\n"
     ]
    },
    {
     "name": "stdout",
     "output_type": "stream",
     "text": [
      "Fitting and forecasting for city/state: Hialeah, Florida\n"
     ]
    },
    {
     "name": "stderr",
     "output_type": "stream",
     "text": [
      "C:\\Users\\darde\\anaconda3\\Lib\\site-packages\\statsmodels\\tsa\\base\\tsa_model.py:473: ValueWarning: No frequency information was provided, so inferred frequency D will be used.\n",
      "  self._init_dates(dates, freq)\n"
     ]
    },
    {
     "name": "stdout",
     "output_type": "stream",
     "text": [
      "Fitting and forecasting for city/state: Modesto, California\n"
     ]
    },
    {
     "name": "stderr",
     "output_type": "stream",
     "text": [
      "C:\\Users\\darde\\anaconda3\\Lib\\site-packages\\statsmodels\\tsa\\base\\tsa_model.py:473: ValueWarning: No frequency information was provided, so inferred frequency D will be used.\n",
      "  self._init_dates(dates, freq)\n"
     ]
    },
    {
     "name": "stdout",
     "output_type": "stream",
     "text": [
      "Fitting and forecasting for city/state: McKinney, Texas\n"
     ]
    },
    {
     "name": "stderr",
     "output_type": "stream",
     "text": [
      "C:\\Users\\darde\\anaconda3\\Lib\\site-packages\\statsmodels\\tsa\\base\\tsa_model.py:473: ValueWarning: No frequency information was provided, so inferred frequency D will be used.\n",
      "  self._init_dates(dates, freq)\n"
     ]
    },
    {
     "name": "stdout",
     "output_type": "stream",
     "text": [
      "Fitting and forecasting for city/state: Fontana, California\n"
     ]
    },
    {
     "name": "stderr",
     "output_type": "stream",
     "text": [
      "C:\\Users\\darde\\anaconda3\\Lib\\site-packages\\statsmodels\\tsa\\base\\tsa_model.py:473: ValueWarning: No frequency information was provided, so inferred frequency D will be used.\n",
      "  self._init_dates(dates, freq)\n"
     ]
    },
    {
     "name": "stdout",
     "output_type": "stream",
     "text": [
      "Fitting and forecasting for city/state: Baton Rouge, Louisiana\n"
     ]
    },
    {
     "name": "stderr",
     "output_type": "stream",
     "text": [
      "C:\\Users\\darde\\anaconda3\\Lib\\site-packages\\statsmodels\\tsa\\base\\tsa_model.py:473: ValueWarning: No frequency information was provided, so inferred frequency D will be used.\n",
      "  self._init_dates(dates, freq)\n"
     ]
    },
    {
     "name": "stdout",
     "output_type": "stream",
     "text": [
      "Fitting and forecasting for city/state: Moreno Valley, California\n"
     ]
    },
    {
     "name": "stderr",
     "output_type": "stream",
     "text": [
      "C:\\Users\\darde\\anaconda3\\Lib\\site-packages\\statsmodels\\tsa\\base\\tsa_model.py:473: ValueWarning: No frequency information was provided, so inferred frequency D will be used.\n",
      "  self._init_dates(dates, freq)\n"
     ]
    },
    {
     "name": "stdout",
     "output_type": "stream",
     "text": [
      "Fitting and forecasting for city/state: Salt Lake City, Utah\n"
     ]
    },
    {
     "name": "stderr",
     "output_type": "stream",
     "text": [
      "C:\\Users\\darde\\anaconda3\\Lib\\site-packages\\statsmodels\\tsa\\base\\tsa_model.py:473: ValueWarning: No frequency information was provided, so inferred frequency D will be used.\n",
      "  self._init_dates(dates, freq)\n"
     ]
    },
    {
     "name": "stdout",
     "output_type": "stream",
     "text": [
      "Fitting and forecasting for city/state: Sioux Falls, South Dakota\n"
     ]
    },
    {
     "name": "stderr",
     "output_type": "stream",
     "text": [
      "C:\\Users\\darde\\anaconda3\\Lib\\site-packages\\statsmodels\\tsa\\base\\tsa_model.py:473: ValueWarning: No frequency information was provided, so inferred frequency D will be used.\n",
      "  self._init_dates(dates, freq)\n"
     ]
    },
    {
     "name": "stdout",
     "output_type": "stream",
     "text": [
      "Fitting and forecasting for city/state: Fayetteville, North Carolina\n"
     ]
    },
    {
     "name": "stderr",
     "output_type": "stream",
     "text": [
      "C:\\Users\\darde\\anaconda3\\Lib\\site-packages\\statsmodels\\tsa\\base\\tsa_model.py:473: ValueWarning: No frequency information was provided, so inferred frequency D will be used.\n",
      "  self._init_dates(dates, freq)\n"
     ]
    },
    {
     "name": "stdout",
     "output_type": "stream",
     "text": [
      "Fitting and forecasting for city/state: Des Moines, Iowa\n"
     ]
    },
    {
     "name": "stderr",
     "output_type": "stream",
     "text": [
      "C:\\Users\\darde\\anaconda3\\Lib\\site-packages\\statsmodels\\tsa\\base\\tsa_model.py:473: ValueWarning: No frequency information was provided, so inferred frequency D will be used.\n",
      "  self._init_dates(dates, freq)\n"
     ]
    },
    {
     "name": "stdout",
     "output_type": "stream",
     "text": [
      "Fitting and forecasting for city/state: Worcester, Massachusetts\n"
     ]
    },
    {
     "name": "stderr",
     "output_type": "stream",
     "text": [
      "C:\\Users\\darde\\anaconda3\\Lib\\site-packages\\statsmodels\\tsa\\base\\tsa_model.py:473: ValueWarning: No frequency information was provided, so inferred frequency D will be used.\n",
      "  self._init_dates(dates, freq)\n"
     ]
    },
    {
     "name": "stdout",
     "output_type": "stream",
     "text": [
      "Fitting and forecasting for city/state: Yonkers, New York\n"
     ]
    },
    {
     "name": "stderr",
     "output_type": "stream",
     "text": [
      "C:\\Users\\darde\\anaconda3\\Lib\\site-packages\\statsmodels\\tsa\\base\\tsa_model.py:473: ValueWarning: No frequency information was provided, so inferred frequency D will be used.\n",
      "  self._init_dates(dates, freq)\n"
     ]
    },
    {
     "name": "stdout",
     "output_type": "stream",
     "text": [
      "Fitting and forecasting for city/state: Rochester, New York\n"
     ]
    },
    {
     "name": "stderr",
     "output_type": "stream",
     "text": [
      "C:\\Users\\darde\\anaconda3\\Lib\\site-packages\\statsmodels\\tsa\\base\\tsa_model.py:473: ValueWarning: No frequency information was provided, so inferred frequency D will be used.\n",
      "  self._init_dates(dates, freq)\n"
     ]
    },
    {
     "name": "stdout",
     "output_type": "stream",
     "text": [
      "Fitting and forecasting for city/state: Little Rock, Arkansas\n"
     ]
    },
    {
     "name": "stderr",
     "output_type": "stream",
     "text": [
      "C:\\Users\\darde\\anaconda3\\Lib\\site-packages\\statsmodels\\tsa\\base\\tsa_model.py:473: ValueWarning: No frequency information was provided, so inferred frequency D will be used.\n",
      "  self._init_dates(dates, freq)\n"
     ]
    },
    {
     "name": "stdout",
     "output_type": "stream",
     "text": [
      "Fitting and forecasting for city/state: Grand Prairie, Texas\n"
     ]
    },
    {
     "name": "stderr",
     "output_type": "stream",
     "text": [
      "C:\\Users\\darde\\anaconda3\\Lib\\site-packages\\statsmodels\\tsa\\base\\tsa_model.py:473: ValueWarning: No frequency information was provided, so inferred frequency D will be used.\n",
      "  self._init_dates(dates, freq)\n"
     ]
    },
    {
     "name": "stdout",
     "output_type": "stream",
     "text": [
      "Fitting and forecasting for city/state: Tallahassee, Florida\n"
     ]
    },
    {
     "name": "stderr",
     "output_type": "stream",
     "text": [
      "C:\\Users\\darde\\anaconda3\\Lib\\site-packages\\statsmodels\\tsa\\base\\tsa_model.py:473: ValueWarning: No frequency information was provided, so inferred frequency D will be used.\n",
      "  self._init_dates(dates, freq)\n"
     ]
    },
    {
     "name": "stdout",
     "output_type": "stream",
     "text": [
      "Fitting and forecasting for city/state: Amarillo, Texas\n"
     ]
    },
    {
     "name": "stderr",
     "output_type": "stream",
     "text": [
      "C:\\Users\\darde\\anaconda3\\Lib\\site-packages\\statsmodels\\tsa\\base\\tsa_model.py:473: ValueWarning: No frequency information was provided, so inferred frequency D will be used.\n",
      "  self._init_dates(dates, freq)\n"
     ]
    },
    {
     "name": "stdout",
     "output_type": "stream",
     "text": [
      "Fitting and forecasting for city/state: Peoria, Arizona\n"
     ]
    },
    {
     "name": "stderr",
     "output_type": "stream",
     "text": [
      "C:\\Users\\darde\\anaconda3\\Lib\\site-packages\\statsmodels\\tsa\\base\\tsa_model.py:473: ValueWarning: No frequency information was provided, so inferred frequency D will be used.\n",
      "  self._init_dates(dates, freq)\n"
     ]
    },
    {
     "name": "stdout",
     "output_type": "stream",
     "text": [
      "Fitting and forecasting for city/state: Augusta, Georgia\n"
     ]
    },
    {
     "name": "stderr",
     "output_type": "stream",
     "text": [
      "C:\\Users\\darde\\anaconda3\\Lib\\site-packages\\statsmodels\\tsa\\base\\tsa_model.py:473: ValueWarning: No frequency information was provided, so inferred frequency D will be used.\n",
      "  self._init_dates(dates, freq)\n"
     ]
    },
    {
     "name": "stdout",
     "output_type": "stream",
     "text": [
      "Fitting and forecasting for city/state: Knoxville, Tennessee\n"
     ]
    },
    {
     "name": "stderr",
     "output_type": "stream",
     "text": [
      "C:\\Users\\darde\\anaconda3\\Lib\\site-packages\\statsmodels\\tsa\\base\\tsa_model.py:473: ValueWarning: No frequency information was provided, so inferred frequency D will be used.\n",
      "  self._init_dates(dates, freq)\n"
     ]
    },
    {
     "name": "stdout",
     "output_type": "stream",
     "text": [
      "Fitting and forecasting for city/state: Columbus, Georgia\n"
     ]
    },
    {
     "name": "stderr",
     "output_type": "stream",
     "text": [
      "C:\\Users\\darde\\anaconda3\\Lib\\site-packages\\statsmodels\\tsa\\base\\tsa_model.py:473: ValueWarning: No frequency information was provided, so inferred frequency D will be used.\n",
      "  self._init_dates(dates, freq)\n"
     ]
    },
    {
     "name": "stdout",
     "output_type": "stream",
     "text": [
      "Fitting and forecasting for city/state: Sunrise Manor, Nevada\n"
     ]
    },
    {
     "name": "stderr",
     "output_type": "stream",
     "text": [
      "C:\\Users\\darde\\anaconda3\\Lib\\site-packages\\statsmodels\\tsa\\base\\tsa_model.py:473: ValueWarning: No frequency information was provided, so inferred frequency D will be used.\n",
      "  self._init_dates(dates, freq)\n"
     ]
    },
    {
     "name": "stdout",
     "output_type": "stream",
     "text": [
      "Fitting and forecasting for city/state: Vancouver, Washington\n"
     ]
    },
    {
     "name": "stderr",
     "output_type": "stream",
     "text": [
      "C:\\Users\\darde\\anaconda3\\Lib\\site-packages\\statsmodels\\tsa\\base\\tsa_model.py:473: ValueWarning: No frequency information was provided, so inferred frequency D will be used.\n",
      "  self._init_dates(dates, freq)\n"
     ]
    },
    {
     "name": "stdout",
     "output_type": "stream",
     "text": [
      "Fitting and forecasting for city/state: Oxnard, California\n"
     ]
    },
    {
     "name": "stderr",
     "output_type": "stream",
     "text": [
      "C:\\Users\\darde\\anaconda3\\Lib\\site-packages\\statsmodels\\tsa\\base\\tsa_model.py:473: ValueWarning: No frequency information was provided, so inferred frequency D will be used.\n",
      "  self._init_dates(dates, freq)\n"
     ]
    },
    {
     "name": "stdout",
     "output_type": "stream",
     "text": [
      "Fitting and forecasting for city/state: Overland Park, Kansas\n"
     ]
    },
    {
     "name": "stderr",
     "output_type": "stream",
     "text": [
      "C:\\Users\\darde\\anaconda3\\Lib\\site-packages\\statsmodels\\tsa\\base\\tsa_model.py:473: ValueWarning: No frequency information was provided, so inferred frequency D will be used.\n",
      "  self._init_dates(dates, freq)\n"
     ]
    },
    {
     "name": "stdout",
     "output_type": "stream",
     "text": [
      "Fitting and forecasting for city/state: Grand Rapids, Michigan\n"
     ]
    },
    {
     "name": "stderr",
     "output_type": "stream",
     "text": [
      "C:\\Users\\darde\\anaconda3\\Lib\\site-packages\\statsmodels\\tsa\\base\\tsa_model.py:473: ValueWarning: No frequency information was provided, so inferred frequency D will be used.\n",
      "  self._init_dates(dates, freq)\n"
     ]
    },
    {
     "name": "stdout",
     "output_type": "stream",
     "text": [
      "Fitting and forecasting for city/state: Birmingham, Alabama\n"
     ]
    },
    {
     "name": "stderr",
     "output_type": "stream",
     "text": [
      "C:\\Users\\darde\\anaconda3\\Lib\\site-packages\\statsmodels\\tsa\\base\\tsa_model.py:473: ValueWarning: No frequency information was provided, so inferred frequency D will be used.\n",
      "  self._init_dates(dates, freq)\n"
     ]
    },
    {
     "name": "stdout",
     "output_type": "stream",
     "text": [
      "Fitting and forecasting for city/state: Montgomery, Alabama\n"
     ]
    },
    {
     "name": "stderr",
     "output_type": "stream",
     "text": [
      "C:\\Users\\darde\\anaconda3\\Lib\\site-packages\\statsmodels\\tsa\\base\\tsa_model.py:473: ValueWarning: No frequency information was provided, so inferred frequency D will be used.\n",
      "  self._init_dates(dates, freq)\n"
     ]
    },
    {
     "name": "stdout",
     "output_type": "stream",
     "text": [
      "Fitting and forecasting for city/state: Tempe, Arizona\n"
     ]
    },
    {
     "name": "stderr",
     "output_type": "stream",
     "text": [
      "C:\\Users\\darde\\anaconda3\\Lib\\site-packages\\statsmodels\\tsa\\base\\tsa_model.py:473: ValueWarning: No frequency information was provided, so inferred frequency D will be used.\n",
      "  self._init_dates(dates, freq)\n"
     ]
    },
    {
     "name": "stdout",
     "output_type": "stream",
     "text": [
      "Fitting and forecasting for city/state: Brownsville, Texas\n"
     ]
    },
    {
     "name": "stderr",
     "output_type": "stream",
     "text": [
      "C:\\Users\\darde\\anaconda3\\Lib\\site-packages\\statsmodels\\tsa\\base\\tsa_model.py:473: ValueWarning: No frequency information was provided, so inferred frequency D will be used.\n",
      "  self._init_dates(dates, freq)\n"
     ]
    },
    {
     "name": "stdout",
     "output_type": "stream",
     "text": [
      "Fitting and forecasting for city/state: Providence, Rhode Island\n"
     ]
    },
    {
     "name": "stderr",
     "output_type": "stream",
     "text": [
      "C:\\Users\\darde\\anaconda3\\Lib\\site-packages\\statsmodels\\tsa\\base\\tsa_model.py:473: ValueWarning: No frequency information was provided, so inferred frequency D will be used.\n",
      "  self._init_dates(dates, freq)\n"
     ]
    },
    {
     "name": "stdout",
     "output_type": "stream",
     "text": [
      "Fitting and forecasting for city/state: Huntington Beach, California\n"
     ]
    },
    {
     "name": "stderr",
     "output_type": "stream",
     "text": [
      "C:\\Users\\darde\\anaconda3\\Lib\\site-packages\\statsmodels\\tsa\\base\\tsa_model.py:473: ValueWarning: No frequency information was provided, so inferred frequency D will be used.\n",
      "  self._init_dates(dates, freq)\n"
     ]
    },
    {
     "name": "stdout",
     "output_type": "stream",
     "text": [
      "Fitting and forecasting for city/state: Paradise, Nevada\n"
     ]
    },
    {
     "name": "stderr",
     "output_type": "stream",
     "text": [
      "C:\\Users\\darde\\anaconda3\\Lib\\site-packages\\statsmodels\\tsa\\base\\tsa_model.py:473: ValueWarning: No frequency information was provided, so inferred frequency D will be used.\n",
      "  self._init_dates(dates, freq)\n"
     ]
    },
    {
     "name": "stdout",
     "output_type": "stream",
     "text": [
      "Fitting and forecasting for city/state: Chattanooga, Tennessee\n"
     ]
    },
    {
     "name": "stderr",
     "output_type": "stream",
     "text": [
      "C:\\Users\\darde\\anaconda3\\Lib\\site-packages\\statsmodels\\tsa\\base\\tsa_model.py:473: ValueWarning: No frequency information was provided, so inferred frequency D will be used.\n",
      "  self._init_dates(dates, freq)\n"
     ]
    },
    {
     "name": "stdout",
     "output_type": "stream",
     "text": [
      "Fitting and forecasting for city/state: Akron, Ohio\n"
     ]
    },
    {
     "name": "stderr",
     "output_type": "stream",
     "text": [
      "C:\\Users\\darde\\anaconda3\\Lib\\site-packages\\statsmodels\\tsa\\base\\tsa_model.py:473: ValueWarning: No frequency information was provided, so inferred frequency D will be used.\n",
      "  self._init_dates(dates, freq)\n"
     ]
    },
    {
     "name": "stdout",
     "output_type": "stream",
     "text": [
      "Fitting and forecasting for city/state: Clarksville, Tennessee\n"
     ]
    },
    {
     "name": "stderr",
     "output_type": "stream",
     "text": [
      "C:\\Users\\darde\\anaconda3\\Lib\\site-packages\\statsmodels\\tsa\\base\\tsa_model.py:473: ValueWarning: No frequency information was provided, so inferred frequency D will be used.\n",
      "  self._init_dates(dates, freq)\n"
     ]
    },
    {
     "name": "stdout",
     "output_type": "stream",
     "text": [
      "Fitting and forecasting for city/state: Fort Lauderdale, Florida\n"
     ]
    },
    {
     "name": "stderr",
     "output_type": "stream",
     "text": [
      "C:\\Users\\darde\\anaconda3\\Lib\\site-packages\\statsmodels\\tsa\\base\\tsa_model.py:473: ValueWarning: No frequency information was provided, so inferred frequency D will be used.\n",
      "  self._init_dates(dates, freq)\n"
     ]
    },
    {
     "name": "stdout",
     "output_type": "stream",
     "text": [
      "Fitting and forecasting for city/state: Ontario, California\n"
     ]
    },
    {
     "name": "stderr",
     "output_type": "stream",
     "text": [
      "C:\\Users\\darde\\anaconda3\\Lib\\site-packages\\statsmodels\\tsa\\base\\tsa_model.py:473: ValueWarning: No frequency information was provided, so inferred frequency D will be used.\n",
      "  self._init_dates(dates, freq)\n"
     ]
    },
    {
     "name": "stdout",
     "output_type": "stream",
     "text": [
      "Fitting and forecasting for city/state: Glendale, California\n"
     ]
    },
    {
     "name": "stderr",
     "output_type": "stream",
     "text": [
      "C:\\Users\\darde\\anaconda3\\Lib\\site-packages\\statsmodels\\tsa\\base\\tsa_model.py:473: ValueWarning: No frequency information was provided, so inferred frequency D will be used.\n",
      "  self._init_dates(dates, freq)\n"
     ]
    },
    {
     "name": "stdout",
     "output_type": "stream",
     "text": [
      "Fitting and forecasting for city/state: Newport News, Virginia\n"
     ]
    },
    {
     "name": "stderr",
     "output_type": "stream",
     "text": [
      "C:\\Users\\darde\\anaconda3\\Lib\\site-packages\\statsmodels\\tsa\\base\\tsa_model.py:473: ValueWarning: No frequency information was provided, so inferred frequency D will be used.\n",
      "  self._init_dates(dates, freq)\n"
     ]
    },
    {
     "name": "stdout",
     "output_type": "stream",
     "text": [
      "Fitting and forecasting for city/state: Cary, North Carolina\n"
     ]
    },
    {
     "name": "stderr",
     "output_type": "stream",
     "text": [
      "C:\\Users\\darde\\anaconda3\\Lib\\site-packages\\statsmodels\\tsa\\base\\tsa_model.py:473: ValueWarning: No frequency information was provided, so inferred frequency D will be used.\n",
      "  self._init_dates(dates, freq)\n"
     ]
    },
    {
     "name": "stdout",
     "output_type": "stream",
     "text": [
      "Fitting and forecasting for city/state: Mobile, Alabama\n"
     ]
    },
    {
     "name": "stderr",
     "output_type": "stream",
     "text": [
      "C:\\Users\\darde\\anaconda3\\Lib\\site-packages\\statsmodels\\tsa\\base\\tsa_model.py:473: ValueWarning: No frequency information was provided, so inferred frequency D will be used.\n",
      "  self._init_dates(dates, freq)\n"
     ]
    },
    {
     "name": "stdout",
     "output_type": "stream",
     "text": [
      "Fitting and forecasting for city/state: Elk Grove, California\n"
     ]
    },
    {
     "name": "stderr",
     "output_type": "stream",
     "text": [
      "C:\\Users\\darde\\anaconda3\\Lib\\site-packages\\statsmodels\\tsa\\base\\tsa_model.py:473: ValueWarning: No frequency information was provided, so inferred frequency D will be used.\n",
      "  self._init_dates(dates, freq)\n"
     ]
    },
    {
     "name": "stdout",
     "output_type": "stream",
     "text": [
      "Fitting and forecasting for city/state: Eugene, Oregon\n"
     ]
    },
    {
     "name": "stderr",
     "output_type": "stream",
     "text": [
      "C:\\Users\\darde\\anaconda3\\Lib\\site-packages\\statsmodels\\tsa\\base\\tsa_model.py:473: ValueWarning: No frequency information was provided, so inferred frequency D will be used.\n",
      "  self._init_dates(dates, freq)\n"
     ]
    },
    {
     "name": "stdout",
     "output_type": "stream",
     "text": [
      "Fitting and forecasting for city/state: Salem, Oregon\n"
     ]
    },
    {
     "name": "stderr",
     "output_type": "stream",
     "text": [
      "C:\\Users\\darde\\anaconda3\\Lib\\site-packages\\statsmodels\\tsa\\base\\tsa_model.py:473: ValueWarning: No frequency information was provided, so inferred frequency D will be used.\n",
      "  self._init_dates(dates, freq)\n"
     ]
    },
    {
     "name": "stdout",
     "output_type": "stream",
     "text": [
      "Fitting and forecasting for city/state: Aurora, Illinois\n"
     ]
    },
    {
     "name": "stderr",
     "output_type": "stream",
     "text": [
      "C:\\Users\\darde\\anaconda3\\Lib\\site-packages\\statsmodels\\tsa\\base\\tsa_model.py:473: ValueWarning: No frequency information was provided, so inferred frequency D will be used.\n",
      "  self._init_dates(dates, freq)\n"
     ]
    },
    {
     "name": "stdout",
     "output_type": "stream",
     "text": [
      "Fitting and forecasting for city/state: Santa Rosa, California\n"
     ]
    },
    {
     "name": "stderr",
     "output_type": "stream",
     "text": [
      "C:\\Users\\darde\\anaconda3\\Lib\\site-packages\\statsmodels\\tsa\\base\\tsa_model.py:473: ValueWarning: No frequency information was provided, so inferred frequency D will be used.\n",
      "  self._init_dates(dates, freq)\n"
     ]
    },
    {
     "name": "stdout",
     "output_type": "stream",
     "text": [
      "Fitting and forecasting for city/state: Shreveport, Louisiana\n"
     ]
    },
    {
     "name": "stderr",
     "output_type": "stream",
     "text": [
      "C:\\Users\\darde\\anaconda3\\Lib\\site-packages\\statsmodels\\tsa\\base\\tsa_model.py:473: ValueWarning: No frequency information was provided, so inferred frequency D will be used.\n",
      "  self._init_dates(dates, freq)\n"
     ]
    },
    {
     "name": "stdout",
     "output_type": "stream",
     "text": [
      "Fitting and forecasting for city/state: Rancho Cucamonga, California\n"
     ]
    },
    {
     "name": "stderr",
     "output_type": "stream",
     "text": [
      "C:\\Users\\darde\\anaconda3\\Lib\\site-packages\\statsmodels\\tsa\\base\\tsa_model.py:473: ValueWarning: No frequency information was provided, so inferred frequency D will be used.\n",
      "  self._init_dates(dates, freq)\n"
     ]
    },
    {
     "name": "stdout",
     "output_type": "stream",
     "text": [
      "Fitting and forecasting for city/state: Pembroke Pines, Florida\n"
     ]
    },
    {
     "name": "stderr",
     "output_type": "stream",
     "text": [
      "C:\\Users\\darde\\anaconda3\\Lib\\site-packages\\statsmodels\\tsa\\base\\tsa_model.py:473: ValueWarning: No frequency information was provided, so inferred frequency D will be used.\n",
      "  self._init_dates(dates, freq)\n"
     ]
    },
    {
     "name": "stdout",
     "output_type": "stream",
     "text": [
      "Fitting and forecasting for city/state: Springfield, Missouri\n"
     ]
    },
    {
     "name": "stderr",
     "output_type": "stream",
     "text": [
      "C:\\Users\\darde\\anaconda3\\Lib\\site-packages\\statsmodels\\tsa\\base\\tsa_model.py:473: ValueWarning: No frequency information was provided, so inferred frequency D will be used.\n",
      "  self._init_dates(dates, freq)\n"
     ]
    },
    {
     "name": "stdout",
     "output_type": "stream",
     "text": [
      "Fitting and forecasting for city/state: Fort Collins, Colorado\n"
     ]
    },
    {
     "name": "stderr",
     "output_type": "stream",
     "text": [
      "C:\\Users\\darde\\anaconda3\\Lib\\site-packages\\statsmodels\\tsa\\base\\tsa_model.py:473: ValueWarning: No frequency information was provided, so inferred frequency D will be used.\n",
      "  self._init_dates(dates, freq)\n"
     ]
    },
    {
     "name": "stdout",
     "output_type": "stream",
     "text": [
      "Fitting and forecasting for city/state: Murfreesboro, Tennessee\n"
     ]
    },
    {
     "name": "stderr",
     "output_type": "stream",
     "text": [
      "C:\\Users\\darde\\anaconda3\\Lib\\site-packages\\statsmodels\\tsa\\base\\tsa_model.py:473: ValueWarning: No frequency information was provided, so inferred frequency D will be used.\n",
      "  self._init_dates(dates, freq)\n"
     ]
    },
    {
     "name": "stdout",
     "output_type": "stream",
     "text": [
      "Fitting and forecasting for city/state: Oceanside, California\n"
     ]
    },
    {
     "name": "stderr",
     "output_type": "stream",
     "text": [
      "C:\\Users\\darde\\anaconda3\\Lib\\site-packages\\statsmodels\\tsa\\base\\tsa_model.py:473: ValueWarning: No frequency information was provided, so inferred frequency D will be used.\n",
      "  self._init_dates(dates, freq)\n"
     ]
    },
    {
     "name": "stdout",
     "output_type": "stream",
     "text": [
      "Fitting and forecasting for city/state: Garden Grove, California\n"
     ]
    },
    {
     "name": "stderr",
     "output_type": "stream",
     "text": [
      "C:\\Users\\darde\\anaconda3\\Lib\\site-packages\\statsmodels\\tsa\\base\\tsa_model.py:473: ValueWarning: No frequency information was provided, so inferred frequency D will be used.\n",
      "  self._init_dates(dates, freq)\n"
     ]
    },
    {
     "name": "stdout",
     "output_type": "stream",
     "text": [
      "Fitting and forecasting for city/state: Denton, Texas\n"
     ]
    },
    {
     "name": "stderr",
     "output_type": "stream",
     "text": [
      "C:\\Users\\darde\\anaconda3\\Lib\\site-packages\\statsmodels\\tsa\\base\\tsa_model.py:473: ValueWarning: No frequency information was provided, so inferred frequency D will be used.\n",
      "  self._init_dates(dates, freq)\n"
     ]
    },
    {
     "name": "stdout",
     "output_type": "stream",
     "text": [
      "Fitting and forecasting for city/state: Lancaster, California\n"
     ]
    },
    {
     "name": "stderr",
     "output_type": "stream",
     "text": [
      "C:\\Users\\darde\\anaconda3\\Lib\\site-packages\\statsmodels\\tsa\\base\\tsa_model.py:473: ValueWarning: No frequency information was provided, so inferred frequency D will be used.\n",
      "  self._init_dates(dates, freq)\n"
     ]
    },
    {
     "name": "stdout",
     "output_type": "stream",
     "text": [
      "Fitting and forecasting for city/state: Surprise, Arizona\n"
     ]
    },
    {
     "name": "stderr",
     "output_type": "stream",
     "text": [
      "C:\\Users\\darde\\anaconda3\\Lib\\site-packages\\statsmodels\\tsa\\base\\tsa_model.py:473: ValueWarning: No frequency information was provided, so inferred frequency D will be used.\n",
      "  self._init_dates(dates, freq)\n"
     ]
    },
    {
     "name": "stdout",
     "output_type": "stream",
     "text": [
      "Fitting and forecasting for city/state: Roseville, California\n"
     ]
    },
    {
     "name": "stderr",
     "output_type": "stream",
     "text": [
      "C:\\Users\\darde\\anaconda3\\Lib\\site-packages\\statsmodels\\tsa\\base\\tsa_model.py:473: ValueWarning: No frequency information was provided, so inferred frequency D will be used.\n",
      "  self._init_dates(dates, freq)\n"
     ]
    },
    {
     "name": "stdout",
     "output_type": "stream",
     "text": [
      "Fitting and forecasting for city/state: Killeen, Texas\n"
     ]
    },
    {
     "name": "stderr",
     "output_type": "stream",
     "text": [
      "C:\\Users\\darde\\anaconda3\\Lib\\site-packages\\statsmodels\\tsa\\base\\tsa_model.py:473: ValueWarning: No frequency information was provided, so inferred frequency D will be used.\n",
      "  self._init_dates(dates, freq)\n"
     ]
    },
    {
     "name": "stdout",
     "output_type": "stream",
     "text": [
      "Fitting and forecasting for city/state: Corona, California\n"
     ]
    },
    {
     "name": "stderr",
     "output_type": "stream",
     "text": [
      "C:\\Users\\darde\\anaconda3\\Lib\\site-packages\\statsmodels\\tsa\\base\\tsa_model.py:473: ValueWarning: No frequency information was provided, so inferred frequency D will be used.\n",
      "  self._init_dates(dates, freq)\n"
     ]
    },
    {
     "name": "stdout",
     "output_type": "stream",
     "text": [
      "Fitting and forecasting for city/state: Palmdale, California\n"
     ]
    },
    {
     "name": "stderr",
     "output_type": "stream",
     "text": [
      "C:\\Users\\darde\\anaconda3\\Lib\\site-packages\\statsmodels\\tsa\\base\\tsa_model.py:473: ValueWarning: No frequency information was provided, so inferred frequency D will be used.\n",
      "  self._init_dates(dates, freq)\n"
     ]
    },
    {
     "name": "stdout",
     "output_type": "stream",
     "text": [
      "Fitting and forecasting for city/state: Salinas, California\n"
     ]
    },
    {
     "name": "stderr",
     "output_type": "stream",
     "text": [
      "C:\\Users\\darde\\anaconda3\\Lib\\site-packages\\statsmodels\\tsa\\base\\tsa_model.py:473: ValueWarning: No frequency information was provided, so inferred frequency D will be used.\n",
      "  self._init_dates(dates, freq)\n"
     ]
    },
    {
     "name": "stdout",
     "output_type": "stream",
     "text": [
      "Fitting and forecasting for city/state: Charleston, South Carolina\n"
     ]
    },
    {
     "name": "stderr",
     "output_type": "stream",
     "text": [
      "C:\\Users\\darde\\anaconda3\\Lib\\site-packages\\statsmodels\\tsa\\base\\tsa_model.py:473: ValueWarning: No frequency information was provided, so inferred frequency D will be used.\n",
      "  self._init_dates(dates, freq)\n"
     ]
    },
    {
     "name": "stdout",
     "output_type": "stream",
     "text": [
      "Fitting and forecasting for city/state: Macon, Georgia\n"
     ]
    },
    {
     "name": "stderr",
     "output_type": "stream",
     "text": [
      "C:\\Users\\darde\\anaconda3\\Lib\\site-packages\\statsmodels\\tsa\\base\\tsa_model.py:473: ValueWarning: No frequency information was provided, so inferred frequency D will be used.\n",
      "  self._init_dates(dates, freq)\n"
     ]
    },
    {
     "name": "stdout",
     "output_type": "stream",
     "text": [
      "Fitting and forecasting for city/state: Lakewood, Colorado\n"
     ]
    },
    {
     "name": "stderr",
     "output_type": "stream",
     "text": [
      "C:\\Users\\darde\\anaconda3\\Lib\\site-packages\\statsmodels\\tsa\\base\\tsa_model.py:473: ValueWarning: No frequency information was provided, so inferred frequency D will be used.\n",
      "  self._init_dates(dates, freq)\n"
     ]
    },
    {
     "name": "stdout",
     "output_type": "stream",
     "text": [
      "Fitting and forecasting for city/state: Paterson, New Jersey\n"
     ]
    },
    {
     "name": "stderr",
     "output_type": "stream",
     "text": [
      "C:\\Users\\darde\\anaconda3\\Lib\\site-packages\\statsmodels\\tsa\\base\\tsa_model.py:473: ValueWarning: No frequency information was provided, so inferred frequency D will be used.\n",
      "  self._init_dates(dates, freq)\n"
     ]
    },
    {
     "name": "stdout",
     "output_type": "stream",
     "text": [
      "Fitting and forecasting for city/state: Hollywood, Florida\n"
     ]
    },
    {
     "name": "stderr",
     "output_type": "stream",
     "text": [
      "C:\\Users\\darde\\anaconda3\\Lib\\site-packages\\statsmodels\\tsa\\base\\tsa_model.py:473: ValueWarning: No frequency information was provided, so inferred frequency D will be used.\n",
      "  self._init_dates(dates, freq)\n"
     ]
    },
    {
     "name": "stdout",
     "output_type": "stream",
     "text": [
      "Fitting and forecasting for city/state: Alexandria, Virginia\n"
     ]
    },
    {
     "name": "stderr",
     "output_type": "stream",
     "text": [
      "C:\\Users\\darde\\anaconda3\\Lib\\site-packages\\statsmodels\\tsa\\base\\tsa_model.py:473: ValueWarning: No frequency information was provided, so inferred frequency D will be used.\n",
      "  self._init_dates(dates, freq)\n"
     ]
    },
    {
     "name": "stdout",
     "output_type": "stream",
     "text": [
      "Fitting and forecasting for city/state: Hayward, California\n"
     ]
    },
    {
     "name": "stderr",
     "output_type": "stream",
     "text": [
      "C:\\Users\\darde\\anaconda3\\Lib\\site-packages\\statsmodels\\tsa\\base\\tsa_model.py:473: ValueWarning: No frequency information was provided, so inferred frequency D will be used.\n",
      "  self._init_dates(dates, freq)\n"
     ]
    },
    {
     "name": "stdout",
     "output_type": "stream",
     "text": [
      "Fitting and forecasting for city/state: Springfield, Massachusetts\n"
     ]
    },
    {
     "name": "stderr",
     "output_type": "stream",
     "text": [
      "C:\\Users\\darde\\anaconda3\\Lib\\site-packages\\statsmodels\\tsa\\base\\tsa_model.py:473: ValueWarning: No frequency information was provided, so inferred frequency D will be used.\n",
      "  self._init_dates(dates, freq)\n"
     ]
    },
    {
     "name": "stdout",
     "output_type": "stream",
     "text": [
      "Fitting and forecasting for city/state: Kansas City, Kansas\n"
     ]
    },
    {
     "name": "stderr",
     "output_type": "stream",
     "text": [
      "C:\\Users\\darde\\anaconda3\\Lib\\site-packages\\statsmodels\\tsa\\base\\tsa_model.py:473: ValueWarning: No frequency information was provided, so inferred frequency D will be used.\n",
      "  self._init_dates(dates, freq)\n"
     ]
    },
    {
     "name": "stdout",
     "output_type": "stream",
     "text": [
      "Fitting and forecasting for city/state: Bellevue, Washington\n"
     ]
    },
    {
     "name": "stderr",
     "output_type": "stream",
     "text": [
      "C:\\Users\\darde\\anaconda3\\Lib\\site-packages\\statsmodels\\tsa\\base\\tsa_model.py:473: ValueWarning: No frequency information was provided, so inferred frequency D will be used.\n",
      "  self._init_dates(dates, freq)\n"
     ]
    },
    {
     "name": "stdout",
     "output_type": "stream",
     "text": [
      "Fitting and forecasting for city/state: Sunnyvale, California\n"
     ]
    },
    {
     "name": "stderr",
     "output_type": "stream",
     "text": [
      "C:\\Users\\darde\\anaconda3\\Lib\\site-packages\\statsmodels\\tsa\\base\\tsa_model.py:473: ValueWarning: No frequency information was provided, so inferred frequency D will be used.\n",
      "  self._init_dates(dates, freq)\n"
     ]
    },
    {
     "name": "stdout",
     "output_type": "stream",
     "text": [
      "Fitting and forecasting for city/state: Joliet, Illinois\n"
     ]
    },
    {
     "name": "stderr",
     "output_type": "stream",
     "text": [
      "C:\\Users\\darde\\anaconda3\\Lib\\site-packages\\statsmodels\\tsa\\base\\tsa_model.py:473: ValueWarning: No frequency information was provided, so inferred frequency D will be used.\n",
      "  self._init_dates(dates, freq)\n"
     ]
    },
    {
     "name": "stdout",
     "output_type": "stream",
     "text": [
      "Fitting and forecasting for city/state: Naperville, Illinois\n"
     ]
    },
    {
     "name": "stderr",
     "output_type": "stream",
     "text": [
      "C:\\Users\\darde\\anaconda3\\Lib\\site-packages\\statsmodels\\tsa\\base\\tsa_model.py:473: ValueWarning: No frequency information was provided, so inferred frequency D will be used.\n",
      "  self._init_dates(dates, freq)\n"
     ]
    },
    {
     "name": "stdout",
     "output_type": "stream",
     "text": [
      "Fitting and forecasting for city/state: Olathe, Kansas\n"
     ]
    },
    {
     "name": "stderr",
     "output_type": "stream",
     "text": [
      "C:\\Users\\darde\\anaconda3\\Lib\\site-packages\\statsmodels\\tsa\\base\\tsa_model.py:473: ValueWarning: No frequency information was provided, so inferred frequency D will be used.\n",
      "  self._init_dates(dates, freq)\n"
     ]
    },
    {
     "name": "stdout",
     "output_type": "stream",
     "text": [
      "Fitting and forecasting for city/state: Bridgeport, Connecticut\n"
     ]
    },
    {
     "name": "stderr",
     "output_type": "stream",
     "text": [
      "C:\\Users\\darde\\anaconda3\\Lib\\site-packages\\statsmodels\\tsa\\base\\tsa_model.py:473: ValueWarning: No frequency information was provided, so inferred frequency D will be used.\n",
      "  self._init_dates(dates, freq)\n"
     ]
    },
    {
     "name": "stdout",
     "output_type": "stream",
     "text": [
      "Fitting and forecasting for city/state: McAllen, Texas\n"
     ]
    },
    {
     "name": "stderr",
     "output_type": "stream",
     "text": [
      "C:\\Users\\darde\\anaconda3\\Lib\\site-packages\\statsmodels\\tsa\\base\\tsa_model.py:473: ValueWarning: No frequency information was provided, so inferred frequency D will be used.\n",
      "  self._init_dates(dates, freq)\n"
     ]
    },
    {
     "name": "stdout",
     "output_type": "stream",
     "text": [
      "Fitting and forecasting for city/state: Savannah, Georgia\n"
     ]
    },
    {
     "name": "stderr",
     "output_type": "stream",
     "text": [
      "C:\\Users\\darde\\anaconda3\\Lib\\site-packages\\statsmodels\\tsa\\base\\tsa_model.py:473: ValueWarning: No frequency information was provided, so inferred frequency D will be used.\n",
      "  self._init_dates(dates, freq)\n"
     ]
    },
    {
     "name": "stdout",
     "output_type": "stream",
     "text": [
      "Fitting and forecasting for city/state: Escondido, California\n"
     ]
    },
    {
     "name": "stderr",
     "output_type": "stream",
     "text": [
      "C:\\Users\\darde\\anaconda3\\Lib\\site-packages\\statsmodels\\tsa\\base\\tsa_model.py:473: ValueWarning: No frequency information was provided, so inferred frequency D will be used.\n",
      "  self._init_dates(dates, freq)\n"
     ]
    },
    {
     "name": "stdout",
     "output_type": "stream",
     "text": [
      "Fitting and forecasting for city/state: Gainesville, Florida\n"
     ]
    },
    {
     "name": "stderr",
     "output_type": "stream",
     "text": [
      "C:\\Users\\darde\\anaconda3\\Lib\\site-packages\\statsmodels\\tsa\\base\\tsa_model.py:473: ValueWarning: No frequency information was provided, so inferred frequency D will be used.\n",
      "  self._init_dates(dates, freq)\n"
     ]
    },
    {
     "name": "stdout",
     "output_type": "stream",
     "text": [
      "Fitting and forecasting for city/state: Mesquite, Texas\n"
     ]
    },
    {
     "name": "stderr",
     "output_type": "stream",
     "text": [
      "C:\\Users\\darde\\anaconda3\\Lib\\site-packages\\statsmodels\\tsa\\base\\tsa_model.py:473: ValueWarning: No frequency information was provided, so inferred frequency D will be used.\n",
      "  self._init_dates(dates, freq)\n"
     ]
    },
    {
     "name": "stdout",
     "output_type": "stream",
     "text": [
      "Fitting and forecasting for city/state: Waco, Texas\n"
     ]
    },
    {
     "name": "stderr",
     "output_type": "stream",
     "text": [
      "C:\\Users\\darde\\anaconda3\\Lib\\site-packages\\statsmodels\\tsa\\base\\tsa_model.py:473: ValueWarning: No frequency information was provided, so inferred frequency D will be used.\n",
      "  self._init_dates(dates, freq)\n"
     ]
    },
    {
     "name": "stdout",
     "output_type": "stream",
     "text": [
      "Fitting and forecasting for city/state: Visalia, California\n"
     ]
    },
    {
     "name": "stderr",
     "output_type": "stream",
     "text": [
      "C:\\Users\\darde\\anaconda3\\Lib\\site-packages\\statsmodels\\tsa\\base\\tsa_model.py:473: ValueWarning: No frequency information was provided, so inferred frequency D will be used.\n",
      "  self._init_dates(dates, freq)\n"
     ]
    },
    {
     "name": "stdout",
     "output_type": "stream",
     "text": [
      "Fitting and forecasting for city/state: Thornton, Colorado\n"
     ]
    },
    {
     "name": "stderr",
     "output_type": "stream",
     "text": [
      "C:\\Users\\darde\\anaconda3\\Lib\\site-packages\\statsmodels\\tsa\\base\\tsa_model.py:473: ValueWarning: No frequency information was provided, so inferred frequency D will be used.\n",
      "  self._init_dates(dates, freq)\n"
     ]
    },
    {
     "name": "stdout",
     "output_type": "stream",
     "text": [
      "Fitting and forecasting for city/state: Rockford, Illinois\n"
     ]
    },
    {
     "name": "stderr",
     "output_type": "stream",
     "text": [
      "C:\\Users\\darde\\anaconda3\\Lib\\site-packages\\statsmodels\\tsa\\base\\tsa_model.py:473: ValueWarning: No frequency information was provided, so inferred frequency D will be used.\n",
      "  self._init_dates(dates, freq)\n"
     ]
    },
    {
     "name": "stdout",
     "output_type": "stream",
     "text": [
      "Fitting and forecasting for city/state: Syracuse, New York\n"
     ]
    },
    {
     "name": "stderr",
     "output_type": "stream",
     "text": [
      "C:\\Users\\darde\\anaconda3\\Lib\\site-packages\\statsmodels\\tsa\\base\\tsa_model.py:473: ValueWarning: No frequency information was provided, so inferred frequency D will be used.\n",
      "  self._init_dates(dates, freq)\n"
     ]
    },
    {
     "name": "stdout",
     "output_type": "stream",
     "text": [
      "Fitting and forecasting for city/state: Pasadena, Texas\n"
     ]
    },
    {
     "name": "stderr",
     "output_type": "stream",
     "text": [
      "C:\\Users\\darde\\anaconda3\\Lib\\site-packages\\statsmodels\\tsa\\base\\tsa_model.py:473: ValueWarning: No frequency information was provided, so inferred frequency D will be used.\n",
      "  self._init_dates(dates, freq)\n"
     ]
    },
    {
     "name": "stdout",
     "output_type": "stream",
     "text": [
      "Fitting and forecasting for city/state: Columbia, South Carolina\n"
     ]
    },
    {
     "name": "stderr",
     "output_type": "stream",
     "text": [
      "C:\\Users\\darde\\anaconda3\\Lib\\site-packages\\statsmodels\\tsa\\base\\tsa_model.py:473: ValueWarning: No frequency information was provided, so inferred frequency D will be used.\n",
      "  self._init_dates(dates, freq)\n"
     ]
    },
    {
     "name": "stdout",
     "output_type": "stream",
     "text": [
      "Fitting and forecasting for city/state: Pomona, California\n"
     ]
    },
    {
     "name": "stderr",
     "output_type": "stream",
     "text": [
      "C:\\Users\\darde\\anaconda3\\Lib\\site-packages\\statsmodels\\tsa\\base\\tsa_model.py:473: ValueWarning: No frequency information was provided, so inferred frequency D will be used.\n",
      "  self._init_dates(dates, freq)\n"
     ]
    },
    {
     "name": "stdout",
     "output_type": "stream",
     "text": [
      "Fitting and forecasting for city/state: Palm Bay, Florida\n"
     ]
    },
    {
     "name": "stderr",
     "output_type": "stream",
     "text": [
      "C:\\Users\\darde\\anaconda3\\Lib\\site-packages\\statsmodels\\tsa\\base\\tsa_model.py:473: ValueWarning: No frequency information was provided, so inferred frequency D will be used.\n",
      "  self._init_dates(dates, freq)\n"
     ]
    }
   ],
   "source": [
    "all_forecasts = []\n",
    "all_actuals = []\n",
    "\n",
    "for city_state in solar_df['City_State'].unique():\n",
    "    print(f\"Fitting and forecasting for city/state: {city_state}\")\n",
    "\n",
    "    city_data = solar_df[solar_df['City_State'] == city_state]\n",
    "\n",
    "    train_data = city_data[city_data.index < split_date][features]\n",
    "    test_data = city_data[city_data.index >= split_date][features]\n",
    "    train_data_diff = train_data.diff().dropna()\n",
    "\n",
    "    model = VAR(train_data_diff)\n",
    "    model_fit = model.fit(maxlags=15, ic='aic')\n",
    "\n",
    "    forecast = model_fit.forecast(train_data_diff.values[-model_fit.k_ar:], steps=len(test_data))\n",
    "\n",
    "    forecast_df = pd.DataFrame(forecast, index=test_data.index, columns=features)\n",
    "\n",
    "    forecast_df = forecast_df.cumsum() + train_data.iloc[-1]\n",
    "\n",
    "    forecast_df['City_State'] = city_state\n",
    "\n",
    "    test_data['City_State'] = city_state\n",
    "\n",
    "    all_forecasts.append(forecast_df)\n",
    "    all_actuals.append(test_data)\n",
    "\n",
    "all_forecasts_df = pd.concat(all_forecasts)\n",
    "all_actuals_df = pd.concat(all_actuals)"
   ]
  },
  {
   "cell_type": "markdown",
   "id": "7faf5229",
   "metadata": {},
   "source": [
    "##### VAR Evaluation Metrics\n",
    "\n"
   ]
  },
  {
   "cell_type": "code",
   "execution_count": 11,
   "id": "2d1a5c07",
   "metadata": {},
   "outputs": [
    {
     "name": "stdout",
     "output_type": "stream",
     "text": [
      "R-squared values for all features:\n",
      "T2M: -2.1537222387796895\n",
      "T2MWET: -1.7142326043626595\n",
      "RH2M: -0.4411755077702646\n",
      "WS10M: -0.13419375652038124\n",
      "PRECTOTCORR: -0.1687323652794963\n",
      "ALLSKY_SFC_SW_DWN: -2.5140333245132536\n",
      "CLRSKY_SFC_SW_DWN: -3.2516851812646737\n",
      "ALLSKY_SFC_SW_DIFF: -1.7287180340853174\n",
      "CLRSKY_SFC_SW_DIFF: -3.0457726848254216\n",
      "ALLSKY_KT: -0.29362193920175517\n",
      "ALLSKY_SFC_PAR_TOT: -2.8279575724921084\n",
      "CLRSKY_SFC_PAR_TOT: -3.4623311140493263\n",
      "ALLSKY_SFC_UVA: -3.037362599950381\n",
      "ALLSKY_SFC_UVB: -4.202648600733977\n",
      "ALLSKY_SFC_UV_INDEX: -4.352104331700811\n"
     ]
    }
   ],
   "source": [
    "all_actuals_df = all_actuals_df.sort_index()\n",
    "all_forecasts_df = all_forecasts_df.sort_index()\n",
    "\n",
    "r2_scores = {}\n",
    "\n",
    "for feature in features:\n",
    "    actual = all_actuals_df[feature]\n",
    "    predicted = all_forecasts_df[feature]\n",
    "    \n",
    "    r2 = r2_score(actual, predicted)\n",
    "    \n",
    "    r2_scores[feature] = r2\n",
    "\n",
    "print(\"R-squared values for all features:\")\n",
    "for feature, r2 in r2_scores.items():\n",
    "    print(f\"{feature}: {r2}\")"
   ]
  },
  {
   "cell_type": "markdown",
   "id": "2de4c574",
   "metadata": {},
   "source": [
    "#### Notes: We have negative numbers this could be due to our data note being fully stationary. This being a very complex dataset, we need to look at alternatives. "
   ]
  },
  {
   "cell_type": "markdown",
   "id": "bd8f5b0c",
   "metadata": {},
   "source": [
    "## LSTM"
   ]
  },
  {
   "cell_type": "markdown",
   "id": "8a043a9a",
   "metadata": {},
   "source": [
    "#### We are going to start by normalizing the data. \n"
   ]
  },
  {
   "cell_type": "code",
   "execution_count": 12,
   "id": "b5ac33e4",
   "metadata": {},
   "outputs": [],
   "source": [
    "scaler = MinMaxScaler(feature_range=(0, 1))\n",
    "\n",
    "train_data_scaled = scaler.fit_transform(train_data[features])\n",
    "test_data_scaled = scaler.transform(test_data[features])"
   ]
  },
  {
   "cell_type": "code",
   "execution_count": 13,
   "id": "4e253a29",
   "metadata": {},
   "outputs": [],
   "source": [
    "# Store to DF not sure if this step is requred. but it should be easier later\n",
    "train_data_scaled = pd.DataFrame(train_data_scaled, columns=features, index=train_data.index)\n",
    "test_data_scaled = pd.DataFrame(test_data_scaled, columns=features, index=test_data.index)"
   ]
  },
  {
   "cell_type": "markdown",
   "id": "46d2f2e6",
   "metadata": {},
   "source": [
    "### Create Sequences for LSTM\n",
    "\n",
    "Sequential data is 3D shape. They work with sequential data where order of the data points matter. So we need to define create_sequenses function and will take last 30 steps. "
   ]
  },
  {
   "cell_type": "code",
   "execution_count": 14,
   "id": "f61b8528",
   "metadata": {},
   "outputs": [
    {
     "name": "stdout",
     "output_type": "stream",
     "text": [
      "X_train shape: (912, 30, 15)\n",
      "y_train shape: (912, 15)\n",
      "X_test shape: (214, 30, 15)\n",
      "y_test shape: (214, 15)\n"
     ]
    }
   ],
   "source": [
    "def create_sequences(data, time_steps=30):\n",
    "    sequences, labels = [], []\n",
    "    for i in range(len(data) - time_steps):\n",
    "        seq = data.iloc[i:(i + time_steps)].values\n",
    "        label = data.iloc[i + time_steps].values\n",
    "        sequences.append(seq)\n",
    "        labels.append(label)\n",
    "    return np.array(sequences), np.array(labels)\n",
    "\n",
    "\n",
    "X_train, y_train = create_sequences(train_data_scaled)\n",
    "X_test, y_test = create_sequences(test_data_scaled)\n",
    "\n",
    "print(\"X_train shape:\", X_train.shape)\n",
    "print(\"y_train shape:\", y_train.shape)\n",
    "print(\"X_test shape:\", X_test.shape)\n",
    "print(\"y_test shape:\", y_test.shape)"
   ]
  },
  {
   "cell_type": "markdown",
   "id": "7b83ec11",
   "metadata": {},
   "source": [
    "#### Define LSTM\n",
    "    To define the model we will use 50 neurons for our lstm layer. With 25 units in this dense layer to reduce the dimensionality. We will use our optimizer as Adam"
   ]
  },
  {
   "cell_type": "code",
   "execution_count": 15,
   "id": "bc06cc1d",
   "metadata": {},
   "outputs": [],
   "source": [
    "# We also have to define the LSTM model. We have to input the shape for xtrain. And output layer for the same number of features\n",
    "\n",
    "model = Sequential()\n",
    "model.add(LSTM(50, return_sequences=True, input_shape=(X_train.shape[1], X_train.shape[2])))\n",
    "model.add(LSTM(50, return_sequences=False))\n",
    "model.add(Dense(25))\n",
    "model.add(Dense(len(features))) \n",
    "\n",
    "model.compile(optimizer='adam', loss='mean_squared_error')"
   ]
  },
  {
   "cell_type": "markdown",
   "id": "f2c5ab99",
   "metadata": {},
   "source": [
    "#### Train Model\n",
    "\n",
    "- Few things to note. We don't want the model to overfit to we will use 20 epoches and the default 32 batch size. "
   ]
  },
  {
   "cell_type": "code",
   "execution_count": 16,
   "id": "09e14256",
   "metadata": {},
   "outputs": [
    {
     "name": "stdout",
     "output_type": "stream",
     "text": [
      "7/7 [==============================] - 1s 11ms/step\n"
     ]
    }
   ],
   "source": [
    "model.fit(X_train, y_train, epochs=20, batch_size=32, validation_data=(X_test, y_test), verbose=0)\n",
    "\n",
    "test_predictions = model.predict(X_test)"
   ]
  },
  {
   "cell_type": "code",
   "execution_count": 17,
   "id": "6f628d4c",
   "metadata": {},
   "outputs": [],
   "source": [
    "#Reverse the scaler transformation\n",
    "test_predictions = scaler.inverse_transform(test_predictions)\n",
    "y_test_actual = scaler.inverse_transform(y_test)"
   ]
  },
  {
   "cell_type": "code",
   "execution_count": 18,
   "id": "dab1a12c",
   "metadata": {},
   "outputs": [],
   "source": [
    "ls_forecasts = test_predictions\n",
    "ls_actuals = y_test_actual"
   ]
  },
  {
   "cell_type": "code",
   "execution_count": 19,
   "id": "aa224818",
   "metadata": {},
   "outputs": [
    {
     "name": "stdout",
     "output_type": "stream",
     "text": [
      "Predictions shape: (214, 15)\n",
      "Actual values shape: (214, 15)\n"
     ]
    }
   ],
   "source": [
    "print(\"Predictions shape:\", test_predictions.shape)\n",
    "print(\"Actual values shape:\", y_test_actual.shape)"
   ]
  },
  {
   "cell_type": "code",
   "execution_count": 20,
   "id": "aa9dbe1c",
   "metadata": {},
   "outputs": [
    {
     "name": "stdout",
     "output_type": "stream",
     "text": [
      "Mean Absolute Error (MAE): 2.530454906729702\n",
      "Mean Squared Error (MSE): 35.43325701976834\n",
      "Root Mean Squared Error (RMSE): 5.952584062385708\n",
      "R-squared: 0.4495776652384264\n"
     ]
    }
   ],
   "source": [
    "mae = mean_absolute_error(ls_actuals, ls_forecasts)\n",
    "mse = mean_squared_error(ls_actuals, ls_forecasts)\n",
    "rmse = np.sqrt(mse)\n",
    "r2 = r2_score(ls_actuals, ls_forecasts)\n",
    "\n",
    "print(f\"Mean Absolute Error (MAE): {mae}\")\n",
    "print(f\"Mean Squared Error (MSE): {mse}\")\n",
    "print(f\"Root Mean Squared Error (RMSE): {rmse}\")\n",
    "print(f\"R-squared: {r2}\")"
   ]
  },
  {
   "cell_type": "markdown",
   "id": "3402f8f2",
   "metadata": {},
   "source": [
    "###### Performance wasn't that great. So let's do some minor hyperperameter tuning\n",
    "\n",
    "We are goig to use Grid Search so it gives us the best set of hyperparameters and their performance metrics. We will wrap the model with the kerasRegressor"
   ]
  },
  {
   "cell_type": "code",
   "execution_count": 25,
   "id": "6d631542",
   "metadata": {},
   "outputs": [
    {
     "name": "stderr",
     "output_type": "stream",
     "text": [
      "C:\\Users\\darde\\AppData\\Local\\Temp\\ipykernel_1004\\498631110.py:10: DeprecationWarning: KerasRegressor is deprecated, use Sci-Keras (https://github.com/adriangb/scikeras) instead. See https://www.adriangb.com/scikeras/stable/migration.html for help migrating.\n",
      "  model = KerasRegressor(build_fn=create_lstm_model, verbose=0)\n"
     ]
    }
   ],
   "source": [
    "def create_lstm_model(lstm_units=50, dense_units=25, learning_rate=0.001):\n",
    "    model = Sequential()\n",
    "    model.add(LSTM(lstm_units, return_sequences=True, input_shape=(X_train.shape[1], X_train.shape[2])))\n",
    "    model.add(LSTM(lstm_units))\n",
    "    model.add(Dense(dense_units))\n",
    "    model.add(Dense(len(features)))\n",
    "    model.compile(optimizer=tf.keras.optimizers.Adam(learning_rate=learning_rate), loss='mean_squared_error')\n",
    "    return model\n",
    "\n",
    "model = KerasRegressor(build_fn=create_lstm_model, verbose=0)"
   ]
  },
  {
   "cell_type": "code",
   "execution_count": 24,
   "id": "55698d4d",
   "metadata": {},
   "outputs": [
    {
     "name": "stdout",
     "output_type": "stream",
     "text": [
      "Fitting 3 folds for each of 32 candidates, totalling 96 fits\n",
      "Best: -0.011880449019372463 using {'batch_size': 64, 'dense_units': 50, 'epochs': 50, 'learning_rate': 0.01, 'lstm_units': 50}\n"
     ]
    }
   ],
   "source": [
    "\n",
    "param_grid = {\n",
    "    'lstm_units': [50, 100],\n",
    "    'dense_units': [25, 50],\n",
    "    'batch_size': [32, 64],\n",
    "    'epochs': [20, 50],\n",
    "    'learning_rate': [0.001, 0.01]\n",
    "}\n",
    "\n",
    "\n",
    "grid = GridSearchCV(estimator=model, param_grid=param_grid, cv=3, verbose=2, n_jobs=-1)\n",
    "\n",
    "grid_result = grid.fit(X_train, y_train)\n",
    "\n",
    "\n",
    "print(f\"Best: {grid_result.best_score_} using {grid_result.best_params_}\")\n"
   ]
  },
  {
   "cell_type": "code",
   "execution_count": 27,
   "id": "c1527f21",
   "metadata": {},
   "outputs": [
    {
     "name": "stdout",
     "output_type": "stream",
     "text": [
      "Best Model Performance:\n",
      "MAE: 2.3117460685933935\n",
      "MSE: 29.310523342393825\n",
      "RMSE: 5.413919406713941\n",
      "R-squared: 0.5327639866819557\n"
     ]
    }
   ],
   "source": [
    "best_model = grid_result.best_estimator_\n",
    "\n",
    "test_predictions = best_model.predict(X_test)\n",
    "test_predictions = scaler.inverse_transform(test_predictions)\n",
    "y_test_actual = scaler.inverse_transform(y_test)\n",
    "\n",
    "mae = mean_absolute_error(y_test_actual, test_predictions)\n",
    "mse = mean_squared_error(y_test_actual, test_predictions)\n",
    "rmse = np.sqrt(mse)\n",
    "r2 = r2_score(y_test_actual, test_predictions)\n",
    "\n",
    "print(f\"Best Model Performance:\\nMAE: {mae}\\nMSE: {mse}\\nRMSE: {rmse}\\nR-squared: {r2}\")"
   ]
  },
  {
   "cell_type": "markdown",
   "id": "2ac46179",
   "metadata": {},
   "source": [
    "#### Visualize the results"
   ]
  },
  {
   "cell_type": "code",
   "execution_count": 28,
   "id": "f3626aa2",
   "metadata": {},
   "outputs": [
    {
     "data": {
      "image/png": "[encoded data removed]",
      "text/plain": [
       "<Figure size 1400x700 with 1 Axes>"
      ]
     },
     "metadata": {},
     "output_type": "display_data"
    }
   ],
   "source": [
    "\n",
    "residuals = y_test_actual - test_predictions\n",
    "residuals_df = pd.DataFrame(residuals, columns=features)\n",
    "\n",
    "plt.figure(figsize=(14, 7))\n",
    "plt.plot(residuals_df)\n",
    "plt.title('Residuals Over Time')\n",
    "plt.xlabel('Time')\n",
    "plt.ylabel('Residuals')\n",
    "plt.axhline(0, color='red', linestyle='--')\n",
    "plt.legend(features, loc='upper right')\n",
    "plt.show()"
   ]
  },
  {
   "cell_type": "code",
   "execution_count": 29,
   "id": "10bd7bea",
   "metadata": {},
   "outputs": [
    {
     "data": {
      "image/png": "[encoded data removed]",
      "text/plain": [
       "<Figure size 1400x700 with 1 Axes>"
      ]
     },
     "metadata": {},
     "output_type": "display_data"
    }
   ],
   "source": [
    "plt.figure(figsize=(14, 7))\n",
    "\n",
    "for feature in features:\n",
    "    plt.scatter(test_predictions[:, features.index(feature)], residuals_df[feature], label=feature, alpha=0.5)\n",
    "\n",
    "plt.title('Residuals vs. Predicted Values')\n",
    "plt.xlabel('Predicted Values')\n",
    "plt.ylabel('Residuals')\n",
    "plt.axhline(0, color='red', linestyle='--')\n",
    "plt.legend(loc='upper right')\n",
    "plt.show()"
   ]
  },
  {
   "cell_type": "markdown",
   "id": "a1d90a0c",
   "metadata": {},
   "source": [
    "### Cross-validation \n",
    "We are going to see if CV will help us improve our model"
   ]
  },
  {
   "cell_type": "code",
   "execution_count": 32,
   "id": "7cd418a3",
   "metadata": {},
   "outputs": [
    {
     "name": "stderr",
     "output_type": "stream",
     "text": [
      "C:\\Users\\darde\\AppData\\Local\\Temp\\ipykernel_1004\\1942433496.py:1: DeprecationWarning: KerasRegressor is deprecated, use Sci-Keras (https://github.com/adriangb/scikeras) instead. See https://www.adriangb.com/scikeras/stable/migration.html for help migrating.\n",
      "  model = KerasRegressor(build_fn=create_lstm_model, epochs=20, batch_size=32, verbose=0)\n"
     ]
    },
    {
     "name": "stdout",
     "output_type": "stream",
     "text": [
      "Cross-validated RMSE scores: [0.14992112 0.12915419 0.11865842 0.11399641 0.11798514]\n",
      "Mean RMSE: 0.12594305673395612\n",
      "Standard Deviation of RMSE: 0.012995193842832872\n"
     ]
    }
   ],
   "source": [
    "\n",
    "model = KerasRegressor(build_fn=create_lstm_model, epochs=20, batch_size=32, verbose=0)\n",
    "\n",
    "tscv = TimeSeriesSplit(n_splits=5)\n",
    "cv_results = cross_val_score(model, X_train, y_train, cv=tscv, scoring='neg_mean_squared_error', n_jobs=-1)\n",
    "\n",
    "mse_scores = -cv_results\n",
    "rmse_scores = np.sqrt(mse_scores)\n",
    "\n",
    "print(f\"Cross-validated RMSE scores: {rmse_scores}\")\n",
    "print(f\"Mean RMSE: {rmse_scores.mean()}\")\n",
    "print(f\"Standard Deviation of RMSE: {rmse_scores.std()}\")"
   ]
  },
  {
   "cell_type": "markdown",
   "id": "0753e15b",
   "metadata": {},
   "source": [
    "The cross-validation results showed consistent and low RMSE scores, suggesting that the model generally performs well across different folds. However, the final model’s RMSE on the test set is much higher, indicating that it might not generalize as well as the cross-validation suggested."
   ]
  },
  {
   "cell_type": "code",
   "execution_count": null,
   "id": "772601b6",
   "metadata": {},
   "outputs": [],
   "source": []
  }
 ],
 "metadata": {
  "kernelspec": {
   "display_name": "Python 3 (ipykernel)",
   "language": "python",
   "name": "python3"
  },
  "language_info": {
   "codemirror_mode": {
    "name": "ipython",
    "version": 3
   },
   "file_extension": ".py",
   "mimetype": "text/x-python",
   "name": "python",
   "nbconvert_exporter": "python",
   "pygments_lexer": "ipython3",
   "version": "3.11.5"
  }
 },
 "nbformat": 4,
 "nbformat_minor": 5
}
